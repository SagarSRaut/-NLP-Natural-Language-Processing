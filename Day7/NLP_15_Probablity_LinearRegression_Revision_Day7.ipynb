{
 "cells": [
  {
   "cell_type": "markdown",
   "id": "53dd15da-8938-4201-b192-fd76d22ea980",
   "metadata": {},
   "source": [
    "Theoritical  Probability"
   ]
  },
  {
   "cell_type": "code",
   "execution_count": 1,
   "id": "f902fb35-8f49-42f0-9f8a-a5e5d821b0c8",
   "metadata": {},
   "outputs": [],
   "source": [
    "def coin_flip_probability():\n",
    "    head_probability = 1/2\n",
    "    return head_probability\n",
    "def rolling_dice_probability(number):\n",
    "    if number not in range(1, 7):\n",
    "        raise ValueError(\"Numer must be between 1 and 6 \")\n",
    "    probability = 1/6\n",
    "    return probability"
   ]
  },
  {
   "cell_type": "code",
   "execution_count": 3,
   "id": "384c4d4d-ff32-44ca-b942-63b58d7feab1",
   "metadata": {},
   "outputs": [
    {
     "name": "stdout",
     "output_type": "stream",
     "text": [
      "Probability of head in a coin flip: <function coin_flip_probability at 0x0000021FEA2DA840>\n",
      "Probability of rolling a 4 on a die: 0.16666666666666666\n"
     ]
    }
   ],
   "source": [
    "# example usage\n",
    "coin_flip_result = coin_flip_probability()\n",
    "dice_roll_result= rolling_dice_probability(4)\n",
    "print(\"Probability of head in a coin flip:\", coin_flip_probability)\n",
    "print(\"Probability of rolling a 4 on a die:\", dice_roll_result)"
   ]
  },
  {
   "cell_type": "code",
   "execution_count": 9,
   "id": "29b392c7-db7d-479b-8e0a-a5916713cc4a",
   "metadata": {},
   "outputs": [],
   "source": [
    "import random\n",
    "import pandas as pd\n",
    "import numpy as np"
   ]
  },
  {
   "cell_type": "code",
   "execution_count": 10,
   "id": "4fd456f6-95d4-479d-b488-91961effc04b",
   "metadata": {},
   "outputs": [],
   "source": [
    "def simulate_coin_flip(num_flips):\n",
    "    results =[]\n",
    "    for _ in range(num_flips):\n",
    "        flip = random.choice([\"heads\",\"tails\"])\n",
    "        results.append(flip)\n",
    "    return results"
   ]
  },
  {
   "cell_type": "code",
   "execution_count": 11,
   "id": "705183ff-1f23-429b-8afe-d1c49c3ad318",
   "metadata": {},
   "outputs": [
    {
     "data": {
      "text/plain": [
       "['tails',\n",
       " 'heads',\n",
       " 'tails',\n",
       " 'heads',\n",
       " 'heads',\n",
       " 'tails',\n",
       " 'tails',\n",
       " 'heads',\n",
       " 'heads',\n",
       " 'heads',\n",
       " 'tails',\n",
       " 'heads',\n",
       " 'tails',\n",
       " 'tails',\n",
       " 'heads',\n",
       " 'tails',\n",
       " 'tails',\n",
       " 'tails',\n",
       " 'tails',\n",
       " 'tails',\n",
       " 'heads',\n",
       " 'heads',\n",
       " 'tails',\n",
       " 'heads',\n",
       " 'heads',\n",
       " 'heads',\n",
       " 'heads',\n",
       " 'tails',\n",
       " 'heads',\n",
       " 'tails',\n",
       " 'tails',\n",
       " 'tails',\n",
       " 'tails',\n",
       " 'tails',\n",
       " 'heads',\n",
       " 'heads',\n",
       " 'heads',\n",
       " 'heads',\n",
       " 'tails',\n",
       " 'heads',\n",
       " 'heads',\n",
       " 'tails',\n",
       " 'tails',\n",
       " 'heads',\n",
       " 'heads',\n",
       " 'tails',\n",
       " 'heads',\n",
       " 'heads',\n",
       " 'tails',\n",
       " 'tails',\n",
       " 'heads',\n",
       " 'heads',\n",
       " 'tails',\n",
       " 'tails',\n",
       " 'heads',\n",
       " 'tails',\n",
       " 'heads',\n",
       " 'heads',\n",
       " 'tails',\n",
       " 'heads',\n",
       " 'tails',\n",
       " 'tails',\n",
       " 'heads',\n",
       " 'tails',\n",
       " 'heads',\n",
       " 'tails',\n",
       " 'heads',\n",
       " 'heads',\n",
       " 'tails',\n",
       " 'tails',\n",
       " 'tails',\n",
       " 'heads',\n",
       " 'tails',\n",
       " 'tails',\n",
       " 'tails',\n",
       " 'tails',\n",
       " 'tails',\n",
       " 'heads',\n",
       " 'tails',\n",
       " 'heads',\n",
       " 'heads',\n",
       " 'heads',\n",
       " 'tails',\n",
       " 'tails',\n",
       " 'tails',\n",
       " 'heads',\n",
       " 'heads',\n",
       " 'tails',\n",
       " 'heads',\n",
       " 'tails',\n",
       " 'heads',\n",
       " 'heads',\n",
       " 'tails',\n",
       " 'heads',\n",
       " 'tails',\n",
       " 'tails',\n",
       " 'heads',\n",
       " 'heads',\n",
       " 'heads',\n",
       " 'heads']"
      ]
     },
     "execution_count": 11,
     "metadata": {},
     "output_type": "execute_result"
    }
   ],
   "source": [
    "simulate_coin_flip(100)"
   ]
  },
  {
   "cell_type": "code",
   "execution_count": 12,
   "id": "4ed7e98c-88b8-43cb-b31c-630a9235c7cb",
   "metadata": {},
   "outputs": [
    {
     "data": {
      "text/plain": [
       "tails    59\n",
       "heads    41\n",
       "Name: count, dtype: int64"
      ]
     },
     "execution_count": 12,
     "metadata": {},
     "output_type": "execute_result"
    }
   ],
   "source": [
    "pd.Series(simulate_coin_flip(100)).value_counts()"
   ]
  },
  {
   "cell_type": "code",
   "execution_count": 20,
   "id": "11ede159-130a-4f21-929f-d4c02fd8830b",
   "metadata": {},
   "outputs": [],
   "source": [
    "def calculate_experimental_probability(results,event):\n",
    "    even_count=results.count(event)\n",
    "    total_flips= len(results)\n",
    "    probability = even_count/ total_flips\n",
    "    return probability"
   ]
  },
  {
   "cell_type": "code",
   "execution_count": 21,
   "id": "360e6340-1be5-4741-adf9-5225b09d2d58",
   "metadata": {},
   "outputs": [
    {
     "name": "stdout",
     "output_type": "stream",
     "text": [
      "Number of flips:1000\n",
      "heads probability:0.468\n",
      "tails probability0.532\n"
     ]
    }
   ],
   "source": [
    "# Example usage\n",
    "num_flips = 1000\n",
    "simulation_results = simulate_coin_flip(num_flips)\n",
    "\n",
    "heads_probability= calculate_experimental_probability(simulation_results,\"heads\")\n",
    "tails_probability= calculate_experimental_probability(simulation_results,\"tails\")\n",
    "\n",
    "print(f\"Number of flips:{num_flips}\")\n",
    "print(f\"heads probability:{heads_probability}\")\n",
    "print(f\"tails probability{tails_probability}\")"
   ]
  },
  {
   "cell_type": "markdown",
   "id": "eef5c1f7-9126-491d-9ae0-4388d4305f4e",
   "metadata": {},
   "source": [
    "# linear growth"
   ]
  },
  {
   "cell_type": "code",
   "execution_count": 23,
   "id": "f42c4d82-488d-453b-a24d-7b5409c2f8e2",
   "metadata": {},
   "outputs": [],
   "source": [
    "import  numpy as np"
   ]
  },
  {
   "cell_type": "code",
   "execution_count": 32,
   "id": "f6e25cdb-d594-4292-a94e-7e48ef6fe45a",
   "metadata": {},
   "outputs": [],
   "source": [
    "x=np.arange(0,10,0.25)"
   ]
  },
  {
   "cell_type": "code",
   "execution_count": 33,
   "id": "2f14714c-2b6f-496d-bf88-08c69fdaabbc",
   "metadata": {},
   "outputs": [
    {
     "data": {
      "text/plain": [
       "array([0.  , 0.25, 0.5 , 0.75, 1.  , 1.25, 1.5 , 1.75, 2.  , 2.25, 2.5 ,\n",
       "       2.75, 3.  , 3.25, 3.5 , 3.75, 4.  , 4.25, 4.5 , 4.75, 5.  , 5.25,\n",
       "       5.5 , 5.75, 6.  , 6.25, 6.5 , 6.75, 7.  , 7.25, 7.5 , 7.75, 8.  ,\n",
       "       8.25, 8.5 , 8.75, 9.  , 9.25, 9.5 , 9.75])"
      ]
     },
     "execution_count": 33,
     "metadata": {},
     "output_type": "execute_result"
    }
   ],
   "source": [
    "x"
   ]
  },
  {
   "cell_type": "code",
   "execution_count": 26,
   "id": "d4676829-5baf-4a61-88fe-8b489ae5be84",
   "metadata": {},
   "outputs": [],
   "source": [
    "y=x*0.3474765 +15.005472"
   ]
  },
  {
   "cell_type": "code",
   "execution_count": 34,
   "id": "90423cf0-aa74-4e4f-9e41-33de749ba73a",
   "metadata": {},
   "outputs": [
    {
     "data": {
      "text/plain": [
       "array([15.005472  , 15.09234112, 15.17921025, 15.26607937, 15.3529485 ,\n",
       "       15.43981762, 15.52668675, 15.61355587, 15.700425  , 15.78729412,\n",
       "       15.87416325, 15.96103237, 16.0479015 , 16.13477062, 16.22163975,\n",
       "       16.30850888, 16.395378  , 16.48224713, 16.56911625, 16.65598538,\n",
       "       16.7428545 , 16.82972362, 16.91659275, 17.00346187, 17.090331  ,\n",
       "       17.17720012, 17.26406925, 17.35093837, 17.4378075 , 17.52467662,\n",
       "       17.61154575, 17.69841487, 17.785284  , 17.87215313, 17.95902225,\n",
       "       18.04589138, 18.1327605 , 18.21962962, 18.30649875, 18.39336787])"
      ]
     },
     "execution_count": 34,
     "metadata": {},
     "output_type": "execute_result"
    }
   ],
   "source": [
    "y"
   ]
  },
  {
   "cell_type": "code",
   "execution_count": 28,
   "id": "bea8bcdb-03f0-4019-9719-088b4bef44ad",
   "metadata": {},
   "outputs": [],
   "source": [
    "import matplotlib.pyplot as plt\n"
   ]
  },
  {
   "cell_type": "code",
   "execution_count": 29,
   "id": "89b92672-5470-4dee-afd2-61b28fa1bee4",
   "metadata": {},
   "outputs": [
    {
     "data": {
      "text/plain": [
       "[<matplotlib.lines.Line2D at 0x21fef078c50>]"
      ]
     },
     "execution_count": 29,
     "metadata": {},
     "output_type": "execute_result"
    },
    {
     "data": {
      "image/png": "[encoded data removed]",
      "text/plain": [
       "<Figure size 640x480 with 1 Axes>"
      ]
     },
     "metadata": {},
     "output_type": "display_data"
    }
   ],
   "source": [
    "plt.plot(x,y)"
   ]
  },
  {
   "cell_type": "markdown",
   "id": "d45f862a-40a0-4655-9fb4-f8a2414263c4",
   "metadata": {},
   "source": [
    "### Inverting the graph"
   ]
  },
  {
   "cell_type": "code",
   "execution_count": 35,
   "id": "d5e92bdf-aacd-4903-a1fb-0788297828cf",
   "metadata": {},
   "outputs": [],
   "source": [
    "y=x*(-0.3474765) +15.005472"
   ]
  },
  {
   "cell_type": "code",
   "execution_count": 36,
   "id": "1b68eda3-4040-4cd7-a91e-3254f2306598",
   "metadata": {},
   "outputs": [
    {
     "data": {
      "text/plain": [
       "array([15.005472  , 14.91860287, 14.83173375, 14.74486462, 14.6579955 ,\n",
       "       14.57112637, 14.48425725, 14.39738812, 14.310519  , 14.22364987,\n",
       "       14.13678075, 14.04991163, 13.9630425 , 13.87617337, 13.78930425,\n",
       "       13.70243512, 13.615566  , 13.52869687, 13.44182775, 13.35495862,\n",
       "       13.2680895 , 13.18122037, 13.09435125, 13.00748212, 12.920613  ,\n",
       "       12.83374387, 12.74687475, 12.66000563, 12.5731365 , 12.48626737,\n",
       "       12.39939825, 12.31252912, 12.22566   , 12.13879087, 12.05192175,\n",
       "       11.96505262, 11.8781835 , 11.79131437, 11.70444525, 11.61757612])"
      ]
     },
     "execution_count": 36,
     "metadata": {},
     "output_type": "execute_result"
    }
   ],
   "source": [
    "y"
   ]
  },
  {
   "cell_type": "code",
   "execution_count": 37,
   "id": "b6b98c91-9254-4947-9679-31b851cec9ce",
   "metadata": {},
   "outputs": [
    {
     "data": {
      "text/plain": [
       "[<matplotlib.lines.Line2D at 0x21fef166d50>]"
      ]
     },
     "execution_count": 37,
     "metadata": {},
     "output_type": "execute_result"
    },
    {
     "data": {
      "image/png": "[encoded data removed]",
      "text/plain": [
       "<Figure size 640x480 with 1 Axes>"
      ]
     },
     "metadata": {},
     "output_type": "display_data"
    }
   ],
   "source": [
    "plt.plot(x,y)"
   ]
  },
  {
   "cell_type": "code",
   "execution_count": 38,
   "id": "824aed3b-58b9-48b6-b570-327072154ed7",
   "metadata": {},
   "outputs": [
    {
     "data": {
      "text/plain": [
       "array([[ 1., -1.],\n",
       "       [-1.,  1.]])"
      ]
     },
     "execution_count": 38,
     "metadata": {},
     "output_type": "execute_result"
    }
   ],
   "source": [
    "np.corrcoef(x,y)"
   ]
  },
  {
   "cell_type": "markdown",
   "id": "32053b59-c014-45f9-9fe7-a10cca6faed1",
   "metadata": {},
   "source": [
    "### Exponential or polynomial growth"
   ]
  },
  {
   "cell_type": "code",
   "execution_count": 48,
   "id": "fb04c049-24b5-4e49-bae7-9a886b6fefed",
   "metadata": {},
   "outputs": [],
   "source": [
    "y = x**2 + 1.035"
   ]
  },
  {
   "cell_type": "code",
   "execution_count": 49,
   "id": "965fcac2-b84d-4f06-9868-6dad4e6ed80b",
   "metadata": {},
   "outputs": [
    {
     "data": {
      "text/plain": [
       "[<matplotlib.lines.Line2D at 0x21fef1c3890>]"
      ]
     },
     "execution_count": 49,
     "metadata": {},
     "output_type": "execute_result"
    },
    {
     "data": {
      "image/png": "[encoded data removed]",
      "text/plain": [
       "<Figure size 640x480 with 1 Axes>"
      ]
     },
     "metadata": {},
     "output_type": "display_data"
    }
   ],
   "source": [
    "plt.plot(x,y)"
   ]
  },
  {
   "cell_type": "markdown",
   "id": "0aee64ae-4ce2-411f-8554-8679b5e100ef",
   "metadata": {},
   "source": [
    "### Logarithmic growth"
   ]
  },
  {
   "cell_type": "code",
   "execution_count": 50,
   "id": "b6ed2e55-60ce-4593-9592-9e0536e0b2a3",
   "metadata": {},
   "outputs": [
    {
     "name": "stderr",
     "output_type": "stream",
     "text": [
      "C:\\Users\\Administrator.DAI-PC2\\AppData\\Local\\Temp\\ipykernel_15704\\2360429912.py:1: RuntimeWarning: divide by zero encountered in log\n",
      "  plt.plot(x,np.log(x))\n"
     ]
    },
    {
     "data": {
      "text/plain": [
       "[<matplotlib.lines.Line2D at 0x21fef27f950>]"
      ]
     },
     "execution_count": 50,
     "metadata": {},
     "output_type": "execute_result"
    },
    {
     "data": {
      "image/png": "[encoded data removed]",
      "text/plain": [
       "<Figure size 640x480 with 1 Axes>"
      ]
     },
     "metadata": {},
     "output_type": "display_data"
    }
   ],
   "source": [
    "plt.plot(x,np.log(x))"
   ]
  },
  {
   "cell_type": "markdown",
   "id": "8f3f6bb4-cd48-490e-9bf3-bc7331a01af2",
   "metadata": {},
   "source": [
    "### Logistic growth"
   ]
  },
  {
   "cell_type": "code",
   "execution_count": 53,
   "id": "5e97ffb0-f291-4e86-801c-352e532fc7dc",
   "metadata": {},
   "outputs": [],
   "source": [
    "x = np.arange(-5,5,0.25)"
   ]
  },
  {
   "cell_type": "code",
   "execution_count": 54,
   "id": "b99c7435-7c43-461f-bf25-fc54179a1ac4",
   "metadata": {},
   "outputs": [],
   "source": [
    "def sigmoid(x):\n",
    "    return 1/(1+np.exp(-x))"
   ]
  },
  {
   "cell_type": "code",
   "execution_count": 55,
   "id": "6bcc5b90-2be6-41bc-bf34-3e2b8eb016b4",
   "metadata": {},
   "outputs": [
    {
     "data": {
      "text/plain": [
       "[<matplotlib.lines.Line2D at 0x21ff1152510>]"
      ]
     },
     "execution_count": 55,
     "metadata": {},
     "output_type": "execute_result"
    },
    {
     "data": {
      "image/png": "[encoded data removed]",
      "text/plain": [
       "<Figure size 640x480 with 1 Axes>"
      ]
     },
     "metadata": {},
     "output_type": "display_data"
    }
   ],
   "source": [
    "plt.plot(x,sigmoid(x))"
   ]
  },
  {
   "cell_type": "code",
   "execution_count": null,
   "id": "9dfc41d5-54c4-44c6-bf0e-60971625b76b",
   "metadata": {},
   "outputs": [],
   "source": []
  }
 ],
 "metadata": {
  "kernelspec": {
   "display_name": "Python 3 (ipykernel)",
   "language": "python",
   "name": "python3"
  },
  "language_info": {
   "codemirror_mode": {
    "name": "ipython",
    "version": 3
   },
   "file_extension": ".py",
   "mimetype": "text/x-python",
   "name": "python",
   "nbconvert_exporter": "python",
   "pygments_lexer": "ipython3",
   "version": "3.11.8"
  }
 },
 "nbformat": 4,
 "nbformat_minor": 5
}
