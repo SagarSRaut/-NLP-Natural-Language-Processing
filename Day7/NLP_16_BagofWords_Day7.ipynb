{
 "cells": [
  {
   "cell_type": "code",
   "execution_count": 80,
   "id": "49068aa0-be40-4bf1-ad16-66e0926e7aea",
   "metadata": {},
   "outputs": [],
   "source": [
    "import pandas as pd\n",
    "import numpy as np\n",
    "from nltk.tokenize import word_tokenize"
   ]
  },
  {
   "cell_type": "code",
   "execution_count": 81,
   "id": "f6145bf5-d20a-4ee4-b487-46b3deb921dd",
   "metadata": {},
   "outputs": [],
   "source": [
    "sent1 = 'It was a good practice for us.'\n",
    "sent2 = 'It was also good to know about it.'"
   ]
  },
  {
   "cell_type": "code",
   "execution_count": 82,
   "id": "cac8f0c7-ef04-4dba-a1d3-2630d52953b1",
   "metadata": {},
   "outputs": [],
   "source": [
    "s1_t = word_tokenize(sent1.lower())\n",
    "s2_t = word_tokenize(sent2.lower())"
   ]
  },
  {
   "cell_type": "code",
   "execution_count": 83,
   "id": "aa2e05e5-b964-46d1-bcd8-f03aa3e7de90",
   "metadata": {},
   "outputs": [
    {
     "data": {
      "text/plain": [
       "['it',\n",
       " 'was',\n",
       " 'a',\n",
       " 'good',\n",
       " 'practice',\n",
       " 'for',\n",
       " 'us',\n",
       " '.',\n",
       " 'it',\n",
       " 'was',\n",
       " 'also',\n",
       " 'good',\n",
       " 'to',\n",
       " 'know',\n",
       " 'about',\n",
       " 'it',\n",
       " '.']"
      ]
     },
     "execution_count": 83,
     "metadata": {},
     "output_type": "execute_result"
    }
   ],
   "source": [
    "final_sent = s1_t + s2_t\n",
    "final_sent"
   ]
  },
  {
   "cell_type": "code",
   "execution_count": 84,
   "id": "083001f2-5f80-4877-9f24-6e992a33f140",
   "metadata": {},
   "outputs": [
    {
     "data": {
      "text/plain": [
       "{'.',\n",
       " 'a',\n",
       " 'about',\n",
       " 'also',\n",
       " 'for',\n",
       " 'good',\n",
       " 'it',\n",
       " 'know',\n",
       " 'practice',\n",
       " 'to',\n",
       " 'us',\n",
       " 'was'}"
      ]
     },
     "execution_count": 84,
     "metadata": {},
     "output_type": "execute_result"
    }
   ],
   "source": [
    "final_sent = set(final_sent)\n",
    "final_sent"
   ]
  },
  {
   "cell_type": "code",
   "execution_count": 85,
   "id": "1c85cc5e-a655-400e-bbc8-a66c1c9e7d6d",
   "metadata": {},
   "outputs": [
    {
     "data": {
      "text/html": [
       "<div>\n",
       "<style scoped>\n",
       "    .dataframe tbody tr th:only-of-type {\n",
       "        vertical-align: middle;\n",
       "    }\n",
       "\n",
       "    .dataframe tbody tr th {\n",
       "        vertical-align: top;\n",
       "    }\n",
       "\n",
       "    .dataframe thead th {\n",
       "        text-align: right;\n",
       "    }\n",
       "</style>\n",
       "<table border=\"1\" class=\"dataframe\">\n",
       "  <thead>\n",
       "    <tr style=\"text-align: right;\">\n",
       "      <th></th>\n",
       "      <th>us</th>\n",
       "      <th>for</th>\n",
       "      <th>practice</th>\n",
       "      <th>about</th>\n",
       "      <th>.</th>\n",
       "      <th>also</th>\n",
       "      <th>was</th>\n",
       "      <th>to</th>\n",
       "      <th>it</th>\n",
       "      <th>know</th>\n",
       "      <th>a</th>\n",
       "      <th>good</th>\n",
       "    </tr>\n",
       "  </thead>\n",
       "  <tbody>\n",
       "    <tr>\n",
       "      <th>1</th>\n",
       "      <td>NaN</td>\n",
       "      <td>NaN</td>\n",
       "      <td>NaN</td>\n",
       "      <td>NaN</td>\n",
       "      <td>NaN</td>\n",
       "      <td>NaN</td>\n",
       "      <td>NaN</td>\n",
       "      <td>NaN</td>\n",
       "      <td>NaN</td>\n",
       "      <td>NaN</td>\n",
       "      <td>NaN</td>\n",
       "      <td>NaN</td>\n",
       "    </tr>\n",
       "    <tr>\n",
       "      <th>2</th>\n",
       "      <td>NaN</td>\n",
       "      <td>NaN</td>\n",
       "      <td>NaN</td>\n",
       "      <td>NaN</td>\n",
       "      <td>NaN</td>\n",
       "      <td>NaN</td>\n",
       "      <td>NaN</td>\n",
       "      <td>NaN</td>\n",
       "      <td>NaN</td>\n",
       "      <td>NaN</td>\n",
       "      <td>NaN</td>\n",
       "      <td>NaN</td>\n",
       "    </tr>\n",
       "  </tbody>\n",
       "</table>\n",
       "</div>"
      ],
      "text/plain": [
       "    us  for practice about    . also  was   to   it know    a good\n",
       "1  NaN  NaN      NaN   NaN  NaN  NaN  NaN  NaN  NaN  NaN  NaN  NaN\n",
       "2  NaN  NaN      NaN   NaN  NaN  NaN  NaN  NaN  NaN  NaN  NaN  NaN"
      ]
     },
     "execution_count": 85,
     "metadata": {},
     "output_type": "execute_result"
    }
   ],
   "source": [
    "df = pd.DataFrame({}, index=[1,2], columns=list(final_sent))\n",
    "df"
   ]
  },
  {
   "cell_type": "code",
   "execution_count": 86,
   "id": "079a367e-00f5-4ffe-99e1-815b96066aa3",
   "metadata": {},
   "outputs": [],
   "source": [
    "counts1 = [s1_t.count(x) for  x in df.columns]\n",
    "counts2 = [s2_t.count(x) for  x in df.columns]"
   ]
  },
  {
   "cell_type": "code",
   "execution_count": 87,
   "id": "282e3dc8-999c-44b7-aced-caa493d79070",
   "metadata": {},
   "outputs": [
    {
     "data": {
      "text/plain": [
       "[1, 1, 1, 0, 1, 0, 1, 0, 1, 0, 1, 1]"
      ]
     },
     "execution_count": 87,
     "metadata": {},
     "output_type": "execute_result"
    }
   ],
   "source": [
    "counts1"
   ]
  },
  {
   "cell_type": "code",
   "execution_count": 88,
   "id": "2f287f02-2c38-4bda-a4cb-c50e23337b6e",
   "metadata": {},
   "outputs": [
    {
     "data": {
      "text/plain": [
       "[0, 0, 0, 1, 1, 1, 1, 1, 2, 1, 0, 1]"
      ]
     },
     "execution_count": 88,
     "metadata": {},
     "output_type": "execute_result"
    }
   ],
   "source": [
    "counts2"
   ]
  },
  {
   "cell_type": "code",
   "execution_count": 91,
   "id": "002a5473-2292-4a93-9791-4692e1142c72",
   "metadata": {},
   "outputs": [
    {
     "data": {
      "text/html": [
       "<div>\n",
       "<style scoped>\n",
       "    .dataframe tbody tr th:only-of-type {\n",
       "        vertical-align: middle;\n",
       "    }\n",
       "\n",
       "    .dataframe tbody tr th {\n",
       "        vertical-align: top;\n",
       "    }\n",
       "\n",
       "    .dataframe thead th {\n",
       "        text-align: right;\n",
       "    }\n",
       "</style>\n",
       "<table border=\"1\" class=\"dataframe\">\n",
       "  <thead>\n",
       "    <tr style=\"text-align: right;\">\n",
       "      <th></th>\n",
       "      <th>us</th>\n",
       "      <th>for</th>\n",
       "      <th>practice</th>\n",
       "      <th>about</th>\n",
       "      <th>.</th>\n",
       "      <th>also</th>\n",
       "      <th>was</th>\n",
       "      <th>to</th>\n",
       "      <th>it</th>\n",
       "      <th>know</th>\n",
       "      <th>a</th>\n",
       "      <th>good</th>\n",
       "    </tr>\n",
       "  </thead>\n",
       "  <tbody>\n",
       "    <tr>\n",
       "      <th>1</th>\n",
       "      <td>1</td>\n",
       "      <td>1</td>\n",
       "      <td>1</td>\n",
       "      <td>0</td>\n",
       "      <td>1</td>\n",
       "      <td>0</td>\n",
       "      <td>1</td>\n",
       "      <td>0</td>\n",
       "      <td>1</td>\n",
       "      <td>0</td>\n",
       "      <td>1</td>\n",
       "      <td>1</td>\n",
       "    </tr>\n",
       "    <tr>\n",
       "      <th>2</th>\n",
       "      <td>0</td>\n",
       "      <td>0</td>\n",
       "      <td>0</td>\n",
       "      <td>1</td>\n",
       "      <td>1</td>\n",
       "      <td>1</td>\n",
       "      <td>1</td>\n",
       "      <td>1</td>\n",
       "      <td>2</td>\n",
       "      <td>1</td>\n",
       "      <td>0</td>\n",
       "      <td>1</td>\n",
       "    </tr>\n",
       "  </tbody>\n",
       "</table>\n",
       "</div>"
      ],
      "text/plain": [
       "  us for practice about  . also was to it know  a good\n",
       "1  1   1        1     0  1    0   1  0  1    0  1    1\n",
       "2  0   0        0     1  1    1   1  1  2    1  0    1"
      ]
     },
     "execution_count": 91,
     "metadata": {},
     "output_type": "execute_result"
    }
   ],
   "source": [
    "df.iloc[0,:] = counts1\n",
    "df.iloc[1,:] = counts2\n",
    "\n",
    "df"
   ]
  },
  {
   "cell_type": "code",
   "execution_count": 115,
   "id": "86f0b1dc-3f7a-4341-8564-9fdab8069cd3",
   "metadata": {},
   "outputs": [],
   "source": [
    "from sklearn.feature_extraction.text import CountVectorizer"
   ]
  },
  {
   "cell_type": "code",
   "execution_count": 116,
   "id": "99e5f1f2-ff37-493e-9e8d-ee8780e64980",
   "metadata": {},
   "outputs": [],
   "source": [
    "cvt = CountVectorizer()"
   ]
  },
  {
   "cell_type": "code",
   "execution_count": 117,
   "id": "24cf5fc6-80d0-4885-b68d-e3c44240be68",
   "metadata": {},
   "outputs": [],
   "source": [
    "new_data = cvt.fit_transform([sent1, sent2])"
   ]
  },
  {
   "cell_type": "code",
   "execution_count": 118,
   "id": "b20fa632-2e95-4b0e-ad95-f5bd0947132a",
   "metadata": {},
   "outputs": [
    {
     "data": {
      "text/plain": [
       "<2x10 sparse matrix of type '<class 'numpy.int64'>'\n",
       "\twith 13 stored elements in Compressed Sparse Row format>"
      ]
     },
     "execution_count": 118,
     "metadata": {},
     "output_type": "execute_result"
    }
   ],
   "source": [
    "new_data"
   ]
  },
  {
   "cell_type": "code",
   "execution_count": 119,
   "id": "5db4ee59-8f7e-4f0b-9e05-8e4b813928ae",
   "metadata": {},
   "outputs": [
    {
     "data": {
      "text/plain": [
       "array([[0, 0, 1, 1, 1, 0, 1, 0, 1, 1],\n",
       "       [1, 1, 0, 1, 2, 1, 0, 1, 0, 1]], dtype=int64)"
      ]
     },
     "execution_count": 119,
     "metadata": {},
     "output_type": "execute_result"
    }
   ],
   "source": [
    "sparse_elems = new_data.toarray()\n",
    "sparse_elems"
   ]
  },
  {
   "cell_type": "code",
   "execution_count": 120,
   "id": "9757d088-e9af-4302-8211-584654f165ec",
   "metadata": {},
   "outputs": [
    {
     "data": {
      "text/plain": [
       "array(['about', 'also', 'for', 'good', 'it', 'know', 'practice', 'to',\n",
       "       'us', 'was'], dtype=object)"
      ]
     },
     "execution_count": 120,
     "metadata": {},
     "output_type": "execute_result"
    }
   ],
   "source": [
    "col_names = cvt.get_feature_names_out()\n",
    "col_names"
   ]
  },
  {
   "cell_type": "code",
   "execution_count": 122,
   "id": "119bb3d0-f2c7-4a64-b392-cb2757ad562c",
   "metadata": {},
   "outputs": [
    {
     "data": {
      "text/html": [
       "<div>\n",
       "<style scoped>\n",
       "    .dataframe tbody tr th:only-of-type {\n",
       "        vertical-align: middle;\n",
       "    }\n",
       "\n",
       "    .dataframe tbody tr th {\n",
       "        vertical-align: top;\n",
       "    }\n",
       "\n",
       "    .dataframe thead th {\n",
       "        text-align: right;\n",
       "    }\n",
       "</style>\n",
       "<table border=\"1\" class=\"dataframe\">\n",
       "  <thead>\n",
       "    <tr style=\"text-align: right;\">\n",
       "      <th></th>\n",
       "      <th>about</th>\n",
       "      <th>also</th>\n",
       "      <th>for</th>\n",
       "      <th>good</th>\n",
       "      <th>it</th>\n",
       "      <th>know</th>\n",
       "      <th>practice</th>\n",
       "      <th>to</th>\n",
       "      <th>us</th>\n",
       "      <th>was</th>\n",
       "    </tr>\n",
       "  </thead>\n",
       "  <tbody>\n",
       "    <tr>\n",
       "      <th>0</th>\n",
       "      <td>0</td>\n",
       "      <td>0</td>\n",
       "      <td>1</td>\n",
       "      <td>1</td>\n",
       "      <td>1</td>\n",
       "      <td>0</td>\n",
       "      <td>1</td>\n",
       "      <td>0</td>\n",
       "      <td>1</td>\n",
       "      <td>1</td>\n",
       "    </tr>\n",
       "    <tr>\n",
       "      <th>1</th>\n",
       "      <td>1</td>\n",
       "      <td>1</td>\n",
       "      <td>0</td>\n",
       "      <td>1</td>\n",
       "      <td>2</td>\n",
       "      <td>1</td>\n",
       "      <td>0</td>\n",
       "      <td>1</td>\n",
       "      <td>0</td>\n",
       "      <td>1</td>\n",
       "    </tr>\n",
       "  </tbody>\n",
       "</table>\n",
       "</div>"
      ],
      "text/plain": [
       "   about  also  for  good  it  know  practice  to  us  was\n",
       "0      0     0    1     1   1     0         1   0   1    1\n",
       "1      1     1    0     1   2     1         0   1   0    1"
      ]
     },
     "execution_count": 122,
     "metadata": {},
     "output_type": "execute_result"
    }
   ],
   "source": [
    "df_cvt = pd.DataFrame(sparse_elems, columns=col_names)\n",
    "df_cvt"
   ]
  },
  {
   "cell_type": "code",
   "execution_count": 138,
   "id": "1f412a6e-e74a-45d5-91e8-bd6662f880af",
   "metadata": {},
   "outputs": [],
   "source": [
    "cvt = CountVectorizer(ngram_range=(1,2))"
   ]
  },
  {
   "cell_type": "code",
   "execution_count": 139,
   "id": "3b422c87-a793-4e63-b4cf-2a06e54b4e0b",
   "metadata": {},
   "outputs": [
    {
     "data": {
      "text/plain": [
       "<2x21 sparse matrix of type '<class 'numpy.int64'>'\n",
       "\twith 25 stored elements in Compressed Sparse Row format>"
      ]
     },
     "execution_count": 139,
     "metadata": {},
     "output_type": "execute_result"
    }
   ],
   "source": [
    "new_ngrams = cvt.fit_transform([sent1, sent2])\n",
    "new_ngrams"
   ]
  },
  {
   "cell_type": "code",
   "execution_count": 144,
   "id": "44fe517c-4a3f-4e5a-9c61-2c5fb6011b9d",
   "metadata": {},
   "outputs": [
    {
     "data": {
      "text/plain": [
       "array([[0, 0, 0, 0, 1, 1, 1, 1, 0, 1, 1, 0, 0, 1, 1, 0, 0, 1, 1, 0, 1],\n",
       "       [1, 1, 1, 1, 0, 0, 1, 0, 1, 2, 1, 1, 1, 0, 0, 1, 1, 0, 1, 1, 0]],\n",
       "      dtype=int64)"
      ]
     },
     "execution_count": 144,
     "metadata": {},
     "output_type": "execute_result"
    }
   ],
   "source": [
    "sparse_ngrams = new_ngrams.toarray()\n",
    "sparse_ngrams"
   ]
  },
  {
   "cell_type": "code",
   "execution_count": 141,
   "id": "44517592-f237-4bbb-8d2a-d700952bb04c",
   "metadata": {},
   "outputs": [
    {
     "data": {
      "text/plain": [
       "array(['about', 'about it', 'also', 'also good', 'for', 'for us', 'good',\n",
       "       'good practice', 'good to', 'it', 'it was', 'know', 'know about',\n",
       "       'practice', 'practice for', 'to', 'to know', 'us', 'was',\n",
       "       'was also', 'was good'], dtype=object)"
      ]
     },
     "execution_count": 141,
     "metadata": {},
     "output_type": "execute_result"
    }
   ],
   "source": [
    "col_ngrams = cvt.get_feature_names_out()\n",
    "col_ngrams"
   ]
  },
  {
   "cell_type": "code",
   "execution_count": 142,
   "id": "14a28541-0ada-4221-bbb3-ebb800bfe5e5",
   "metadata": {},
   "outputs": [
    {
     "data": {
      "text/html": [
       "<div>\n",
       "<style scoped>\n",
       "    .dataframe tbody tr th:only-of-type {\n",
       "        vertical-align: middle;\n",
       "    }\n",
       "\n",
       "    .dataframe tbody tr th {\n",
       "        vertical-align: top;\n",
       "    }\n",
       "\n",
       "    .dataframe thead th {\n",
       "        text-align: right;\n",
       "    }\n",
       "</style>\n",
       "<table border=\"1\" class=\"dataframe\">\n",
       "  <thead>\n",
       "    <tr style=\"text-align: right;\">\n",
       "      <th></th>\n",
       "      <th>about</th>\n",
       "      <th>about it</th>\n",
       "      <th>also</th>\n",
       "      <th>also good</th>\n",
       "      <th>for</th>\n",
       "      <th>for us</th>\n",
       "      <th>good</th>\n",
       "      <th>good practice</th>\n",
       "      <th>good to</th>\n",
       "      <th>it</th>\n",
       "      <th>...</th>\n",
       "      <th>know</th>\n",
       "      <th>know about</th>\n",
       "      <th>practice</th>\n",
       "      <th>practice for</th>\n",
       "      <th>to</th>\n",
       "      <th>to know</th>\n",
       "      <th>us</th>\n",
       "      <th>was</th>\n",
       "      <th>was also</th>\n",
       "      <th>was good</th>\n",
       "    </tr>\n",
       "  </thead>\n",
       "  <tbody>\n",
       "    <tr>\n",
       "      <th>0</th>\n",
       "      <td>0</td>\n",
       "      <td>0</td>\n",
       "      <td>0</td>\n",
       "      <td>0</td>\n",
       "      <td>1</td>\n",
       "      <td>1</td>\n",
       "      <td>1</td>\n",
       "      <td>1</td>\n",
       "      <td>0</td>\n",
       "      <td>1</td>\n",
       "      <td>...</td>\n",
       "      <td>0</td>\n",
       "      <td>0</td>\n",
       "      <td>1</td>\n",
       "      <td>1</td>\n",
       "      <td>0</td>\n",
       "      <td>0</td>\n",
       "      <td>1</td>\n",
       "      <td>1</td>\n",
       "      <td>0</td>\n",
       "      <td>1</td>\n",
       "    </tr>\n",
       "    <tr>\n",
       "      <th>1</th>\n",
       "      <td>1</td>\n",
       "      <td>1</td>\n",
       "      <td>1</td>\n",
       "      <td>1</td>\n",
       "      <td>0</td>\n",
       "      <td>0</td>\n",
       "      <td>1</td>\n",
       "      <td>0</td>\n",
       "      <td>1</td>\n",
       "      <td>2</td>\n",
       "      <td>...</td>\n",
       "      <td>1</td>\n",
       "      <td>1</td>\n",
       "      <td>0</td>\n",
       "      <td>0</td>\n",
       "      <td>1</td>\n",
       "      <td>1</td>\n",
       "      <td>0</td>\n",
       "      <td>1</td>\n",
       "      <td>1</td>\n",
       "      <td>0</td>\n",
       "    </tr>\n",
       "  </tbody>\n",
       "</table>\n",
       "<p>2 rows × 21 columns</p>\n",
       "</div>"
      ],
      "text/plain": [
       "   about  about it  also  also good  for  for us  good  good practice  \\\n",
       "0      0         0     0          0    1       1     1              1   \n",
       "1      1         1     1          1    0       0     1              0   \n",
       "\n",
       "   good to  it  ...  know  know about  practice  practice for  to  to know  \\\n",
       "0        0   1  ...     0           0         1             1   0        0   \n",
       "1        1   2  ...     1           1         0             0   1        1   \n",
       "\n",
       "   us  was  was also  was good  \n",
       "0   1    1         0         1  \n",
       "1   0    1         1         0  \n",
       "\n",
       "[2 rows x 21 columns]"
      ]
     },
     "execution_count": 142,
     "metadata": {},
     "output_type": "execute_result"
    }
   ],
   "source": [
    "df_ngrams = pd.DataFrame(data=sparse_ngrams, columns=col_ngrams)\n",
    "df_ngrams"
   ]
  },
  {
   "cell_type": "code",
   "execution_count": 156,
   "id": "8b53362a-249b-4926-8ffd-bd0e6ba5eb29",
   "metadata": {},
   "outputs": [],
   "source": [
    "from sklearn.feature_extraction.text import TfidfVectorizer\n",
    "\n",
    "# Create a TfidfVectorizer object\n",
    "tfidf = TfidfVectorizer()\n",
    "\n",
    "# Fit the vectorizer to the data and transform it\n",
    "tfidf_matrix = tfidf.fit_transform([sent1,sent2]).toarray()\n",
    "\n",
    "col_tfidf = tfidf.get_feature_names_out()"
   ]
  },
  {
   "cell_type": "code",
   "execution_count": 157,
   "id": "4f3a70b8-c4b2-4c90-bd19-f1265d2523b7",
   "metadata": {},
   "outputs": [
    {
     "data": {
      "text/html": [
       "<div>\n",
       "<style scoped>\n",
       "    .dataframe tbody tr th:only-of-type {\n",
       "        vertical-align: middle;\n",
       "    }\n",
       "\n",
       "    .dataframe tbody tr th {\n",
       "        vertical-align: top;\n",
       "    }\n",
       "\n",
       "    .dataframe thead th {\n",
       "        text-align: right;\n",
       "    }\n",
       "</style>\n",
       "<table border=\"1\" class=\"dataframe\">\n",
       "  <thead>\n",
       "    <tr style=\"text-align: right;\">\n",
       "      <th></th>\n",
       "      <th>about</th>\n",
       "      <th>also</th>\n",
       "      <th>for</th>\n",
       "      <th>good</th>\n",
       "      <th>it</th>\n",
       "      <th>know</th>\n",
       "      <th>practice</th>\n",
       "      <th>to</th>\n",
       "      <th>us</th>\n",
       "      <th>was</th>\n",
       "    </tr>\n",
       "  </thead>\n",
       "  <tbody>\n",
       "    <tr>\n",
       "      <th>0</th>\n",
       "      <td>0.000000</td>\n",
       "      <td>0.000000</td>\n",
       "      <td>0.470426</td>\n",
       "      <td>0.334712</td>\n",
       "      <td>0.334712</td>\n",
       "      <td>0.000000</td>\n",
       "      <td>0.470426</td>\n",
       "      <td>0.000000</td>\n",
       "      <td>0.470426</td>\n",
       "      <td>0.334712</td>\n",
       "    </tr>\n",
       "    <tr>\n",
       "      <th>1</th>\n",
       "      <td>0.376957</td>\n",
       "      <td>0.376957</td>\n",
       "      <td>0.000000</td>\n",
       "      <td>0.268208</td>\n",
       "      <td>0.536416</td>\n",
       "      <td>0.376957</td>\n",
       "      <td>0.000000</td>\n",
       "      <td>0.376957</td>\n",
       "      <td>0.000000</td>\n",
       "      <td>0.268208</td>\n",
       "    </tr>\n",
       "  </tbody>\n",
       "</table>\n",
       "</div>"
      ],
      "text/plain": [
       "      about      also       for      good        it      know  practice  \\\n",
       "0  0.000000  0.000000  0.470426  0.334712  0.334712  0.000000  0.470426   \n",
       "1  0.376957  0.376957  0.000000  0.268208  0.536416  0.376957  0.000000   \n",
       "\n",
       "         to        us       was  \n",
       "0  0.000000  0.470426  0.334712  \n",
       "1  0.376957  0.000000  0.268208  "
      ]
     },
     "execution_count": 157,
     "metadata": {},
     "output_type": "execute_result"
    }
   ],
   "source": [
    "df_tfidf = pd.DataFrame(data=tfidf_matrix, columns=col_tfidf)\n",
    "df_tfidf"
   ]
  },
  {
   "cell_type": "code",
   "execution_count": null,
   "id": "224147fa-3376-4501-bc4d-f0dae0ffaa04",
   "metadata": {},
   "outputs": [],
   "source": []
  }
 ],
 "metadata": {
  "kernelspec": {
   "display_name": "Python 3 (ipykernel)",
   "language": "python",
   "name": "python3"
  },
  "language_info": {
   "codemirror_mode": {
    "name": "ipython",
    "version": 3
   },
   "file_extension": ".py",
   "mimetype": "text/x-python",
   "name": "python",
   "nbconvert_exporter": "python",
   "pygments_lexer": "ipython3",
   "version": "3.11.8"
  }
 },
 "nbformat": 4,
 "nbformat_minor": 5
}
