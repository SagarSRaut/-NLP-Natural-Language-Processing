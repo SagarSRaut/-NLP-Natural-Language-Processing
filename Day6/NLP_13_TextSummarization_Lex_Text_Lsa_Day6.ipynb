{
 "cells": [
  {
   "cell_type": "code",
   "execution_count": 1,
   "id": "727c7f48-2c40-49bd-ace6-137323a1e62f",
   "metadata": {},
   "outputs": [
    {
     "name": "stdout",
     "output_type": "stream",
     "text": [
      "Collecting sumy\n",
      "  Downloading sumy-0.11.0-py2.py3-none-any.whl.metadata (7.5 kB)\n",
      "Collecting transformers\n",
      "  Downloading transformers-4.41.2-py3-none-any.whl.metadata (43 kB)\n",
      "     ---------------------------------------- 0.0/43.8 kB ? eta -:--:--\n",
      "     ---------------------------------------- 43.8/43.8 kB 1.0 MB/s eta 0:00:00\n",
      "Collecting docopt<0.7,>=0.6.1 (from sumy)\n",
      "  Downloading docopt-0.6.2.tar.gz (25 kB)\n",
      "  Preparing metadata (setup.py): started\n",
      "  Preparing metadata (setup.py): finished with status 'done'\n",
      "Collecting breadability>=0.1.20 (from sumy)\n",
      "  Downloading breadability-0.1.20.tar.gz (32 kB)\n",
      "  Preparing metadata (setup.py): started\n",
      "  Preparing metadata (setup.py): finished with status 'done'\n",
      "Requirement already satisfied: requests>=2.7.0 in c:\\users\\administrator.dai-pc2\\anaconda3\\lib\\site-packages (from sumy) (2.31.0)\n",
      "Collecting pycountry>=18.2.23 (from sumy)\n",
      "  Downloading pycountry-24.6.1-py3-none-any.whl.metadata (12 kB)\n",
      "Requirement already satisfied: nltk>=3.0.2 in c:\\users\\administrator.dai-pc2\\anaconda3\\lib\\site-packages (from sumy) (3.8.1)\n",
      "Requirement already satisfied: filelock in c:\\users\\administrator.dai-pc2\\anaconda3\\lib\\site-packages (from transformers) (3.13.1)\n",
      "Collecting huggingface-hub<1.0,>=0.23.0 (from transformers)\n",
      "  Downloading huggingface_hub-0.23.3-py3-none-any.whl.metadata (12 kB)\n",
      "Requirement already satisfied: numpy>=1.17 in c:\\users\\administrator.dai-pc2\\anaconda3\\lib\\site-packages (from transformers) (1.24.3)\n",
      "Requirement already satisfied: packaging>=20.0 in c:\\users\\administrator.dai-pc2\\anaconda3\\lib\\site-packages (from transformers) (23.1)\n",
      "Requirement already satisfied: pyyaml>=5.1 in c:\\users\\administrator.dai-pc2\\anaconda3\\lib\\site-packages (from transformers) (6.0.1)\n",
      "Requirement already satisfied: regex!=2019.12.17 in c:\\users\\administrator.dai-pc2\\anaconda3\\lib\\site-packages (from transformers) (2023.10.3)\n",
      "Collecting tokenizers<0.20,>=0.19 (from transformers)\n",
      "  Downloading tokenizers-0.19.1-cp311-none-win_amd64.whl.metadata (6.9 kB)\n",
      "Collecting safetensors>=0.4.1 (from transformers)\n",
      "  Downloading safetensors-0.4.3-cp311-none-win_amd64.whl.metadata (3.9 kB)\n",
      "Requirement already satisfied: tqdm>=4.27 in c:\\users\\administrator.dai-pc2\\anaconda3\\lib\\site-packages (from transformers) (4.65.0)\n",
      "Requirement already satisfied: chardet in c:\\users\\administrator.dai-pc2\\anaconda3\\lib\\site-packages (from breadability>=0.1.20->sumy) (4.0.0)\n",
      "Requirement already satisfied: lxml>=2.0 in c:\\users\\administrator.dai-pc2\\anaconda3\\lib\\site-packages (from breadability>=0.1.20->sumy) (4.9.3)\n",
      "Requirement already satisfied: fsspec>=2023.5.0 in c:\\users\\administrator.dai-pc2\\anaconda3\\lib\\site-packages (from huggingface-hub<1.0,>=0.23.0->transformers) (2023.10.0)\n",
      "Requirement already satisfied: typing-extensions>=3.7.4.3 in c:\\users\\administrator.dai-pc2\\anaconda3\\lib\\site-packages (from huggingface-hub<1.0,>=0.23.0->transformers) (4.9.0)\n",
      "Requirement already satisfied: click in c:\\users\\administrator.dai-pc2\\anaconda3\\lib\\site-packages (from nltk>=3.0.2->sumy) (8.1.7)\n",
      "Requirement already satisfied: joblib in c:\\users\\administrator.dai-pc2\\anaconda3\\lib\\site-packages (from nltk>=3.0.2->sumy) (1.2.0)\n",
      "Requirement already satisfied: charset-normalizer<4,>=2 in c:\\users\\administrator.dai-pc2\\anaconda3\\lib\\site-packages (from requests>=2.7.0->sumy) (2.0.4)\n",
      "Requirement already satisfied: idna<4,>=2.5 in c:\\users\\administrator.dai-pc2\\anaconda3\\lib\\site-packages (from requests>=2.7.0->sumy) (3.4)\n",
      "Requirement already satisfied: urllib3<3,>=1.21.1 in c:\\users\\administrator.dai-pc2\\anaconda3\\lib\\site-packages (from requests>=2.7.0->sumy) (2.0.7)\n",
      "Requirement already satisfied: certifi>=2017.4.17 in c:\\users\\administrator.dai-pc2\\anaconda3\\lib\\site-packages (from requests>=2.7.0->sumy) (2024.2.2)\n",
      "Requirement already satisfied: colorama in c:\\users\\administrator.dai-pc2\\anaconda3\\lib\\site-packages (from tqdm>=4.27->transformers) (0.4.6)\n",
      "Downloading sumy-0.11.0-py2.py3-none-any.whl (97 kB)\n",
      "   ---------------------------------------- 0.0/97.3 kB ? eta -:--:--\n",
      "   ---------------------------------------- 97.3/97.3 kB 2.8 MB/s eta 0:00:00\n",
      "Downloading transformers-4.41.2-py3-none-any.whl (9.1 MB)\n",
      "   ---------------------------------------- 0.0/9.1 MB ? eta -:--:--\n",
      "   - -------------------------------------- 0.4/9.1 MB 13.9 MB/s eta 0:00:01\n",
      "   --- ------------------------------------ 0.8/9.1 MB 10.8 MB/s eta 0:00:01\n",
      "   ----- ---------------------------------- 1.3/9.1 MB 10.4 MB/s eta 0:00:01\n",
      "   ------- -------------------------------- 1.8/9.1 MB 9.6 MB/s eta 0:00:01\n",
      "   ---------- ----------------------------- 2.3/9.1 MB 9.6 MB/s eta 0:00:01\n",
      "   ------------ --------------------------- 2.7/9.1 MB 10.3 MB/s eta 0:00:01\n",
      "   -------------- ------------------------- 3.2/9.1 MB 9.8 MB/s eta 0:00:01\n",
      "   ---------------- ----------------------- 3.7/9.1 MB 9.7 MB/s eta 0:00:01\n",
      "   ------------------ --------------------- 4.1/9.1 MB 10.2 MB/s eta 0:00:01\n",
      "   -------------------- ------------------- 4.6/9.1 MB 9.8 MB/s eta 0:00:01\n",
      "   ---------------------- ----------------- 5.0/9.1 MB 10.1 MB/s eta 0:00:01\n",
      "   ------------------------ --------------- 5.6/9.1 MB 9.9 MB/s eta 0:00:01\n",
      "   -------------------------- ------------- 6.1/9.1 MB 9.9 MB/s eta 0:00:01\n",
      "   ---------------------------- ----------- 6.5/9.1 MB 9.9 MB/s eta 0:00:01\n",
      "   ------------------------------ --------- 7.0/9.1 MB 9.8 MB/s eta 0:00:01\n",
      "   --------------------------------- ------ 7.5/9.1 MB 9.8 MB/s eta 0:00:01\n",
      "   ----------------------------------- ---- 8.0/9.1 MB 9.8 MB/s eta 0:00:01\n",
      "   ------------------------------------- -- 8.5/9.1 MB 9.8 MB/s eta 0:00:01\n",
      "   ---------------------------------------  9.0/9.1 MB 9.7 MB/s eta 0:00:01\n",
      "   ---------------------------------------  9.1/9.1 MB 9.8 MB/s eta 0:00:01\n",
      "   ---------------------------------------  9.1/9.1 MB 9.8 MB/s eta 0:00:01\n",
      "   ---------------------------------------- 9.1/9.1 MB 9.1 MB/s eta 0:00:00\n",
      "Downloading huggingface_hub-0.23.3-py3-none-any.whl (401 kB)\n",
      "   ---------------------------------------- 0.0/401.7 kB ? eta -:--:--\n",
      "   --------------------------------------  399.4/401.7 kB 12.6 MB/s eta 0:00:01\n",
      "   ---------------------------------------- 401.7/401.7 kB 6.2 MB/s eta 0:00:00\n",
      "Downloading pycountry-24.6.1-py3-none-any.whl (6.3 MB)\n",
      "   ---------------------------------------- 0.0/6.3 MB ? eta -:--:--\n",
      "   --- ------------------------------------ 0.5/6.3 MB 16.2 MB/s eta 0:00:01\n",
      "   ------ --------------------------------- 1.0/6.3 MB 13.0 MB/s eta 0:00:01\n",
      "   -------- ------------------------------- 1.4/6.3 MB 9.8 MB/s eta 0:00:01\n",
      "   ----------- ---------------------------- 1.9/6.3 MB 10.8 MB/s eta 0:00:01\n",
      "   -------------- ------------------------- 2.3/6.3 MB 9.9 MB/s eta 0:00:01\n",
      "   ----------------- ---------------------- 2.8/6.3 MB 10.1 MB/s eta 0:00:01\n",
      "   --------------------- ------------------ 3.3/6.3 MB 10.7 MB/s eta 0:00:01\n",
      "   ------------------------ --------------- 3.9/6.3 MB 10.2 MB/s eta 0:00:01\n",
      "   -------------------------- ------------- 4.2/6.3 MB 9.9 MB/s eta 0:00:01\n",
      "   ----------------------------- ---------- 4.7/6.3 MB 9.7 MB/s eta 0:00:01\n",
      "   -------------------------------- ------- 5.1/6.3 MB 10.0 MB/s eta 0:00:01\n",
      "   ----------------------------------- ---- 5.7/6.3 MB 9.8 MB/s eta 0:00:01\n",
      "   -------------------------------------- - 6.2/6.3 MB 9.8 MB/s eta 0:00:01\n",
      "   ---------------------------------------  6.3/6.3 MB 9.9 MB/s eta 0:00:01\n",
      "   ---------------------------------------- 6.3/6.3 MB 9.2 MB/s eta 0:00:00\n",
      "Downloading safetensors-0.4.3-cp311-none-win_amd64.whl (287 kB)\n",
      "   ---------------------------------------- 0.0/287.3 kB ? eta -:--:--\n",
      "   ---------------------------------------- 287.3/287.3 kB 8.9 MB/s eta 0:00:00\n",
      "Downloading tokenizers-0.19.1-cp311-none-win_amd64.whl (2.2 MB)\n",
      "   ---------------------------------------- 0.0/2.2 MB ? eta -:--:--\n",
      "   --------- ------------------------------ 0.6/2.2 MB 11.5 MB/s eta 0:00:01\n",
      "   ------------------ --------------------- 1.0/2.2 MB 10.7 MB/s eta 0:00:01\n",
      "   --------------------------- ------------ 1.5/2.2 MB 10.7 MB/s eta 0:00:01\n",
      "   ------------------------------------ --- 2.0/2.2 MB 10.0 MB/s eta 0:00:01\n",
      "   ---------------------------------------- 2.2/2.2 MB 9.4 MB/s eta 0:00:00\n",
      "Building wheels for collected packages: breadability, docopt\n",
      "  Building wheel for breadability (setup.py): started\n",
      "  Building wheel for breadability (setup.py): finished with status 'done'\n",
      "  Created wheel for breadability: filename=breadability-0.1.20-py2.py3-none-any.whl size=21739 sha256=ab2e77f8bb2385a05915b5d65db0a7005933a5ad40b9095346206324d961a77e\n",
      "  Stored in directory: c:\\users\\administrator.dai-pc2\\appdata\\local\\pip\\cache\\wheels\\4d\\57\\58\\7e3d7fedf51fe248b7fcee3df6945ae28638e22cddf01eb92b\n",
      "  Building wheel for docopt (setup.py): started\n",
      "  Building wheel for docopt (setup.py): finished with status 'done'\n",
      "  Created wheel for docopt: filename=docopt-0.6.2-py2.py3-none-any.whl size=13773 sha256=ed9ff54e2440c988a41828947ea0df9f7beb53912abba1d507aca60103a4f74f\n",
      "  Stored in directory: c:\\users\\administrator.dai-pc2\\appdata\\local\\pip\\cache\\wheels\\1a\\b0\\8c\\4b75c4116c31f83c8f9f047231251e13cc74481cca4a78a9ce\n",
      "Successfully built breadability docopt\n",
      "Installing collected packages: docopt, safetensors, pycountry, breadability, huggingface-hub, tokenizers, sumy, transformers\n",
      "Successfully installed breadability-0.1.20 docopt-0.6.2 huggingface-hub-0.23.3 pycountry-24.6.1 safetensors-0.4.3 sumy-0.11.0 tokenizers-0.19.1 transformers-4.41.2\n"
     ]
    }
   ],
   "source": [
    "!pip install sumy transformers"
   ]
  },
  {
   "cell_type": "code",
   "execution_count": 2,
   "id": "f6e1fd89-d7de-4a48-914f-31cc5b9d2db9",
   "metadata": {},
   "outputs": [],
   "source": [
    "#import the class\n",
    "from sumy.summarizers.text_rank import TextRankSummarizer"
   ]
  },
  {
   "cell_type": "code",
   "execution_count": 3,
   "id": "090dd0da-df39-432a-891a-95c06eb2374a",
   "metadata": {},
   "outputs": [],
   "source": [
    "# import parser and tokenizers\n",
    "from sumy.parsers.plaintext import PlaintextParser\n",
    "from sumy.nlp.tokenizers import Tokenizer"
   ]
  },
  {
   "cell_type": "code",
   "execution_count": 5,
   "id": "038639df-9fe6-4c98-b39c-c164bc26e2f3",
   "metadata": {},
   "outputs": [],
   "source": [
    "text_lion = ''' The lion (Panthera leo) is a large cat of the genus Panthera, native to Africa and India. It has a muscular, broad-chested body; a short, rounded head; round ears; and a hairy tuft at the end of its tail. It is sexually dimorphic; adult male lions are larger than females and have a prominent mane. It is a social species, forming groups called prides. A lion's pride consists of a few adult males, related females, and cubs. Groups of female lions usually hunt together, preying mostly on large ungulates. The lion is an apex and keystone predator; although some lions scavenge when opportunities occur and have been known to hunt humans, lions typically do not actively seek out and prey on humans.\n",
    "The lion inhabits grasslands, savannahs, and shrublands. It is usually more diurnal than other wild cats, but when persecuted, it adapts to being active at night and at twilight. During the Neolithic period, the lion ranged throughout Africa and Eurasia, from Southeast Europe to India, but it has been reduced to fragmented populations in sub-Saharan Africa and one population in western India. It has been listed as Vulnerable on the IUCN Red List since 1996 because populations in African countries have declined by about 43% since the early 1990s. Lion populations are untenable outside designated protected areas. Although the cause of the decline is not fully understood, habitat loss and conflicts with humans are the greatest causes for concern.\n",
    "One of the most widely recognised animal symbols in human culture, the lion has been extensively depicted in sculptures and paintings, on national flags, and in literature and films. Lions have been kept in menageries since the time of the Roman Empire and have been a key species sought for exhibition in zoological gardens across the world since the late 18th century. Cultural depictions of lions were prominent in Ancient Egypt, and depictions have occurred in virtually all ancient and medieval cultures in the lion's historic and current range.'''"
   ]
  },
  {
   "cell_type": "code",
   "execution_count": 6,
   "id": "f1c9ddc6-c480-46d3-810c-1dfa04e9eed0",
   "metadata": {},
   "outputs": [
    {
     "data": {
      "text/plain": [
       "\" The lion (Panthera leo) is a large cat of the genus Panthera, native to Africa and India. It has a muscular, broad-chested body; a short, rounded head; round ears; and a hairy tuft at the end of its tail. It is sexually dimorphic; adult male lions are larger than females and have a prominent mane. It is a social species, forming groups called prides. A lion's pride consists of a few adult males, related females, and cubs. Groups of female lions usually hunt together, preying mostly on large ungulates. The lion is an apex and keystone predator; although some lions scavenge when opportunities occur and have been known to hunt humans, lions typically do not actively seek out and prey on humans.\\nThe lion inhabits grasslands, savannahs, and shrublands. It is usually more diurnal than other wild cats, but when persecuted, it adapts to being active at night and at twilight. During the Neolithic period, the lion ranged throughout Africa and Eurasia, from Southeast Europe to India, but it has been reduced to fragmented populations in sub-Saharan Africa and one population in western India. It has been listed as Vulnerable on the IUCN Red List since 1996 because populations in African countries have declined by about 43% since the early 1990s. Lion populations are untenable outside designated protected areas. Although the cause of the decline is not fully understood, habitat loss and conflicts with humans are the greatest causes for concern.\\nOne of the most widely recognised animal symbols in human culture, the lion has been extensively depicted in sculptures and paintings, on national flags, and in literature and films. Lions have been kept in menageries since the time of the Roman Empire and have been a key species sought for exhibition in zoological gardens across the world since the late 18th century. Cultural depictions of lions were prominent in Ancient Egypt, and depictions have occurred in virtually all ancient and medieval cultures in the lion's historic and current range.\""
      ]
     },
     "execution_count": 6,
     "metadata": {},
     "output_type": "execute_result"
    }
   ],
   "source": [
    "text_lion"
   ]
  },
  {
   "cell_type": "code",
   "execution_count": 7,
   "id": "161e05cd-ae87-4b6d-b0b6-16d7a4eea410",
   "metadata": {},
   "outputs": [],
   "source": [
    "from nltk.tokenize import sent_tokenize"
   ]
  },
  {
   "cell_type": "code",
   "execution_count": 8,
   "id": "c4726e91-ee24-4f76-8a7b-49d19ff5c93d",
   "metadata": {},
   "outputs": [
    {
     "data": {
      "text/plain": [
       "16"
      ]
     },
     "execution_count": 8,
     "metadata": {},
     "output_type": "execute_result"
    }
   ],
   "source": [
    "sents = sent_tokenize(text)\n",
    "len(sents)"
   ]
  },
  {
   "cell_type": "code",
   "execution_count": 9,
   "id": "ef1c23a3-d646-4fc2-be96-d89443a8a609",
   "metadata": {},
   "outputs": [
    {
     "data": {
      "text/plain": [
       "[' The lion (Panthera leo) is a large cat of the genus Panthera, native to Africa and India.',\n",
       " 'It has a muscular, broad-chested body; a short, rounded head; round ears; and a hairy tuft at the end of its tail.',\n",
       " 'It is sexually dimorphic; adult male lions are larger than females and have a prominent mane.',\n",
       " 'It is a social species, forming groups called prides.',\n",
       " \"A lion's pride consists of a few adult males, related females, and cubs.\",\n",
       " 'Groups of female lions usually hunt together, preying mostly on large ungulates.',\n",
       " 'The lion is an apex and keystone predator; although some lions scavenge when opportunities occur and have been known to hunt humans, lions typically do not actively seek out and prey on humans.',\n",
       " 'The lion inhabits grasslands, savannahs, and shrublands.',\n",
       " 'It is usually more diurnal than other wild cats, but when persecuted, it adapts to being active at night and at twilight.',\n",
       " 'During the Neolithic period, the lion ranged throughout Africa and Eurasia, from Southeast Europe to India, but it has been reduced to fragmented populations in sub-Saharan Africa and one population in western India.',\n",
       " 'It has been listed as Vulnerable on the IUCN Red List since 1996 because populations in African countries have declined by about 43% since the early 1990s.',\n",
       " 'Lion populations are untenable outside designated protected areas.',\n",
       " 'Although the cause of the decline is not fully understood, habitat loss and conflicts with humans are the greatest causes for concern.',\n",
       " 'One of the most widely recognised animal symbols in human culture, the lion has been extensively depicted in sculptures and paintings, on national flags, and in literature and films.',\n",
       " 'Lions have been kept in menageries since the time of the Roman Empire and have been a key species sought for exhibition in zoological gardens across the world since the late 18th century.',\n",
       " \"Cultural depictions of lions were prominent in Ancient Egypt, and depictions have occurred in virtually all ancient and medieval cultures in the lion's historic and current range.\"]"
      ]
     },
     "execution_count": 9,
     "metadata": {},
     "output_type": "execute_result"
    }
   ],
   "source": [
    "sents"
   ]
  },
  {
   "cell_type": "code",
   "execution_count": 10,
   "id": "e4b54a92-3518-441f-b8e7-b8c20894177c",
   "metadata": {},
   "outputs": [],
   "source": [
    "# initialize the parser\n",
    "my_parser = PlaintextParser.from_string(text, Tokenizer('english'))"
   ]
  },
  {
   "cell_type": "code",
   "execution_count": 11,
   "id": "0ff3922b-0042-49ca-8486-18bd3c554bcd",
   "metadata": {},
   "outputs": [],
   "source": [
    "# create the object of summarizer\n",
    "text_rank_summarizer = TextRankSummarizer()"
   ]
  },
  {
   "cell_type": "code",
   "execution_count": 12,
   "id": "11d3e116-2d76-43cc-9bbc-679625d31815",
   "metadata": {},
   "outputs": [],
   "source": [
    "#Extract top 3 sentences\n",
    "summary = text_rank_summarizer(my_parser.document, sentences_count=3)"
   ]
  },
  {
   "cell_type": "code",
   "execution_count": 13,
   "id": "d1bae806-56df-4597-aac5-efc82fde949f",
   "metadata": {},
   "outputs": [
    {
     "data": {
      "text/plain": [
       "(<Sentence: During the Neolithic period, the lion ranged throughout Africa and Eurasia, from Southeast Europe to India, but it has been reduced to fragmented populations in sub-Saharan Africa and one population in western India.>,\n",
       " <Sentence: One of the most widely recognised animal symbols in human culture, the lion has been extensively depicted in sculptures and paintings, on national flags, and in literature and films.>,\n",
       " <Sentence: Lions have been kept in menageries since the time of the Roman Empire and have been a key species sought for exhibition in zoological gardens across the world since the late 18th century.>)"
      ]
     },
     "execution_count": 13,
     "metadata": {},
     "output_type": "execute_result"
    }
   ],
   "source": [
    "summary"
   ]
  },
  {
   "cell_type": "code",
   "execution_count": 14,
   "id": "6da9a583-481b-438c-85ee-5dfa4cad6541",
   "metadata": {},
   "outputs": [
    {
     "name": "stdout",
     "output_type": "stream",
     "text": [
      "During the Neolithic period, the lion ranged throughout Africa and Eurasia, from Southeast Europe to India, but it has been reduced to fragmented populations in sub-Saharan Africa and one population in western India. \n",
      "\n",
      "One of the most widely recognised animal symbols in human culture, the lion has been extensively depicted in sculptures and paintings, on national flags, and in literature and films. \n",
      "\n",
      "Lions have been kept in menageries since the time of the Roman Empire and have been a key species sought for exhibition in zoological gardens across the world since the late 18th century. \n",
      "\n"
     ]
    }
   ],
   "source": [
    "for sent in summary:\n",
    "    print(sent, '\\n')"
   ]
  },
  {
   "cell_type": "code",
   "execution_count": 15,
   "id": "e85fc3a0-dccb-4d17-b4f1-37670ff68fd8",
   "metadata": {},
   "outputs": [],
   "source": [
    "## lex Rank"
   ]
  },
  {
   "cell_type": "code",
   "execution_count": 16,
   "id": "966dd420-e42a-43a6-913a-e9dab9fe34e4",
   "metadata": {},
   "outputs": [],
   "source": [
    "from sumy.summarizers.lex_rank import LexRankSummarizer"
   ]
  },
  {
   "cell_type": "code",
   "execution_count": 17,
   "id": "fca27c8b-9037-4a3f-beb5-5b5e37487cfe",
   "metadata": {},
   "outputs": [],
   "source": [
    "lex_rank_summarizer = LexRankSummarizer()"
   ]
  },
  {
   "cell_type": "code",
   "execution_count": 18,
   "id": "09bd770c-9a42-40ad-8341-e1e3d5b90a13",
   "metadata": {},
   "outputs": [],
   "source": [
    "summary= lex_rank_summarizer(my_parser.document,sentences_count=3)"
   ]
  },
  {
   "cell_type": "code",
   "execution_count": 19,
   "id": "198af478-3d29-4adc-a41c-995f58760e74",
   "metadata": {},
   "outputs": [
    {
     "name": "stdout",
     "output_type": "stream",
     "text": [
      "The lion is an apex and keystone predator; although some lions scavenge when opportunities occur and have been known to hunt humans, lions typically do not actively seek out and prey on humans. \n",
      "\n",
      "One of the most widely recognised animal symbols in human culture, the lion has been extensively depicted in sculptures and paintings, on national flags, and in literature and films. \n",
      "\n",
      "Lions have been kept in menageries since the time of the Roman Empire and have been a key species sought for exhibition in zoological gardens across the world since the late 18th century. \n",
      "\n"
     ]
    }
   ],
   "source": [
    "for sent in summary:\n",
    "    print(sent,'\\n')"
   ]
  },
  {
   "cell_type": "code",
   "execution_count": 22,
   "id": "87c9d569-0684-4a04-91cc-d135c5850957",
   "metadata": {},
   "outputs": [],
   "source": [
    "mtext='''सिंह हा जंगलाचा राजा म्हणून ओळखला जातो. तो मांसभक्षक प्राणी आहे. सिंहाचे शास्त्रीय नाव 'पँथेरा लिओ' आहे. शूर माणसाला सिंहाची उपमा देतात. एक सत्य पौराणिक कथा आहे की हिरण्यकश्यपू नावाच्या राक्षसाचा वध करण्यासाठी भगवान विष्णू यांना नृसिंह अवतार म्हणजे धड सिंहाचे आणि बाकी शारीरिक भाग माणसाचा असा नृसिंह अवतार धारण करावा लागला होता. संस्कृत भाषेत सिंहाला 'केसरी, म्हणतात म्हणून लोकमान्य टिळक यांच्या वृत्तपत्राचे नामकरण 'केसरी, असे आहे.\n",
    "\n",
    "जगभरात आशियाई किंवा आफ्रिकन या दोन प्रकारचे सिंह आढळतात. आशियाई सिंहांचे अस्तित्व हे पूर्वापार भारतातच राहिले असून गेल्या काही वर्षांपासून तर ते गुजरातमधील गीरपुरतेच उरले आहे. आशियाई सिंह एकेकाळी ग्रीसपासून मध्य भारतात मध्यप्रदेश,उत्तर भारतात बिहारपर्यंत होते. पण शिकारीमुळे ते आता फक्त गीर जंगलात मिळतात. परंतु काही संशोधक लेखकांच्या मते सिंह हा मूळचा भारतातील नसून तो बाहेरून भारतात आणाला गेला व त्यामुळेच त्यांची संख्या इतकी कमी आहे.[१]\n",
    "\n",
    "वाघांप्रमाणेच सिंहांची शिकार हा स्वातंत्र्यपूर्व काळात राजेमहाराजांचा छंद होता. जुनागडच्या नवाबाने मात्र विसाव्या शतकाच्या प्रारंभी सिंहांच्या शिकारींवर पूर्णतः बंदी घातली. त्याकाळी सिंहांची संख्या तेरावर आली होती, अशी एक आकडेवारी सांगितली जाते. मात्र ही संख्या नेहमीच वादग्रस्त राहिली. काहींच्या मते प्रत्यक्षात ती संख्या शंभराच्या आसपास होती. ते काहीही असले, तरी १९१० पर्यंतच्या काळात हे संकट ओळखले गेले. साहजिकच त्यापुढे भारताला स्वातंत्र्य मिळाल्यानंतर सिंहांनाही अस्तित्व धोक्यात आलेल्या प्रजातींच्या यादीत टाकण्यात आले आणि त्यादृष्टीने काही पावले उचलली गेली. गुजरातेतले गीर हे सिंहांसाठी संरक्षित वनक्षेत्र जाहीर करण्यात आले. गीरमधील सिंहांना आशियाई सिंहांप्रमाणेच इंडियन लायन असेही म्हणतात. आज २०१० साली गीरमध्ये ४११ सिंह आहेत. १९१० ते २०१० या काळात ३९८ सिंह वाढले.\n",
    "आफ्रिकेतील जंगलात सिंहांची संख्या खूप जास्त आहे'''"
   ]
  },
  {
   "cell_type": "code",
   "execution_count": 23,
   "id": "187a95da-55cb-4101-a276-6df7bac0a6c4",
   "metadata": {},
   "outputs": [
    {
     "data": {
      "text/plain": [
       "23"
      ]
     },
     "execution_count": 23,
     "metadata": {},
     "output_type": "execute_result"
    }
   ],
   "source": [
    "len(sent_tokenize(mtext))"
   ]
  },
  {
   "cell_type": "code",
   "execution_count": 24,
   "id": "769e420d-b5be-473a-88e5-acf6df00ddfd",
   "metadata": {},
   "outputs": [],
   "source": [
    "my_parser = PlaintextParser.from_string(mtext, Tokenizer('english'))"
   ]
  },
  {
   "cell_type": "code",
   "execution_count": 25,
   "id": "f3d8a840-43df-4233-89a1-2e0718fd1df4",
   "metadata": {},
   "outputs": [],
   "source": [
    "summary = text_rank_summarizer(my_parser.document, sentences_count=3)"
   ]
  },
  {
   "cell_type": "code",
   "execution_count": 26,
   "id": "996b3321-95a5-4bd2-9ce3-06c6c7c16877",
   "metadata": {},
   "outputs": [
    {
     "data": {
      "text/plain": [
       "(<Sentence: एक सत्य पौराणिक कथा आहे की हिरण्यकश्यपू नावाच्या राक्षसाचा वध करण्यासाठी भगवान विष्णू यांना नृसिंह अवतार म्हणजे धड सिंहाचे आणि बाकी शारीरिक भाग माणसाचा असा नृसिंह अवतार धारण करावा लागला होता.>,\n",
       " <Sentence: आशियाई सिंहांचे अस्तित्व हे पूर्वापार भारतातच राहिले असून गेल्या काही वर्षांपासून तर ते गुजरातमधील गीरपुरतेच उरले आहे.>,\n",
       " <Sentence: परंतु काही संशोधक लेखकांच्या मते सिंह हा मूळचा भारतातील नसून तो बाहेरून भारतात आणाला गेला व त्यामुळेच त्यांची संख्या इतकी कमी आहे.>)"
      ]
     },
     "execution_count": 26,
     "metadata": {},
     "output_type": "execute_result"
    }
   ],
   "source": [
    "summary"
   ]
  },
  {
   "cell_type": "code",
   "execution_count": 27,
   "id": "0e80bdbb-abb2-4e86-b99a-ea9fa4f9d268",
   "metadata": {},
   "outputs": [],
   "source": [
    "summary_l = lex_rank_summarizer(my_parser.document, sentences_count=3)"
   ]
  },
  {
   "cell_type": "code",
   "execution_count": 28,
   "id": "cd1bcc7f-b9f6-48a0-b9b8-6120e32c624f",
   "metadata": {},
   "outputs": [
    {
     "data": {
      "text/plain": [
       "(<Sentence: एक सत्य पौराणिक कथा आहे की हिरण्यकश्यपू नावाच्या राक्षसाचा वध करण्यासाठी भगवान विष्णू यांना नृसिंह अवतार म्हणजे धड सिंहाचे आणि बाकी शारीरिक भाग माणसाचा असा नृसिंह अवतार धारण करावा लागला होता.>,\n",
       " <Sentence: आशियाई सिंहांचे अस्तित्व हे पूर्वापार भारतातच राहिले असून गेल्या काही वर्षांपासून तर ते गुजरातमधील गीरपुरतेच उरले आहे.>,\n",
       " <Sentence: पण शिकारीमुळे ते आता फक्त गीर जंगलात मिळतात.>)"
      ]
     },
     "execution_count": 28,
     "metadata": {},
     "output_type": "execute_result"
    }
   ],
   "source": [
    "summary_l"
   ]
  },
  {
   "cell_type": "markdown",
   "id": "e9340c3e-38a9-4b70-8bc8-4b677e7a9550",
   "metadata": {},
   "source": [
    "### LSA summarizers"
   ]
  },
  {
   "cell_type": "code",
   "execution_count": 29,
   "id": "97128518-4ef8-439f-89b6-df0bb9c440f4",
   "metadata": {},
   "outputs": [],
   "source": [
    "from sumy.summarizers.lsa import LsaSummarizer"
   ]
  },
  {
   "cell_type": "code",
   "execution_count": 30,
   "id": "68ef8dfe-42e1-4ac4-87a7-7845e3be5f2d",
   "metadata": {},
   "outputs": [],
   "source": [
    "lsa_summarizer = LsaSummarizer()"
   ]
  },
  {
   "cell_type": "code",
   "execution_count": 34,
   "id": "e44e149b-bd51-49bf-a621-fe7cf7a037d2",
   "metadata": {},
   "outputs": [],
   "source": [
    "my_parser = PlaintextParser.from_string(text, Tokenizer('english'))"
   ]
  },
  {
   "cell_type": "code",
   "execution_count": 35,
   "id": "80d9abb6-e071-4b82-88d0-3b307692b8f8",
   "metadata": {},
   "outputs": [],
   "source": [
    "summary = lsa_summarizer(my_parser.document, sentences_count=3)"
   ]
  },
  {
   "cell_type": "code",
   "execution_count": 36,
   "id": "13d54fdb-6251-4a13-b83c-63250840c63b",
   "metadata": {},
   "outputs": [
    {
     "name": "stdout",
     "output_type": "stream",
     "text": [
      "It is sexually dimorphic; adult male lions are larger than females and have a prominent mane. \n",
      "\n",
      "Groups of female lions usually hunt together, preying mostly on large ungulates. \n",
      "\n",
      "During the Neolithic period, the lion ranged throughout Africa and Eurasia, from Southeast Europe to India, but it has been reduced to fragmented populations in sub-Saharan Africa and one population in western India. \n",
      "\n"
     ]
    }
   ],
   "source": [
    "for sent in summary :\n",
    "    print(sent, '\\n')"
   ]
  },
  {
   "cell_type": "code",
   "execution_count": null,
   "id": "48ab1d21-a9c0-4069-aa78-62ec48dd5cd8",
   "metadata": {},
   "outputs": [],
   "source": []
  }
 ],
 "metadata": {
  "kernelspec": {
   "display_name": "Python 3 (ipykernel)",
   "language": "python",
   "name": "python3"
  },
  "language_info": {
   "codemirror_mode": {
    "name": "ipython",
    "version": 3
   },
   "file_extension": ".py",
   "mimetype": "text/x-python",
   "name": "python",
   "nbconvert_exporter": "python",
   "pygments_lexer": "ipython3",
   "version": "3.11.8"
  }
 },
 "nbformat": 4,
 "nbformat_minor": 5
}
