{
 "cells": [
  {
   "cell_type": "code",
   "execution_count": 1,
   "metadata": {},
   "outputs": [
    {
     "name": "stdout",
     "output_type": "stream",
     "text": [
      "Requirement already satisfied: flask in c:\\users\\administrator.dai-pc2\\anaconda3\\envs\\sagar\\lib\\site-packages (3.0.2)\n",
      "Requirement already satisfied: Werkzeug>=3.0.0 in c:\\users\\administrator.dai-pc2\\anaconda3\\envs\\sagar\\lib\\site-packages (from flask) (3.0.1)\n",
      "Requirement already satisfied: Jinja2>=3.1.2 in c:\\users\\administrator.dai-pc2\\anaconda3\\envs\\sagar\\lib\\site-packages (from flask) (3.1.3)\n",
      "Requirement already satisfied: itsdangerous>=2.1.2 in c:\\users\\administrator.dai-pc2\\anaconda3\\envs\\sagar\\lib\\site-packages (from flask) (2.1.2)\n",
      "Requirement already satisfied: click>=8.1.3 in c:\\users\\administrator.dai-pc2\\anaconda3\\envs\\sagar\\lib\\site-packages (from flask) (8.1.7)\n",
      "Requirement already satisfied: blinker>=1.6.2 in c:\\users\\administrator.dai-pc2\\anaconda3\\envs\\sagar\\lib\\site-packages (from flask) (1.7.0)\n",
      "Requirement already satisfied: colorama in c:\\users\\administrator.dai-pc2\\anaconda3\\envs\\sagar\\lib\\site-packages (from click>=8.1.3->flask) (0.4.6)\n",
      "Requirement already satisfied: MarkupSafe>=2.0 in c:\\users\\administrator.dai-pc2\\anaconda3\\envs\\sagar\\lib\\site-packages (from Jinja2>=3.1.2->flask) (2.1.3)\n"
     ]
    }
   ],
   "source": [
    "!pip install flask"
   ]
  },
  {
   "cell_type": "code",
   "execution_count": 3,
   "metadata": {},
   "outputs": [],
   "source": [
    "from tkinter import *"
   ]
  },
  {
   "cell_type": "code",
   "execution_count": 7,
   "metadata": {},
   "outputs": [],
   "source": [
    "top= Tk()\n",
    "\n",
    "top.mainloop()"
   ]
  },
  {
   "cell_type": "markdown",
   "metadata": {},
   "source": [
    "Basic application"
   ]
  },
  {
   "cell_type": "markdown",
   "metadata": {},
   "source": [
    "pack = add sequenctially\n",
    "grid = added in matrix\n",
    "place = exact location (x,y)"
   ]
  },
  {
   "cell_type": "code",
   "execution_count": 18,
   "metadata": {},
   "outputs": [],
   "source": [
    "top = Tk()\n",
    "top.title(\"my first application\")\n",
    "top.geometry('500x300')\n",
    "\n",
    "def show():\n",
    "    name=str(e.get())\n",
    "    # print('Your name is :',name.upper())\n",
    "    Label(top,text='your name:'+str(e.get().upper())).pack()\n",
    "\n",
    "\n",
    "l=Label(top,text='Hello World')    # insert label in web page\n",
    "\n",
    "l.pack()  #pack function is used to add label on web screen\n",
    "# Entry(top).pack()  # add text label for input\n",
    "e=Entry(top)\n",
    "e.pack()\n",
    "\n",
    "\n",
    "Button(top,text=\"Submit\",command=show).pack()\n",
    "top.mainloop()"
   ]
  },
  {
   "cell_type": "code",
   "execution_count": 27,
   "metadata": {},
   "outputs": [],
   "source": [
    "top = Tk()\n",
    "top.title(\"my first application\")\n",
    "top.geometry('500x300')\n",
    "\n",
    "def show():\n",
    "    num=int(e.get())\n",
    " \n",
    "    # print('Your name is :',name.upper())\n",
    "    Label(top,text='Square is:'+str(num**2)).place(x=50,y=150)\n",
    "\n",
    "\n",
    "l=Label(top,text='Enter your number:').place(x=50,y=50)   # insert label in web page\n",
    "\n",
    " \n",
    "# Entry(top).pack()  # add text label for input\n",
    "e=Entry(top)\n",
    "e.place(x=50,y=70)\n",
    "\n",
    "\n",
    "Button(top,text=\"Submit\",command=show).place(x=50,y=110)\n",
    "top.mainloop()"
   ]
  },
  {
   "cell_type": "code",
   "execution_count": 68,
   "metadata": {},
   "outputs": [
    {
     "name": "stderr",
     "output_type": "stream",
     "text": [
      "Exception in Tkinter callback\n",
      "Traceback (most recent call last):\n",
      "  File \"c:\\Users\\Administrator.DAI-PC2\\anaconda3\\envs\\sagar\\Lib\\tkinter\\__init__.py\", line 1967, in __call__\n",
      "    return self.func(*args)\n",
      "           ^^^^^^^^^^^^^^^^\n",
      "  File \"C:\\Users\\Administrator.DAI-PC2\\AppData\\Local\\Temp\\ipykernel_23032\\1827499367.py\", line 11, in add\n",
      "    l.config(text='Addition:' + str(num1+num2))\n",
      "    ^^^^^^^^\n",
      "AttributeError: 'NoneType' object has no attribute 'config'\n"
     ]
    }
   ],
   "source": [
    "top = Tk()\n",
    "top.title(\"my first application\")\n",
    "top.geometry('500x300')\n",
    "\n",
    "def show():\n",
    "    num1,num2=int(e.get()),int(e1.get())\n",
    "     \n",
    "   \n",
    "def add():\n",
    "    num1,num2=int(e.get()),int(e1.get())\n",
    "    l.config(text='Addition:' + str(num1+num2))\n",
    "    \n",
    "def sub():\n",
    "    num1,num2=int(e.get()),int(e1.get())\n",
    "    l.config(text='subtraction:' + str(num1-num2))\n",
    "\n",
    "def mul():\n",
    "    num1,num2=int(e.get()),int(e1.get())\n",
    "    l.config(text='Multiplication:' + str(num1/num2))\n",
    "    \n",
    "l=Label(top,text='Enter your first number:').place(x=50,y=100)   # insert label in web page\n",
    "\n",
    "# Entry(top).pack()  # add text label for input\n",
    "e=Entry(top)\n",
    "e.place(x=200,y=100)\n",
    "l1=Label(top,text='Enter your second number:').place(x=50,y=150) \n",
    "e1=Entry(top) \n",
    "e1.place(x=200,y=150)\n",
    "\n",
    "\n",
    "\n",
    "Button(top,text=\"Submit\",command=show).place(x=50,y=200)\n",
    "Button(top,text=\"+\",command=add).place(x=150,y=200)\n",
    "Button(top,text=\"-\",command=sub).place(x=200,y=200)\n",
    "Button(top,text=\"*\",command=mul).place(x=250,y=200)\n",
    "top.mainloop()"
   ]
  },
  {
   "cell_type": "code",
   "execution_count": null,
   "metadata": {},
   "outputs": [],
   "source": []
  }
 ],
 "metadata": {
  "kernelspec": {
   "display_name": "sagar",
   "language": "python",
   "name": "python3"
  },
  "language_info": {
   "codemirror_mode": {
    "name": "ipython",
    "version": 3
   },
   "file_extension": ".py",
   "mimetype": "text/x-python",
   "name": "python",
   "nbconvert_exporter": "python",
   "pygments_lexer": "ipython3",
   "version": "3.12.2"
  }
 },
 "nbformat": 4,
 "nbformat_minor": 2
}
