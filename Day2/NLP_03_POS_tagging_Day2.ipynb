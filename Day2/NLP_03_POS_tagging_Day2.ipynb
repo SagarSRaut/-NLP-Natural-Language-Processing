{
 "cells": [
  {
   "cell_type": "code",
   "execution_count": 1,
   "id": "a452de75-5743-4133-9db3-ad3b61558cfc",
   "metadata": {},
   "outputs": [],
   "source": [
    "from nltk import pos_tag\n",
    "from nltk.tokenize import word_tokenize"
   ]
  },
  {
   "cell_type": "code",
   "execution_count": 2,
   "id": "47fd3c20-2b4a-49a3-896d-fc1890509513",
   "metadata": {},
   "outputs": [],
   "source": [
    "text=\"Venus is the second planet from the Sun. It is a terrestrial planet and is the closest in mass and size to its orbital neighbour Earth. Venus is notable for having the densest atmosphere of the terrestrial planets, composed mostly of carbon dioxide with a thick, global sulfuric acid cloud cover. At the surface it has a mean temperature of 737 K (464 °C; 867 °F) and a pressure of 92 times that of Earth's at sea level. These extreme conditions compress carbon dioxide into a supercritical state close to Venus's surface.\""
   ]
  },
  {
   "cell_type": "code",
   "execution_count": 3,
   "id": "3cdf38c8-2059-4c03-a077-1fec4aee3ff3",
   "metadata": {},
   "outputs": [
    {
     "data": {
      "text/plain": [
       "\"Venus is the second planet from the Sun. It is a terrestrial planet and is the closest in mass and size to its orbital neighbour Earth. Venus is notable for having the densest atmosphere of the terrestrial planets, composed mostly of carbon dioxide with a thick, global sulfuric acid cloud cover. At the surface it has a mean temperature of 737 K (464 °C; 867 °F) and a pressure of 92 times that of Earth's at sea level. These extreme conditions compress carbon dioxide into a supercritical state close to Venus's surface.\""
      ]
     },
     "execution_count": 3,
     "metadata": {},
     "output_type": "execute_result"
    }
   ],
   "source": [
    "text"
   ]
  },
  {
   "cell_type": "code",
   "execution_count": 4,
   "id": "528cfb62-ac4e-40e3-b6cf-764ca32398af",
   "metadata": {},
   "outputs": [],
   "source": [
    "tag=pos_tag(word_tokenize(text))"
   ]
  },
  {
   "cell_type": "code",
   "execution_count": 6,
   "id": "4d9cf028-87b5-472a-b119-ba1d02a5ae13",
   "metadata": {},
   "outputs": [
    {
     "data": {
      "text/plain": [
       "[('Venus', 'NNP'),\n",
       " ('is', 'VBZ'),\n",
       " ('the', 'DT'),\n",
       " ('second', 'JJ'),\n",
       " ('planet', 'NN'),\n",
       " ('from', 'IN'),\n",
       " ('the', 'DT'),\n",
       " ('Sun', 'NNP'),\n",
       " ('.', '.'),\n",
       " ('It', 'PRP'),\n",
       " ('is', 'VBZ'),\n",
       " ('a', 'DT'),\n",
       " ('terrestrial', 'JJ'),\n",
       " ('planet', 'NN'),\n",
       " ('and', 'CC'),\n",
       " ('is', 'VBZ'),\n",
       " ('the', 'DT'),\n",
       " ('closest', 'JJS'),\n",
       " ('in', 'IN'),\n",
       " ('mass', 'NN'),\n",
       " ('and', 'CC'),\n",
       " ('size', 'NN'),\n",
       " ('to', 'TO'),\n",
       " ('its', 'PRP$'),\n",
       " ('orbital', 'JJ'),\n",
       " ('neighbour', 'JJ'),\n",
       " ('Earth', 'NN'),\n",
       " ('.', '.'),\n",
       " ('Venus', 'NNP'),\n",
       " ('is', 'VBZ'),\n",
       " ('notable', 'JJ'),\n",
       " ('for', 'IN'),\n",
       " ('having', 'VBG'),\n",
       " ('the', 'DT'),\n",
       " ('densest', 'JJS'),\n",
       " ('atmosphere', 'NN'),\n",
       " ('of', 'IN'),\n",
       " ('the', 'DT'),\n",
       " ('terrestrial', 'JJ'),\n",
       " ('planets', 'NNS'),\n",
       " (',', ','),\n",
       " ('composed', 'VBD'),\n",
       " ('mostly', 'RB'),\n",
       " ('of', 'IN'),\n",
       " ('carbon', 'NN'),\n",
       " ('dioxide', 'NN'),\n",
       " ('with', 'IN'),\n",
       " ('a', 'DT'),\n",
       " ('thick', 'NN'),\n",
       " (',', ','),\n",
       " ('global', 'JJ'),\n",
       " ('sulfuric', 'JJ'),\n",
       " ('acid', 'NN'),\n",
       " ('cloud', 'NN'),\n",
       " ('cover', 'NN'),\n",
       " ('.', '.'),\n",
       " ('At', 'IN'),\n",
       " ('the', 'DT'),\n",
       " ('surface', 'NN'),\n",
       " ('it', 'PRP'),\n",
       " ('has', 'VBZ'),\n",
       " ('a', 'DT'),\n",
       " ('mean', 'JJ'),\n",
       " ('temperature', 'NN'),\n",
       " ('of', 'IN'),\n",
       " ('737', 'CD'),\n",
       " ('K', 'NNP'),\n",
       " ('(', '('),\n",
       " ('464', 'CD'),\n",
       " ('°C', 'NN'),\n",
       " (';', ':'),\n",
       " ('867', 'CD'),\n",
       " ('°F', 'NN'),\n",
       " (')', ')'),\n",
       " ('and', 'CC'),\n",
       " ('a', 'DT'),\n",
       " ('pressure', 'NN'),\n",
       " ('of', 'IN'),\n",
       " ('92', 'CD'),\n",
       " ('times', 'NNS'),\n",
       " ('that', 'IN'),\n",
       " ('of', 'IN'),\n",
       " ('Earth', 'NNP'),\n",
       " (\"'s\", 'POS'),\n",
       " ('at', 'IN'),\n",
       " ('sea', 'NN'),\n",
       " ('level', 'NN'),\n",
       " ('.', '.'),\n",
       " ('These', 'DT'),\n",
       " ('extreme', 'JJ'),\n",
       " ('conditions', 'NNS'),\n",
       " ('compress', 'VBP'),\n",
       " ('carbon', 'NN'),\n",
       " ('dioxide', 'NN'),\n",
       " ('into', 'IN'),\n",
       " ('a', 'DT'),\n",
       " ('supercritical', 'JJ'),\n",
       " ('state', 'NN'),\n",
       " ('close', 'NN'),\n",
       " ('to', 'TO'),\n",
       " ('Venus', 'NNP'),\n",
       " (\"'s\", 'POS'),\n",
       " ('surface', 'NN'),\n",
       " ('.', '.')]"
      ]
     },
     "execution_count": 6,
     "metadata": {},
     "output_type": "execute_result"
    }
   ],
   "source": [
    "tag"
   ]
  },
  {
   "cell_type": "code",
   "execution_count": 16,
   "id": "89d2955e-3b84-48da-b106-4f0bd5efd15d",
   "metadata": {},
   "outputs": [
    {
     "data": {
      "text/plain": [
       "[('Venus', 'NNP'),\n",
       " ('planet', 'NN'),\n",
       " ('Sun', 'NNP'),\n",
       " ('planet', 'NN'),\n",
       " ('mass', 'NN'),\n",
       " ('size', 'NN'),\n",
       " ('Earth', 'NN'),\n",
       " ('Venus', 'NNP'),\n",
       " ('atmosphere', 'NN'),\n",
       " ('planets', 'NNS'),\n",
       " ('carbon', 'NN'),\n",
       " ('dioxide', 'NN'),\n",
       " ('thick', 'NN'),\n",
       " ('acid', 'NN'),\n",
       " ('cloud', 'NN'),\n",
       " ('cover', 'NN'),\n",
       " ('surface', 'NN'),\n",
       " ('temperature', 'NN'),\n",
       " ('K', 'NNP'),\n",
       " ('°C', 'NN'),\n",
       " ('°F', 'NN'),\n",
       " ('pressure', 'NN'),\n",
       " ('times', 'NNS'),\n",
       " ('Earth', 'NNP'),\n",
       " ('sea', 'NN'),\n",
       " ('level', 'NN'),\n",
       " ('conditions', 'NNS'),\n",
       " ('carbon', 'NN'),\n",
       " ('dioxide', 'NN'),\n",
       " ('state', 'NN'),\n",
       " ('close', 'NN'),\n",
       " ('Venus', 'NNP'),\n",
       " ('surface', 'NN')]"
      ]
     },
     "execution_count": 16,
     "metadata": {},
     "output_type": "execute_result"
    }
   ],
   "source": [
    "# extract all the nouns from text \n",
    "noun=[n for n in tag if n[1].startswith('N')]\n",
    "noun"
   ]
  },
  {
   "cell_type": "code",
   "execution_count": 27,
   "id": "f508c8ed-7c62-46b5-8dc9-bdb80d08c4b0",
   "metadata": {},
   "outputs": [],
   "source": [
    "# noun_adj =[n for n,e in enumerate(tag) if e[n][1].startswith('N') and e[n+1][1].startswith('J')]\n",
    "# noun_adj"
   ]
  },
  {
   "cell_type": "code",
   "execution_count": 30,
   "id": "769a9505-2995-4e74-ac27-d3b8df88e8e6",
   "metadata": {},
   "outputs": [],
   "source": [
    "# for index,element in enumerate(tag):\n",
    "#     if element[1].startswith('NN') and element[index+1][]:\n",
    "#         print(element[0])\n",
    "#     else:\n",
    "#         None"
   ]
  },
  {
   "cell_type": "code",
   "execution_count": 34,
   "id": "2c9bbaab-2a74-44c8-9b80-5e809f60402d",
   "metadata": {},
   "outputs": [
    {
     "data": {
      "text/plain": [
       "['secondplanet',\n",
       " 'terrestrialplanet',\n",
       " 'neighbourEarth',\n",
       " 'densestatmosphere',\n",
       " 'terrestrialplanets',\n",
       " 'sulfuricacid',\n",
       " 'meantemperature',\n",
       " 'extremeconditions',\n",
       " 'supercriticalstate']"
      ]
     },
     "execution_count": 34,
     "metadata": {},
     "output_type": "execute_result"
    }
   ],
   "source": [
    "pairs = []\n",
    "\n",
    "for count in range(len(tag)):\n",
    "    if tag[count][1].startswith('JJ') and tag[count+1][1].startswith('NN'):\n",
    "        pairs.append(tag[count][0] + tag[count+1][0])\n",
    "pairs"
   ]
  },
  {
   "cell_type": "code",
   "execution_count": null,
   "id": "e1edfdd4-bb62-4a16-b95d-86f9c653cc8a",
   "metadata": {},
   "outputs": [],
   "source": []
  }
 ],
 "metadata": {
  "kernelspec": {
   "display_name": "Python 3 (ipykernel)",
   "language": "python",
   "name": "python3"
  },
  "language_info": {
   "codemirror_mode": {
    "name": "ipython",
    "version": 3
   },
   "file_extension": ".py",
   "mimetype": "text/x-python",
   "name": "python",
   "nbconvert_exporter": "python",
   "pygments_lexer": "ipython3",
   "version": "3.11.8"
  }
 },
 "nbformat": 4,
 "nbformat_minor": 5
}
