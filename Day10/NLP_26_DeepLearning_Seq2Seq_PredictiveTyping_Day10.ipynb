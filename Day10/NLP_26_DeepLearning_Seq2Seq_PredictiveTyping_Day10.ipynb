{
  "nbformat": 4,
  "nbformat_minor": 0,
  "metadata": {
    "colab": {
      "provenance": []
    },
    "kernelspec": {
      "name": "python3",
      "display_name": "Python 3"
    },
    "language_info": {
      "name": "python"
    }
  },
  "cells": [
    {
      "cell_type": "code",
      "execution_count": null,
      "metadata": {
        "id": "rsbeIujdwIxT"
      },
      "outputs": [],
      "source": [
        "import numpy as np\n",
        "import keras\n",
        "from keras.preprocessing.text import Tokenizer\n",
        "from keras.preprocessing.sequence import pad_sequences\n",
        "from keras.models import Sequential\n",
        "from keras.layers import Dense, Embedding, LSTM, SpatialDropout1D\n",
        "from sklearn.model_selection import train_test_split\n",
        "import re"
      ]
    },
    {
      "cell_type": "code",
      "source": [
        "# create a list of strings (the strings have to be sentences that will be the most commonly used in daily lives)\n",
        "text_daa"
      ],
      "metadata": {
        "id": "UPbKJN_2xiH7"
      },
      "execution_count": null,
      "outputs": []
    },
    {
      "cell_type": "code",
      "source": [
        "# prompt: Generate a list of strings which are the most commonly occuring sentences in daily lives\n",
        "\n",
        "text_data = [\n",
        "    \"I'm going to the store to buy some milk.\",\n",
        "    \"Can you pass me the remote control?\",\n",
        "    \"I'm feeling a bit tired today.\",\n",
        "    \"The weather forecast says it will rain tomorrow.\",\n",
        "    \"I need to finish this project by Friday.\",\n",
        "    \"The new restaurant downtown has great reviews.\",\n",
        "    \"I'm not sure what to wear to the party.\",\n",
        "    \"Can you help me carry these heavy boxes?\",\n",
        "    \"I'm going to the gym to work out.\",\n",
        "    \"The movie starts at 7 PM tonight.\",\n",
        "    \"I need to call my mom to check in.\",\n",
        "    \"The traffic on the highway is terrible today.\",\n",
        "    \"I'm going to the bank to deposit my paycheck.\",\n",
        "    \"The new smartphone model is really expensive.\",\n",
        "    \"I'm not feeling well, so I'm going to stay home.\",\n",
        "    \"The concert tickets are selling out fast.\",\n",
        "    \"I need to pick up my dry cleaning on the way home.\",\n",
        "    \"The new book by my favorite author is out now.\",\n",
        "    \"I'm going to the park to play some soccer.\",\n",
        "    \"The new restaurant has a great selection of vegetarian options.\"\n",
        "]"
      ],
      "metadata": {
        "id": "bw4TZ5jVyHT6"
      },
      "execution_count": null,
      "outputs": []
    },
    {
      "cell_type": "code",
      "source": [
        "# prepare the tokenizer\n",
        "tokenizer = Tokenizer()\n",
        "tokenizer.fit_on_texts(text_data)\n",
        "total_words = len(tokenizer.word_index) + 1"
      ],
      "metadata": {
        "id": "Fq99yCx9ybya"
      },
      "execution_count": null,
      "outputs": []
    },
    {
      "cell_type": "code",
      "source": [
        "total_words"
      ],
      "metadata": {
        "colab": {
          "base_uri": "https://localhost:8080/"
        },
        "id": "LvK6fhQbyhx6",
        "outputId": "72babb38-5960-438f-baf7-95ce3d16cfdd"
      },
      "execution_count": null,
      "outputs": [
        {
          "output_type": "execute_result",
          "data": {
            "text/plain": [
              "101"
            ]
          },
          "metadata": {},
          "execution_count": 5
        }
      ]
    },
    {
      "cell_type": "code",
      "source": [
        "tokenizer.word_index"
      ],
      "metadata": {
        "colab": {
          "base_uri": "https://localhost:8080/"
        },
        "id": "k9f9BB6dyitK",
        "outputId": "4e2d9da5-6c7d-42aa-9520-8fe3442b8846"
      },
      "execution_count": null,
      "outputs": [
        {
          "output_type": "execute_result",
          "data": {
            "text/plain": [
              "{'the': 1,\n",
              " 'to': 2,\n",
              " \"i'm\": 3,\n",
              " 'going': 4,\n",
              " 'new': 5,\n",
              " 'my': 6,\n",
              " 'i': 7,\n",
              " 'need': 8,\n",
              " 'out': 9,\n",
              " 'is': 10,\n",
              " 'some': 11,\n",
              " 'can': 12,\n",
              " 'you': 13,\n",
              " 'me': 14,\n",
              " 'feeling': 15,\n",
              " 'a': 16,\n",
              " 'today': 17,\n",
              " 'by': 18,\n",
              " 'restaurant': 19,\n",
              " 'has': 20,\n",
              " 'great': 21,\n",
              " 'not': 22,\n",
              " 'on': 23,\n",
              " 'home': 24,\n",
              " 'store': 25,\n",
              " 'buy': 26,\n",
              " 'milk': 27,\n",
              " 'pass': 28,\n",
              " 'remote': 29,\n",
              " 'control': 30,\n",
              " 'bit': 31,\n",
              " 'tired': 32,\n",
              " 'weather': 33,\n",
              " 'forecast': 34,\n",
              " 'says': 35,\n",
              " 'it': 36,\n",
              " 'will': 37,\n",
              " 'rain': 38,\n",
              " 'tomorrow': 39,\n",
              " 'finish': 40,\n",
              " 'this': 41,\n",
              " 'project': 42,\n",
              " 'friday': 43,\n",
              " 'downtown': 44,\n",
              " 'reviews': 45,\n",
              " 'sure': 46,\n",
              " 'what': 47,\n",
              " 'wear': 48,\n",
              " 'party': 49,\n",
              " 'help': 50,\n",
              " 'carry': 51,\n",
              " 'these': 52,\n",
              " 'heavy': 53,\n",
              " 'boxes': 54,\n",
              " 'gym': 55,\n",
              " 'work': 56,\n",
              " 'movie': 57,\n",
              " 'starts': 58,\n",
              " 'at': 59,\n",
              " '7': 60,\n",
              " 'pm': 61,\n",
              " 'tonight': 62,\n",
              " 'call': 63,\n",
              " 'mom': 64,\n",
              " 'check': 65,\n",
              " 'in': 66,\n",
              " 'traffic': 67,\n",
              " 'highway': 68,\n",
              " 'terrible': 69,\n",
              " 'bank': 70,\n",
              " 'deposit': 71,\n",
              " 'paycheck': 72,\n",
              " 'smartphone': 73,\n",
              " 'model': 74,\n",
              " 'really': 75,\n",
              " 'expensive': 76,\n",
              " 'well': 77,\n",
              " 'so': 78,\n",
              " 'stay': 79,\n",
              " 'concert': 80,\n",
              " 'tickets': 81,\n",
              " 'are': 82,\n",
              " 'selling': 83,\n",
              " 'fast': 84,\n",
              " 'pick': 85,\n",
              " 'up': 86,\n",
              " 'dry': 87,\n",
              " 'cleaning': 88,\n",
              " 'way': 89,\n",
              " 'book': 90,\n",
              " 'favorite': 91,\n",
              " 'author': 92,\n",
              " 'now': 93,\n",
              " 'park': 94,\n",
              " 'play': 95,\n",
              " 'soccer': 96,\n",
              " 'selection': 97,\n",
              " 'of': 98,\n",
              " 'vegetarian': 99,\n",
              " 'options': 100}"
            ]
          },
          "metadata": {},
          "execution_count": 6
        }
      ]
    },
    {
      "cell_type": "markdown",
      "source": [
        "Prepare the data"
      ],
      "metadata": {
        "id": "wERo4k7lzBX2"
      }
    },
    {
      "cell_type": "code",
      "source": [
        "#create sequences of words\n",
        "input_sequences = []\n",
        "for line in text_data:\n",
        "    token_list = tokenizer.texts_to_sequences([line])[0]\n",
        "    for i in range(1, len(token_list)):\n",
        "        n_gram_sequence = token_list[:i+1]\n",
        "        input_sequences.append(n_gram_sequence)"
      ],
      "metadata": {
        "id": "XRuIsKLAymq4"
      },
      "execution_count": null,
      "outputs": []
    },
    {
      "cell_type": "markdown",
      "source": [
        "Padding of sequences"
      ],
      "metadata": {
        "id": "YZHo15651Kh6"
      }
    },
    {
      "cell_type": "code",
      "source": [
        "max_sequence_len = max([len(seq) for seq in input_sequences])\n",
        "input_sequences = pad_sequences(input_sequences, maxlen=max_sequence_len, padding='pre')"
      ],
      "metadata": {
        "id": "pj_MrR7-zJqB"
      },
      "execution_count": null,
      "outputs": []
    },
    {
      "cell_type": "code",
      "source": [
        "input_sequences"
      ],
      "metadata": {
        "colab": {
          "base_uri": "https://localhost:8080/"
        },
        "id": "4x6b6hYN1WUE",
        "outputId": "64c48a12-3ce2-4ca7-d52d-7985a8842f66"
      },
      "execution_count": null,
      "outputs": [
        {
          "output_type": "execute_result",
          "data": {
            "text/plain": [
              "array([[  0,   0,   0, ...,   0,   3,   4],\n",
              "       [  0,   0,   0, ...,   3,   4,   2],\n",
              "       [  0,   0,   0, ...,   4,   2,   1],\n",
              "       ...,\n",
              "       [  0,   0,   0, ...,  21,  97,  98],\n",
              "       [  0,   0,   0, ...,  97,  98,  99],\n",
              "       [  0,   0,   1, ...,  98,  99, 100]], dtype=int32)"
            ]
          },
          "metadata": {},
          "execution_count": 25
        }
      ]
    },
    {
      "cell_type": "code",
      "source": [
        "## split the data into features and labels\n",
        "input_sequences = np.array(input_sequences)\n",
        "X,y = input_sequences[:, :-1], input_sequences[:, -1]\n",
        "y = keras.utils.to_categorical(y, num_classes=total_words)"
      ],
      "metadata": {
        "id": "h4IyM97M1XxH"
      },
      "execution_count": null,
      "outputs": []
    },
    {
      "cell_type": "code",
      "source": [
        "input_sequences[:,-1]"
      ],
      "metadata": {
        "colab": {
          "base_uri": "https://localhost:8080/"
        },
        "id": "OdAKImYY2tsd",
        "outputId": "7f25abea-742f-4647-ffce-0d97f8a35880"
      },
      "execution_count": null,
      "outputs": [
        {
          "output_type": "execute_result",
          "data": {
            "text/plain": [
              "array([  4,   2,   1,  25,   2,  26,  11,  27,  13,  28,  14,   1,  29,\n",
              "        30,  15,  16,  31,  32,  17,  33,  34,  35,  36,  37,  38,  39,\n",
              "         8,   2,  40,  41,  42,  18,  43,   5,  19,  44,  20,  21,  45,\n",
              "        22,  46,  47,   2,  48,   2,   1,  49,  13,  50,  14,  51,  52,\n",
              "        53,  54,   4,   2,   1,  55,   2,  56,   9,  57,  58,  59,  60,\n",
              "        61,  62,   8,   2,  63,   6,  64,   2,  65,  66,  67,  23,   1,\n",
              "        68,  10,  69,  17,   4,   2,   1,  70,   2,  71,   6,  72,   5,\n",
              "        73,  74,  10,  75,  76,  22,  15,  77,  78,   3,   4,   2,  79,\n",
              "        24,  80,  81,  82,  83,   9,  84,   8,   2,  85,  86,   6,  87,\n",
              "        88,  23,   1,  89,  24,   5,  90,  18,   6,  91,  92,  10,   9,\n",
              "        93,   4,   2,   1,  94,   2,  95,  11,  96,   5,  19,  20,  16,\n",
              "        21,  97,  98,  99, 100], dtype=int32)"
            ]
          },
          "metadata": {},
          "execution_count": 27
        }
      ]
    },
    {
      "cell_type": "code",
      "source": [
        "y[0]"
      ],
      "metadata": {
        "colab": {
          "base_uri": "https://localhost:8080/"
        },
        "id": "Dc0zgo4o3Bws",
        "outputId": "114e8dd0-3178-4a8d-b2d0-c57f66a65210"
      },
      "execution_count": null,
      "outputs": [
        {
          "output_type": "execute_result",
          "data": {
            "text/plain": [
              "array([0., 0., 0., 0., 1., 0., 0., 0., 0., 0., 0., 0., 0., 0., 0., 0., 0.,\n",
              "       0., 0., 0., 0., 0., 0., 0., 0., 0., 0., 0., 0., 0., 0., 0., 0., 0.,\n",
              "       0., 0., 0., 0., 0., 0., 0., 0., 0., 0., 0., 0., 0., 0., 0., 0., 0.,\n",
              "       0., 0., 0., 0., 0., 0., 0., 0., 0., 0., 0., 0., 0., 0., 0., 0., 0.,\n",
              "       0., 0., 0., 0., 0., 0., 0., 0., 0., 0., 0., 0., 0., 0., 0., 0., 0.,\n",
              "       0., 0., 0., 0., 0., 0., 0., 0., 0., 0., 0., 0., 0., 0., 0., 0.],\n",
              "      dtype=float32)"
            ]
          },
          "metadata": {},
          "execution_count": 30
        }
      ]
    },
    {
      "cell_type": "code",
      "source": [
        "# Build the RNN model\n",
        "model = Sequential()\n",
        "model.add(Embedding(total_words, 10, input_length=max_sequence_len-1))\n",
        "model.add(LSTM(150, return_sequences=True))\n",
        "model.add(LSTM(100))\n",
        "model.add(Dense(total_words, activation='softmax'))"
      ],
      "metadata": {
        "id": "3SpjsxSh3E8M"
      },
      "execution_count": null,
      "outputs": []
    },
    {
      "cell_type": "code",
      "source": [
        "model.compile(loss='categorical_crossentropy', optimizer='adam', metrics=['accuracy'])"
      ],
      "metadata": {
        "id": "04Dxf49w45WY"
      },
      "execution_count": null,
      "outputs": []
    },
    {
      "cell_type": "code",
      "source": [
        "model.summary()\n"
      ],
      "metadata": {
        "colab": {
          "base_uri": "https://localhost:8080/"
        },
        "id": "q73tBTNN5I-H",
        "outputId": "90d40339-ccc1-499d-d7d4-add4a57eeb9c"
      },
      "execution_count": null,
      "outputs": [
        {
          "output_type": "stream",
          "name": "stdout",
          "text": [
            "Model: \"sequential_1\"\n",
            "_________________________________________________________________\n",
            " Layer (type)                Output Shape              Param #   \n",
            "=================================================================\n",
            " embedding (Embedding)       (None, 11, 10)            1010      \n",
            "                                                                 \n",
            " lstm (LSTM)                 (None, 11, 150)           96600     \n",
            "                                                                 \n",
            " lstm_1 (LSTM)               (None, 100)               100400    \n",
            "                                                                 \n",
            " dense (Dense)               (None, 101)               10201     \n",
            "                                                                 \n",
            "=================================================================\n",
            "Total params: 208211 (813.32 KB)\n",
            "Trainable params: 208211 (813.32 KB)\n",
            "Non-trainable params: 0 (0.00 Byte)\n",
            "_________________________________________________________________\n"
          ]
        }
      ]
    },
    {
      "cell_type": "code",
      "source": [
        "# fit the model\n",
        "model.fit(X, y, epochs=200, batch_size=1)"
      ],
      "metadata": {
        "colab": {
          "base_uri": "https://localhost:8080/"
        },
        "id": "pDhvwbFa5MqX",
        "outputId": "e790c134-3f7a-424e-cde4-30e8e620f280"
      },
      "execution_count": null,
      "outputs": [
        {
          "output_type": "stream",
          "name": "stdout",
          "text": [
            "Epoch 1/200\n",
            "148/148 [==============================] - 8s 27ms/step - loss: 4.6216 - accuracy: 0.0338\n",
            "Epoch 2/200\n",
            "148/148 [==============================] - 3s 18ms/step - loss: 4.5541 - accuracy: 0.0946\n",
            "Epoch 3/200\n",
            "148/148 [==============================] - 3s 18ms/step - loss: 4.3770 - accuracy: 0.1014\n",
            "Epoch 4/200\n",
            "148/148 [==============================] - 3s 21ms/step - loss: 4.2436 - accuracy: 0.1081\n",
            "Epoch 5/200\n",
            "148/148 [==============================] - 5s 31ms/step - loss: 4.0897 - accuracy: 0.1081\n",
            "Epoch 6/200\n",
            "148/148 [==============================] - 3s 19ms/step - loss: 3.9153 - accuracy: 0.1081\n",
            "Epoch 7/200\n",
            "148/148 [==============================] - 3s 18ms/step - loss: 3.7806 - accuracy: 0.1149\n",
            "Epoch 8/200\n",
            "148/148 [==============================] - 3s 19ms/step - loss: 3.6050 - accuracy: 0.1284\n",
            "Epoch 9/200\n",
            "148/148 [==============================] - 4s 26ms/step - loss: 3.4093 - accuracy: 0.1554\n",
            "Epoch 10/200\n",
            "148/148 [==============================] - 4s 24ms/step - loss: 3.1746 - accuracy: 0.2162\n",
            "Epoch 11/200\n",
            "148/148 [==============================] - 3s 18ms/step - loss: 2.9113 - accuracy: 0.2365\n",
            "Epoch 12/200\n",
            "148/148 [==============================] - 3s 18ms/step - loss: 2.7124 - accuracy: 0.2432\n",
            "Epoch 13/200\n",
            "148/148 [==============================] - 3s 19ms/step - loss: 2.3963 - accuracy: 0.2973\n",
            "Epoch 14/200\n",
            "148/148 [==============================] - 5s 31ms/step - loss: 2.1990 - accuracy: 0.3176\n",
            "Epoch 15/200\n",
            "148/148 [==============================] - 3s 18ms/step - loss: 1.9880 - accuracy: 0.3851\n",
            "Epoch 16/200\n",
            "148/148 [==============================] - 3s 19ms/step - loss: 1.7714 - accuracy: 0.4392\n",
            "Epoch 17/200\n",
            "148/148 [==============================] - 3s 19ms/step - loss: 1.6049 - accuracy: 0.5135\n",
            "Epoch 18/200\n",
            "148/148 [==============================] - 4s 29ms/step - loss: 1.4463 - accuracy: 0.5676\n",
            "Epoch 19/200\n",
            "148/148 [==============================] - 4s 26ms/step - loss: 1.2951 - accuracy: 0.5946\n",
            "Epoch 20/200\n",
            "148/148 [==============================] - 3s 19ms/step - loss: 1.1710 - accuracy: 0.6284\n",
            "Epoch 21/200\n",
            "148/148 [==============================] - 3s 19ms/step - loss: 1.0758 - accuracy: 0.7027\n",
            "Epoch 22/200\n",
            "148/148 [==============================] - 5s 31ms/step - loss: 1.0388 - accuracy: 0.6622\n",
            "Epoch 23/200\n",
            "148/148 [==============================] - 4s 25ms/step - loss: 0.9955 - accuracy: 0.7095\n",
            "Epoch 24/200\n",
            "148/148 [==============================] - 3s 19ms/step - loss: 0.8790 - accuracy: 0.7297\n",
            "Epoch 25/200\n",
            "148/148 [==============================] - 3s 18ms/step - loss: 0.7947 - accuracy: 0.7365\n",
            "Epoch 26/200\n",
            "148/148 [==============================] - 3s 21ms/step - loss: 0.8142 - accuracy: 0.7297\n",
            "Epoch 27/200\n",
            "148/148 [==============================] - 4s 29ms/step - loss: 0.6859 - accuracy: 0.7973\n",
            "Epoch 28/200\n",
            "148/148 [==============================] - 3s 19ms/step - loss: 0.6471 - accuracy: 0.8041\n",
            "Epoch 29/200\n",
            "148/148 [==============================] - 3s 19ms/step - loss: 0.5971 - accuracy: 0.7838\n",
            "Epoch 30/200\n",
            "148/148 [==============================] - 3s 18ms/step - loss: 0.5744 - accuracy: 0.8041\n",
            "Epoch 31/200\n",
            "148/148 [==============================] - 4s 29ms/step - loss: 0.5275 - accuracy: 0.8108\n",
            "Epoch 32/200\n",
            "148/148 [==============================] - 3s 20ms/step - loss: 0.5068 - accuracy: 0.8041\n",
            "Epoch 33/200\n",
            "148/148 [==============================] - 3s 18ms/step - loss: 0.4954 - accuracy: 0.8176\n",
            "Epoch 34/200\n",
            "148/148 [==============================] - 3s 19ms/step - loss: 0.4852 - accuracy: 0.8311\n",
            "Epoch 35/200\n",
            "148/148 [==============================] - 5s 32ms/step - loss: 0.4814 - accuracy: 0.8243\n",
            "Epoch 36/200\n",
            "148/148 [==============================] - 3s 22ms/step - loss: 0.5037 - accuracy: 0.8108\n",
            "Epoch 37/200\n",
            "148/148 [==============================] - 3s 19ms/step - loss: 0.4788 - accuracy: 0.8176\n",
            "Epoch 38/200\n",
            "148/148 [==============================] - 3s 18ms/step - loss: 0.6105 - accuracy: 0.7770\n",
            "Epoch 39/200\n",
            "148/148 [==============================] - 3s 22ms/step - loss: 0.4616 - accuracy: 0.8243\n",
            "Epoch 40/200\n",
            "148/148 [==============================] - 4s 28ms/step - loss: 0.4165 - accuracy: 0.8176\n",
            "Epoch 41/200\n",
            "148/148 [==============================] - 3s 18ms/step - loss: 0.3972 - accuracy: 0.8446\n",
            "Epoch 42/200\n",
            "148/148 [==============================] - 3s 19ms/step - loss: 0.4509 - accuracy: 0.8378\n",
            "Epoch 43/200\n",
            "148/148 [==============================] - 3s 18ms/step - loss: 0.3862 - accuracy: 0.8176\n",
            "Epoch 44/200\n",
            "148/148 [==============================] - 5s 32ms/step - loss: 0.3719 - accuracy: 0.8176\n",
            "Epoch 45/200\n",
            "148/148 [==============================] - 3s 19ms/step - loss: 0.3627 - accuracy: 0.8446\n",
            "Epoch 46/200\n",
            "148/148 [==============================] - 3s 19ms/step - loss: 0.3625 - accuracy: 0.8311\n",
            "Epoch 47/200\n",
            "148/148 [==============================] - 3s 19ms/step - loss: 0.3582 - accuracy: 0.8176\n",
            "Epoch 48/200\n",
            "148/148 [==============================] - 4s 26ms/step - loss: 0.3399 - accuracy: 0.8378\n",
            "Epoch 49/200\n",
            "148/148 [==============================] - 4s 26ms/step - loss: 0.3447 - accuracy: 0.8446\n",
            "Epoch 50/200\n",
            "148/148 [==============================] - 3s 18ms/step - loss: 0.9926 - accuracy: 0.6757\n",
            "Epoch 51/200\n",
            "148/148 [==============================] - 3s 19ms/step - loss: 1.0268 - accuracy: 0.6351\n",
            "Epoch 52/200\n",
            "148/148 [==============================] - 3s 18ms/step - loss: 0.4642 - accuracy: 0.8243\n",
            "Epoch 53/200\n",
            "148/148 [==============================] - 5s 32ms/step - loss: 0.3697 - accuracy: 0.8311\n",
            "Epoch 54/200\n",
            "148/148 [==============================] - 3s 18ms/step - loss: 0.3391 - accuracy: 0.8581\n",
            "Epoch 55/200\n",
            "148/148 [==============================] - 3s 18ms/step - loss: 0.3367 - accuracy: 0.8649\n",
            "Epoch 56/200\n",
            "148/148 [==============================] - 3s 19ms/step - loss: 0.3307 - accuracy: 0.8311\n",
            "Epoch 57/200\n",
            "148/148 [==============================] - 4s 26ms/step - loss: 0.3236 - accuracy: 0.8514\n",
            "Epoch 58/200\n",
            "148/148 [==============================] - 4s 24ms/step - loss: 0.3136 - accuracy: 0.8514\n",
            "Epoch 59/200\n",
            "148/148 [==============================] - 3s 19ms/step - loss: 0.3159 - accuracy: 0.8581\n",
            "Epoch 60/200\n",
            "148/148 [==============================] - 3s 19ms/step - loss: 0.3153 - accuracy: 0.8649\n",
            "Epoch 61/200\n",
            "148/148 [==============================] - 3s 19ms/step - loss: 0.3130 - accuracy: 0.8514\n",
            "Epoch 62/200\n",
            "148/148 [==============================] - 5s 31ms/step - loss: 0.3122 - accuracy: 0.8581\n",
            "Epoch 63/200\n",
            "148/148 [==============================] - 3s 18ms/step - loss: 0.3101 - accuracy: 0.8378\n",
            "Epoch 64/200\n",
            "148/148 [==============================] - 3s 19ms/step - loss: 0.3431 - accuracy: 0.8581\n",
            "Epoch 65/200\n",
            "148/148 [==============================] - 3s 19ms/step - loss: 0.3161 - accuracy: 0.8446\n",
            "Epoch 66/200\n",
            "148/148 [==============================] - 4s 30ms/step - loss: 0.3410 - accuracy: 0.8514\n",
            "Epoch 67/200\n",
            "148/148 [==============================] - 3s 20ms/step - loss: 0.3315 - accuracy: 0.8311\n",
            "Epoch 68/200\n",
            "148/148 [==============================] - 3s 18ms/step - loss: 0.3143 - accuracy: 0.8446\n",
            "Epoch 69/200\n",
            "148/148 [==============================] - 3s 18ms/step - loss: 0.3082 - accuracy: 0.8581\n",
            "Epoch 70/200\n",
            "148/148 [==============================] - 3s 23ms/step - loss: 0.3046 - accuracy: 0.8514\n",
            "Epoch 71/200\n",
            "148/148 [==============================] - 4s 29ms/step - loss: 0.3068 - accuracy: 0.8581\n",
            "Epoch 72/200\n",
            "148/148 [==============================] - 3s 18ms/step - loss: 0.2933 - accuracy: 0.8581\n",
            "Epoch 73/200\n",
            "148/148 [==============================] - 3s 19ms/step - loss: 0.2998 - accuracy: 0.8649\n",
            "Epoch 74/200\n",
            "148/148 [==============================] - 3s 18ms/step - loss: 0.2969 - accuracy: 0.8581\n",
            "Epoch 75/200\n",
            "148/148 [==============================] - 4s 30ms/step - loss: 0.4695 - accuracy: 0.8108\n",
            "Epoch 76/200\n",
            "148/148 [==============================] - 3s 22ms/step - loss: 0.7551 - accuracy: 0.7095\n",
            "Epoch 77/200\n",
            "148/148 [==============================] - 3s 18ms/step - loss: 0.5360 - accuracy: 0.7770\n",
            "Epoch 78/200\n",
            "148/148 [==============================] - 3s 23ms/step - loss: 0.3895 - accuracy: 0.8243\n",
            "Epoch 79/200\n",
            "148/148 [==============================] - 5s 37ms/step - loss: 0.3240 - accuracy: 0.8649\n",
            "Epoch 80/200\n",
            "148/148 [==============================] - 4s 24ms/step - loss: 0.3041 - accuracy: 0.8649\n",
            "Epoch 81/200\n",
            "148/148 [==============================] - 3s 18ms/step - loss: 0.2965 - accuracy: 0.8581\n",
            "Epoch 82/200\n",
            "148/148 [==============================] - 3s 18ms/step - loss: 0.2915 - accuracy: 0.8716\n",
            "Epoch 83/200\n",
            "148/148 [==============================] - 3s 19ms/step - loss: 0.2965 - accuracy: 0.8581\n",
            "Epoch 84/200\n",
            "148/148 [==============================] - 5s 31ms/step - loss: 0.2919 - accuracy: 0.8649\n",
            "Epoch 85/200\n",
            "148/148 [==============================] - 3s 18ms/step - loss: 0.2917 - accuracy: 0.8716\n",
            "Epoch 86/200\n",
            "148/148 [==============================] - 3s 18ms/step - loss: 0.2818 - accuracy: 0.8649\n",
            "Epoch 87/200\n",
            "148/148 [==============================] - 3s 19ms/step - loss: 0.2915 - accuracy: 0.8514\n",
            "Epoch 88/200\n",
            "148/148 [==============================] - 4s 29ms/step - loss: 0.2872 - accuracy: 0.8649\n",
            "Epoch 89/200\n",
            "148/148 [==============================] - 3s 21ms/step - loss: 0.2819 - accuracy: 0.8581\n",
            "Epoch 90/200\n",
            "148/148 [==============================] - 3s 19ms/step - loss: 0.2854 - accuracy: 0.8581\n",
            "Epoch 91/200\n",
            "148/148 [==============================] - 3s 19ms/step - loss: 0.2887 - accuracy: 0.8514\n",
            "Epoch 92/200\n",
            "148/148 [==============================] - 3s 22ms/step - loss: 0.2840 - accuracy: 0.8514\n",
            "Epoch 93/200\n",
            "148/148 [==============================] - 4s 28ms/step - loss: 0.2836 - accuracy: 0.8716\n",
            "Epoch 94/200\n",
            "148/148 [==============================] - 3s 19ms/step - loss: 0.2853 - accuracy: 0.8514\n",
            "Epoch 95/200\n",
            "148/148 [==============================] - 3s 18ms/step - loss: 0.2818 - accuracy: 0.8716\n",
            "Epoch 96/200\n",
            "148/148 [==============================] - 3s 19ms/step - loss: 0.2833 - accuracy: 0.8649\n",
            "Epoch 97/200\n",
            "148/148 [==============================] - 5s 34ms/step - loss: 0.2799 - accuracy: 0.8649\n",
            "Epoch 98/200\n",
            "148/148 [==============================] - 5s 36ms/step - loss: 0.2827 - accuracy: 0.8649\n",
            "Epoch 99/200\n",
            "148/148 [==============================] - 4s 28ms/step - loss: 0.2729 - accuracy: 0.8716\n",
            "Epoch 100/200\n",
            "148/148 [==============================] - 6s 44ms/step - loss: 0.2850 - accuracy: 0.8514\n",
            "Epoch 101/200\n",
            "148/148 [==============================] - 4s 24ms/step - loss: 0.2822 - accuracy: 0.8581\n",
            "Epoch 102/200\n",
            "148/148 [==============================] - 5s 37ms/step - loss: 0.2804 - accuracy: 0.8716\n",
            "Epoch 103/200\n",
            "148/148 [==============================] - 7s 49ms/step - loss: 0.2831 - accuracy: 0.8446\n",
            "Epoch 104/200\n",
            "148/148 [==============================] - 6s 38ms/step - loss: 0.2757 - accuracy: 0.8716\n",
            "Epoch 105/200\n",
            "148/148 [==============================] - 3s 20ms/step - loss: 0.2827 - accuracy: 0.8716\n",
            "Epoch 106/200\n",
            "148/148 [==============================] - 5s 33ms/step - loss: 0.2776 - accuracy: 0.8716\n",
            "Epoch 107/200\n",
            "148/148 [==============================] - 5s 35ms/step - loss: 0.4240 - accuracy: 0.8243\n",
            "Epoch 108/200\n",
            "148/148 [==============================] - 6s 39ms/step - loss: 0.8089 - accuracy: 0.7230\n",
            "Epoch 109/200\n",
            "148/148 [==============================] - 6s 39ms/step - loss: 0.3630 - accuracy: 0.8378\n",
            "Epoch 110/200\n",
            "148/148 [==============================] - 3s 22ms/step - loss: 0.3237 - accuracy: 0.8514\n",
            "Epoch 111/200\n",
            "148/148 [==============================] - 4s 30ms/step - loss: 0.2934 - accuracy: 0.8514\n",
            "Epoch 112/200\n",
            "148/148 [==============================] - 5s 36ms/step - loss: 0.2863 - accuracy: 0.8649\n",
            "Epoch 113/200\n",
            "148/148 [==============================] - 3s 18ms/step - loss: 0.2816 - accuracy: 0.8649\n",
            "Epoch 114/200\n",
            "148/148 [==============================] - 3s 18ms/step - loss: 0.2797 - accuracy: 0.8378\n",
            "Epoch 115/200\n",
            "148/148 [==============================] - 3s 19ms/step - loss: 0.2816 - accuracy: 0.8514\n",
            "Epoch 116/200\n",
            "148/148 [==============================] - 4s 29ms/step - loss: 0.2758 - accuracy: 0.8649\n",
            "Epoch 117/200\n",
            "148/148 [==============================] - 3s 22ms/step - loss: 0.2791 - accuracy: 0.8649\n",
            "Epoch 118/200\n",
            "148/148 [==============================] - 3s 18ms/step - loss: 0.2795 - accuracy: 0.8649\n",
            "Epoch 119/200\n",
            "148/148 [==============================] - 3s 18ms/step - loss: 0.2785 - accuracy: 0.8649\n",
            "Epoch 120/200\n",
            "148/148 [==============================] - 3s 19ms/step - loss: 0.2788 - accuracy: 0.8581\n",
            "Epoch 121/200\n",
            "148/148 [==============================] - 5s 31ms/step - loss: 0.2844 - accuracy: 0.8716\n",
            "Epoch 122/200\n",
            "148/148 [==============================] - 3s 19ms/step - loss: 0.2795 - accuracy: 0.8784\n",
            "Epoch 123/200\n",
            "148/148 [==============================] - 3s 18ms/step - loss: 0.2758 - accuracy: 0.8378\n",
            "Epoch 124/200\n",
            "148/148 [==============================] - 3s 19ms/step - loss: 0.2798 - accuracy: 0.8514\n",
            "Epoch 125/200\n",
            "148/148 [==============================] - 4s 29ms/step - loss: 0.2800 - accuracy: 0.8649\n",
            "Epoch 126/200\n",
            "148/148 [==============================] - 3s 23ms/step - loss: 0.2840 - accuracy: 0.8581\n",
            "Epoch 127/200\n",
            "148/148 [==============================] - 3s 18ms/step - loss: 0.2769 - accuracy: 0.8649\n",
            "Epoch 128/200\n",
            "148/148 [==============================] - 3s 18ms/step - loss: 0.2785 - accuracy: 0.8514\n",
            "Epoch 129/200\n",
            "148/148 [==============================] - 3s 20ms/step - loss: 0.2751 - accuracy: 0.8514\n",
            "Epoch 130/200\n",
            "148/148 [==============================] - 5s 32ms/step - loss: 0.2831 - accuracy: 0.8649\n",
            "Epoch 131/200\n",
            "148/148 [==============================] - 3s 19ms/step - loss: 0.2734 - accuracy: 0.8649\n",
            "Epoch 132/200\n",
            "148/148 [==============================] - 3s 19ms/step - loss: 0.2722 - accuracy: 0.8649\n",
            "Epoch 133/200\n",
            "148/148 [==============================] - 3s 19ms/step - loss: 0.2764 - accuracy: 0.8649\n",
            "Epoch 134/200\n",
            "148/148 [==============================] - 4s 29ms/step - loss: 0.2758 - accuracy: 0.8649\n",
            "Epoch 135/200\n",
            "148/148 [==============================] - 4s 24ms/step - loss: 0.2791 - accuracy: 0.8581\n",
            "Epoch 136/200\n",
            "148/148 [==============================] - 3s 19ms/step - loss: 0.2762 - accuracy: 0.8649\n",
            "Epoch 137/200\n",
            "148/148 [==============================] - 3s 19ms/step - loss: 0.2746 - accuracy: 0.8649\n",
            "Epoch 138/200\n",
            "148/148 [==============================] - 3s 22ms/step - loss: 0.2747 - accuracy: 0.8649\n",
            "Epoch 139/200\n",
            "148/148 [==============================] - 5s 31ms/step - loss: 0.2746 - accuracy: 0.8581\n",
            "Epoch 140/200\n",
            "148/148 [==============================] - 3s 23ms/step - loss: 0.2752 - accuracy: 0.8581\n",
            "Epoch 141/200\n",
            "148/148 [==============================] - 3s 20ms/step - loss: 0.2738 - accuracy: 0.8446\n",
            "Epoch 142/200\n",
            "148/148 [==============================] - 4s 26ms/step - loss: 0.2699 - accuracy: 0.8581\n",
            "Epoch 143/200\n",
            "148/148 [==============================] - 7s 48ms/step - loss: 0.2715 - accuracy: 0.8649\n",
            "Epoch 144/200\n",
            "148/148 [==============================] - 4s 25ms/step - loss: 0.2744 - accuracy: 0.8514\n",
            "Epoch 145/200\n",
            "148/148 [==============================] - 4s 28ms/step - loss: 0.2757 - accuracy: 0.8446\n",
            "Epoch 146/200\n",
            "148/148 [==============================] - 4s 30ms/step - loss: 0.2753 - accuracy: 0.8446\n",
            "Epoch 147/200\n",
            "148/148 [==============================] - 3s 20ms/step - loss: 0.2773 - accuracy: 0.8581\n",
            "Epoch 148/200\n",
            "148/148 [==============================] - 3s 20ms/step - loss: 0.2737 - accuracy: 0.8378\n",
            "Epoch 149/200\n",
            "148/148 [==============================] - 3s 20ms/step - loss: 0.2737 - accuracy: 0.8581\n",
            "Epoch 150/200\n",
            "148/148 [==============================] - 5s 34ms/step - loss: 0.2778 - accuracy: 0.8649\n",
            "Epoch 151/200\n",
            "148/148 [==============================] - 3s 20ms/step - loss: 0.6113 - accuracy: 0.7635\n",
            "Epoch 152/200\n",
            "148/148 [==============================] - 4s 28ms/step - loss: 0.6832 - accuracy: 0.7432\n",
            "Epoch 153/200\n",
            "148/148 [==============================] - 5s 31ms/step - loss: 0.4292 - accuracy: 0.8176\n",
            "Epoch 154/200\n",
            "148/148 [==============================] - 4s 27ms/step - loss: 0.3240 - accuracy: 0.8581\n",
            "Epoch 155/200\n",
            "148/148 [==============================] - 3s 20ms/step - loss: 0.2877 - accuracy: 0.8649\n",
            "Epoch 156/200\n",
            "148/148 [==============================] - 3s 19ms/step - loss: 0.2770 - accuracy: 0.8649\n",
            "Epoch 157/200\n",
            "148/148 [==============================] - 3s 19ms/step - loss: 0.2754 - accuracy: 0.8581\n",
            "Epoch 158/200\n",
            "148/148 [==============================] - 5s 33ms/step - loss: 0.2771 - accuracy: 0.8716\n",
            "Epoch 159/200\n",
            "148/148 [==============================] - 3s 18ms/step - loss: 0.2782 - accuracy: 0.8514\n",
            "Epoch 160/200\n",
            "148/148 [==============================] - 3s 19ms/step - loss: 0.2742 - accuracy: 0.8649\n",
            "Epoch 161/200\n",
            "148/148 [==============================] - 3s 19ms/step - loss: 0.2800 - accuracy: 0.8649\n",
            "Epoch 162/200\n",
            "148/148 [==============================] - 4s 28ms/step - loss: 0.2748 - accuracy: 0.8514\n",
            "Epoch 163/200\n",
            "148/148 [==============================] - 4s 24ms/step - loss: 0.2729 - accuracy: 0.8649\n",
            "Epoch 164/200\n",
            "148/148 [==============================] - 3s 19ms/step - loss: 0.2745 - accuracy: 0.8581\n",
            "Epoch 165/200\n",
            "148/148 [==============================] - 3s 18ms/step - loss: 0.2776 - accuracy: 0.8514\n",
            "Epoch 166/200\n",
            "148/148 [==============================] - 3s 20ms/step - loss: 0.2767 - accuracy: 0.8649\n",
            "Epoch 167/200\n",
            "148/148 [==============================] - 4s 30ms/step - loss: 0.2769 - accuracy: 0.8649\n",
            "Epoch 168/200\n",
            "148/148 [==============================] - 3s 19ms/step - loss: 0.2779 - accuracy: 0.8581\n",
            "Epoch 169/200\n",
            "148/148 [==============================] - 3s 19ms/step - loss: 0.2708 - accuracy: 0.8649\n",
            "Epoch 170/200\n",
            "148/148 [==============================] - 3s 21ms/step - loss: 0.2757 - accuracy: 0.8378\n",
            "Epoch 171/200\n",
            "148/148 [==============================] - 5s 33ms/step - loss: 0.2751 - accuracy: 0.8581\n",
            "Epoch 172/200\n",
            "148/148 [==============================] - 3s 19ms/step - loss: 0.2721 - accuracy: 0.8581\n",
            "Epoch 173/200\n",
            "148/148 [==============================] - 3s 19ms/step - loss: 0.2708 - accuracy: 0.8649\n",
            "Epoch 174/200\n",
            "148/148 [==============================] - 3s 22ms/step - loss: 0.2734 - accuracy: 0.8581\n",
            "Epoch 175/200\n",
            "148/148 [==============================] - 4s 27ms/step - loss: 0.2726 - accuracy: 0.8784\n",
            "Epoch 176/200\n",
            "148/148 [==============================] - 4s 25ms/step - loss: 0.2731 - accuracy: 0.8581\n",
            "Epoch 177/200\n",
            "148/148 [==============================] - 3s 19ms/step - loss: 0.2713 - accuracy: 0.8649\n",
            "Epoch 178/200\n",
            "148/148 [==============================] - 3s 19ms/step - loss: 0.2713 - accuracy: 0.8716\n",
            "Epoch 179/200\n",
            "148/148 [==============================] - 3s 20ms/step - loss: 0.2715 - accuracy: 0.8716\n",
            "Epoch 180/200\n",
            "148/148 [==============================] - 5s 31ms/step - loss: 0.2702 - accuracy: 0.8716\n",
            "Epoch 181/200\n",
            "148/148 [==============================] - 3s 19ms/step - loss: 0.2712 - accuracy: 0.8649\n",
            "Epoch 182/200\n",
            "148/148 [==============================] - 3s 19ms/step - loss: 0.2750 - accuracy: 0.8784\n",
            "Epoch 183/200\n",
            "148/148 [==============================] - 3s 19ms/step - loss: 0.2688 - accuracy: 0.8581\n",
            "Epoch 184/200\n",
            "148/148 [==============================] - 5s 32ms/step - loss: 0.2697 - accuracy: 0.8581\n",
            "Epoch 185/200\n",
            "148/148 [==============================] - 3s 19ms/step - loss: 0.2733 - accuracy: 0.8581\n",
            "Epoch 186/200\n",
            "148/148 [==============================] - 3s 19ms/step - loss: 0.2717 - accuracy: 0.8581\n",
            "Epoch 187/200\n",
            "148/148 [==============================] - 3s 20ms/step - loss: 0.2714 - accuracy: 0.8446\n",
            "Epoch 188/200\n",
            "148/148 [==============================] - 4s 27ms/step - loss: 0.2676 - accuracy: 0.8514\n",
            "Epoch 189/200\n",
            "148/148 [==============================] - 4s 25ms/step - loss: 0.2743 - accuracy: 0.8446\n",
            "Epoch 190/200\n",
            "148/148 [==============================] - 3s 19ms/step - loss: 0.2735 - accuracy: 0.8649\n",
            "Epoch 191/200\n",
            "148/148 [==============================] - 3s 19ms/step - loss: 0.2740 - accuracy: 0.8581\n",
            "Epoch 192/200\n",
            "148/148 [==============================] - 4s 26ms/step - loss: 0.2727 - accuracy: 0.8649\n",
            "Epoch 193/200\n",
            "148/148 [==============================] - 4s 27ms/step - loss: 0.2694 - accuracy: 0.8581\n",
            "Epoch 194/200\n",
            "148/148 [==============================] - 3s 19ms/step - loss: 0.2751 - accuracy: 0.8514\n",
            "Epoch 195/200\n",
            "148/148 [==============================] - 3s 19ms/step - loss: 0.4165 - accuracy: 0.8514\n",
            "Epoch 196/200\n",
            "148/148 [==============================] - 3s 19ms/step - loss: 0.3056 - accuracy: 0.8514\n",
            "Epoch 197/200\n",
            "148/148 [==============================] - 5s 33ms/step - loss: 0.3233 - accuracy: 0.8311\n",
            "Epoch 198/200\n",
            "148/148 [==============================] - 3s 19ms/step - loss: 0.4645 - accuracy: 0.8446\n",
            "Epoch 199/200\n",
            "148/148 [==============================] - 3s 19ms/step - loss: 0.4290 - accuracy: 0.8378\n",
            "Epoch 200/200\n",
            "148/148 [==============================] - 3s 19ms/step - loss: 0.3310 - accuracy: 0.8378\n"
          ]
        },
        {
          "output_type": "execute_result",
          "data": {
            "text/plain": [
              "<keras.src.callbacks.History at 0x7b919175ab30>"
            ]
          },
          "metadata": {},
          "execution_count": 35
        }
      ]
    },
    {
      "cell_type": "code",
      "source": [
        "def predict_next_word(model, tokenizer, text, max_sequence_len):\n",
        "    token_list = tokenizer.texts_to_sequences([text])[0]\n",
        "    token_list = pad_sequences([token_list], maxlen=max_sequence_len-1, padding='pre')\n",
        "    predicted = model.predict(token_list)\n",
        "    predicted_index = np.argmax(predicted)\n",
        "    predicted_word = tokenizer.index_word[predicted_index]\n",
        "    return predicted_word\n",
        "\n",
        "new  = \"I'm\"\n",
        "\n",
        "next_word = predict_next_word(model, tokenizer, new, max_sequence_len)\n",
        "print(f\"Next Word: {next_word}\")"
      ],
      "metadata": {
        "colab": {
          "base_uri": "https://localhost:8080/"
        },
        "id": "Ws8hpgbP5UwW",
        "outputId": "d0453816-9077-4bba-9989-25b27f7542d3"
      },
      "execution_count": null,
      "outputs": [
        {
          "output_type": "stream",
          "name": "stdout",
          "text": [
            "1/1 [==============================] - 0s 28ms/step\n",
            "Next Word: going\n"
          ]
        }
      ]
    },
    {
      "cell_type": "code",
      "source": [],
      "metadata": {
        "id": "edGIKhFo8ShC"
      },
      "execution_count": null,
      "outputs": []
    }
  ]
}