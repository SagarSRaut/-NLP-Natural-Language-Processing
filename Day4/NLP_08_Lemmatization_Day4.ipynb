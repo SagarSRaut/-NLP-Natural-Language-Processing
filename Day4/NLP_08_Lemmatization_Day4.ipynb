{
 "cells": [
  {
   "cell_type": "code",
   "execution_count": 9,
   "id": "9e65f4ac-fbb6-45bc-a63f-ee1617e54efb",
   "metadata": {},
   "outputs": [],
   "source": [
    "word1='managing','manage','managment','managerial','managed'\n",
    "word2='worked','workable', 'working', 'worked'\n",
    "word3 = 'big', 'biggest', 'bigger'\n",
    "word4 = 'go', 'gone', 'went', 'going'\n",
    "word5 = 'association', 'associated', 'associate'\n",
    "word6 = 'plays','playing','played','players'\n",
    "word7 = 'child','childern'\n",
    "word8 = 'fast','fastest','faster'"
   ]
  },
  {
   "cell_type": "code",
   "execution_count": 10,
   "id": "1b65137e-2f44-4774-8ce7-9ef0c91c2056",
   "metadata": {},
   "outputs": [],
   "source": [
    "from nltk.stem import WordNetLemmatizer"
   ]
  },
  {
   "cell_type": "code",
   "execution_count": 11,
   "id": "b97b4b96-1eb3-48cb-9092-956a9289a816",
   "metadata": {},
   "outputs": [],
   "source": [
    "wnl= WordNetLemmatizer()"
   ]
  },
  {
   "cell_type": "code",
   "execution_count": 12,
   "id": "96a0029a-1bad-4861-a205-610519a5e256",
   "metadata": {},
   "outputs": [
    {
     "data": {
      "text/plain": [
       "'manage'"
      ]
     },
     "execution_count": 12,
     "metadata": {},
     "output_type": "execute_result"
    }
   ],
   "source": [
    "wnl.lemmatize(word1[0],pos='v')"
   ]
  },
  {
   "cell_type": "code",
   "execution_count": 13,
   "id": "857600ec-5257-4be9-8f42-82d4663c0f59",
   "metadata": {},
   "outputs": [
    {
     "name": "stdout",
     "output_type": "stream",
     "text": [
      "went --> go\n"
     ]
    }
   ],
   "source": [
    "print(word4[2],'-->',wnl.lemmatize(word4[2],pos='v'))"
   ]
  },
  {
   "cell_type": "code",
   "execution_count": 14,
   "id": "0f1a3a52-2272-4ed0-8d4c-d5b3fba479ef",
   "metadata": {},
   "outputs": [
    {
     "name": "stdout",
     "output_type": "stream",
     "text": [
      "biggest --> big\n"
     ]
    }
   ],
   "source": [
    "print(word3[1],'-->',wnl.lemmatize(word3[1],pos='a'))"
   ]
  },
  {
   "cell_type": "code",
   "execution_count": 15,
   "id": "ee91bb09-377e-4142-b275-b5451236fd26",
   "metadata": {},
   "outputs": [
    {
     "name": "stdout",
     "output_type": "stream",
     "text": [
      "players --> player\n"
     ]
    }
   ],
   "source": [
    "print(word6[3],'-->',wnl.lemmatize(word6[3],pos='n'))"
   ]
  },
  {
   "cell_type": "code",
   "execution_count": 17,
   "id": "378a5a39-8abb-436c-9b53-b189d5b2d64f",
   "metadata": {},
   "outputs": [
    {
     "name": "stdout",
     "output_type": "stream",
     "text": [
      "faster --> faster\n"
     ]
    }
   ],
   "source": [
    "print(word8[2],'-->',wnl.lemmatize(word8[2],pos='r'))"
   ]
  },
  {
   "cell_type": "code",
   "execution_count": null,
   "id": "147b74b1-5610-4a99-8237-fdd3b15ec9a5",
   "metadata": {},
   "outputs": [],
   "source": []
  },
  {
   "cell_type": "code",
   "execution_count": null,
   "id": "4d7678a1-eb31-499d-a9e1-0b9e671499a8",
   "metadata": {},
   "outputs": [],
   "source": []
  },
  {
   "cell_type": "code",
   "execution_count": null,
   "id": "106f4f0a-23f6-4262-a308-75632bbe7e15",
   "metadata": {},
   "outputs": [],
   "source": []
  },
  {
   "cell_type": "code",
   "execution_count": null,
   "id": "7d1d0bc8-31df-4bd0-b530-c2f8992a42d8",
   "metadata": {},
   "outputs": [],
   "source": []
  }
 ],
 "metadata": {
  "kernelspec": {
   "display_name": "Python 3 (ipykernel)",
   "language": "python",
   "name": "python3"
  },
  "language_info": {
   "codemirror_mode": {
    "name": "ipython",
    "version": 3
   },
   "file_extension": ".py",
   "mimetype": "text/x-python",
   "name": "python",
   "nbconvert_exporter": "python",
   "pygments_lexer": "ipython3",
   "version": "3.11.8"
  }
 },
 "nbformat": 4,
 "nbformat_minor": 5
}
