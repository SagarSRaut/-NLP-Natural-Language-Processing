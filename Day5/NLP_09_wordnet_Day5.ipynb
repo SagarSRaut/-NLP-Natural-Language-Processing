{
 "cells": [
  {
   "cell_type": "code",
   "execution_count": 2,
   "id": "19b53c0d-e108-43f0-8c0b-f7e271c77150",
   "metadata": {},
   "outputs": [],
   "source": [
    "from nltk.corpus import wordnet"
   ]
  },
  {
   "cell_type": "code",
   "execution_count": 3,
   "id": "5a029178-b2f4-425a-8f88-17d6229444e1",
   "metadata": {},
   "outputs": [
    {
     "data": {
      "text/plain": [
       "<WordNetCorpusReader in 'C:\\\\Users\\\\Administrator.DAI-PC2\\\\AppData\\\\Roaming\\\\nltk_data\\\\corpora\\\\wordnet.zip/wordnet/'>"
      ]
     },
     "execution_count": 3,
     "metadata": {},
     "output_type": "execute_result"
    }
   ],
   "source": [
    "wordnet"
   ]
  },
  {
   "cell_type": "code",
   "execution_count": 6,
   "id": "1653adbb-d967-4124-aef5-4e32362b7839",
   "metadata": {},
   "outputs": [],
   "source": [
    "x=wordnet.synsets('create')"
   ]
  },
  {
   "cell_type": "code",
   "execution_count": 7,
   "id": "05787c66-8f0e-47ea-a929-75a484821ea0",
   "metadata": {},
   "outputs": [
    {
     "data": {
      "text/plain": [
       "[Synset('make.v.03'),\n",
       " Synset('create.v.02'),\n",
       " Synset('create.v.03'),\n",
       " Synset('create.v.04'),\n",
       " Synset('create.v.05'),\n",
       " Synset('produce.v.02')]"
      ]
     },
     "execution_count": 7,
     "metadata": {},
     "output_type": "execute_result"
    }
   ],
   "source": [
    "x\n"
   ]
  },
  {
   "cell_type": "code",
   "execution_count": 17,
   "id": "0a3b4272-9f0f-4627-a548-11db03c8bc18",
   "metadata": {},
   "outputs": [],
   "source": [
    "synonyms = set()\n",
    "for word in wordnet.synsets('good'):\n",
    "    synonyms.add(word.lemmas()[0].name())"
   ]
  },
  {
   "cell_type": "code",
   "execution_count": 15,
   "id": "b70a0f65-c20c-44ee-a6cd-8bdeec179e46",
   "metadata": {},
   "outputs": [
    {
     "data": {
      "text/plain": [
       "{'adept',\n",
       " 'beneficial',\n",
       " 'commodity',\n",
       " 'dear',\n",
       " 'dependable',\n",
       " 'effective',\n",
       " 'estimable',\n",
       " 'full',\n",
       " 'good',\n",
       " 'thoroughly',\n",
       " 'well'}"
      ]
     },
     "execution_count": 15,
     "metadata": {},
     "output_type": "execute_result"
    }
   ],
   "source": [
    "synonyms"
   ]
  },
  {
   "cell_type": "markdown",
   "id": "c3bda7ff-5652-49de-8745-b5fb329230a6",
   "metadata": {},
   "source": [
    "Definition and example"
   ]
  },
  {
   "cell_type": "code",
   "execution_count": 19,
   "id": "f1f932a8-a04d-4e17-9eb5-f8bf2873cc50",
   "metadata": {},
   "outputs": [
    {
     "name": "stdout",
     "output_type": "stream",
     "text": [
      "word and type:post.n.01\n",
      "Synonym :post\n",
      "the meaning of the word:the position where someone (as a guard or sentry) stands or is assigned to stand\n",
      "Example :['a soldier manned the entrance post', 'a sentry station']\n"
     ]
    }
   ],
   "source": [
    "synset = wordnet.synsets(\"post\")\n",
    "print('word and type:'+synset[0].name())\n",
    "print('Synonym :'+ synset[0].lemmas()[0].name())\n",
    "print('the meaning of the word:'+ synset[0].definition())\n",
    "print('Example :'+ str(synset[0].examples()))\n",
    "\n"
   ]
  },
  {
   "cell_type": "code",
   "execution_count": 20,
   "id": "ab859e7f-8234-4506-ade1-957f0690bf69",
   "metadata": {},
   "outputs": [
    {
     "name": "stdout",
     "output_type": "stream",
     "text": [
      "word and type:position.n.06\n",
      "Synonym :position\n",
      "the meaning of the word:a job in an organization\n",
      "Example :['he occupied a post in the treasury']\n"
     ]
    }
   ],
   "source": [
    "synset = wordnet.synsets(\"post\")\n",
    "print('word and type:'+synset[2].name())\n",
    "print('Synonym :'+ synset[2].lemmas()[0].name())\n",
    "print('the meaning of the word:'+ synset[2].definition())\n",
    "print('Example :'+ str(synset[2].examples()))\n",
    "\n"
   ]
  },
  {
   "cell_type": "code",
   "execution_count": 21,
   "id": "83c2ba0d-0d0c-488b-b355-0f455bb1cee4",
   "metadata": {},
   "outputs": [
    {
     "name": "stdout",
     "output_type": "stream",
     "text": [
      "word and type:post.n.06\n",
      "Synonym :Post\n",
      "the meaning of the word:United States female author who wrote a book and a syndicated newspaper column on etiquette (1872-1960)\n",
      "Example :[]\n"
     ]
    }
   ],
   "source": [
    "synset = wordnet.synsets(\"post\")\n",
    "print('word and type:'+synset[5].name())\n",
    "print('Synonym :'+ synset[5].lemmas()[0].name())\n",
    "print('the meaning of the word:'+ synset[5].definition())\n",
    "print('Example :'+ str(synset[5].examples()))\n",
    "\n"
   ]
  },
  {
   "cell_type": "code",
   "execution_count": 22,
   "id": "43f15b00-dc7e-4ea8-ac50-f9679cc9c4e5",
   "metadata": {},
   "outputs": [
    {
     "name": "stdout",
     "output_type": "stream",
     "text": [
      "word and type:post.n.09\n",
      "Synonym :post\n",
      "the meaning of the word:a pole or stake set up to mark something (as the start or end of a race track)\n",
      "Example :['a pair of posts marked the goal', 'the corner of the lot was indicated by a stake']\n"
     ]
    }
   ],
   "source": [
    "synset = wordnet.synsets(\"post\")\n",
    "print('word and type:'+synset[8].name())\n",
    "print('Synonym :'+ synset[8].lemmas()[0].name())\n",
    "print('the meaning of the word:'+ synset[8].definition())\n",
    "print('Example :'+ str(synset[8].examples()))\n",
    "\n"
   ]
  },
  {
   "cell_type": "code",
   "execution_count": 23,
   "id": "ac09e608-8748-4410-b57f-d220dea36367",
   "metadata": {},
   "outputs": [
    {
     "data": {
      "text/plain": [
       "[Synset('post.n.01'),\n",
       " Synset('military_post.n.01'),\n",
       " Synset('position.n.06'),\n",
       " Synset('post.n.04'),\n",
       " Synset('post.n.05'),\n",
       " Synset('post.n.06'),\n",
       " Synset('post.n.07'),\n",
       " Synset('mail.n.04'),\n",
       " Synset('post.n.09'),\n",
       " Synset('mail.n.02'),\n",
       " Synset('post.n.11'),\n",
       " Synset('post.v.01'),\n",
       " Synset('post.v.02'),\n",
       " Synset('post.v.03'),\n",
       " Synset('station.v.01'),\n",
       " Synset('post.v.05'),\n",
       " Synset('post.v.06'),\n",
       " Synset('post.v.07'),\n",
       " Synset('post.v.08'),\n",
       " Synset('stake.v.03'),\n",
       " Synset('post.v.10'),\n",
       " Synset('mail.v.02'),\n",
       " Synset('post.v.12')]"
      ]
     },
     "execution_count": 23,
     "metadata": {},
     "output_type": "execute_result"
    }
   ],
   "source": [
    "synset"
   ]
  },
  {
   "cell_type": "code",
   "execution_count": 24,
   "id": "ade2c3ab-11bf-4745-98e7-9bdfb3a13fff",
   "metadata": {},
   "outputs": [
    {
     "name": "stdout",
     "output_type": "stream",
     "text": [
      "sound.v.01\n",
      "sound.v.02\n",
      "sound.v.03\n",
      "sound.v.04\n",
      "voice.v.02\n",
      "sound.v.06\n",
      "fathom.v.02\n"
     ]
    }
   ],
   "source": [
    "for word in wordnet.synsets('sound',pos='v'):\n",
    "    print(word.name())"
   ]
  },
  {
   "cell_type": "code",
   "execution_count": 25,
   "id": "4ebac63a-c13f-4004-a73b-d628225726a6",
   "metadata": {},
   "outputs": [
    {
     "name": "stdout",
     "output_type": "stream",
     "text": [
      "sound.n.01\n",
      "sound.n.02\n",
      "sound.n.03\n",
      "sound.n.04\n",
      "audio.n.01\n",
      "phone.n.02\n",
      "strait.n.01\n",
      "sound.n.08\n"
     ]
    }
   ],
   "source": [
    "for word in wordnet.synsets('sound',pos='n'):\n",
    "    print(word.name())"
   ]
  },
  {
   "cell_type": "code",
   "execution_count": 26,
   "id": "2180c969-56ad-4718-acf7-fbb64bdde016",
   "metadata": {},
   "outputs": [],
   "source": [
    "# Read a word from user and print all meanings of it .\n",
    "#read a word from user and print all noun meanings of it."
   ]
  },
  {
   "cell_type": "code",
   "execution_count": 35,
   "id": "90f89fd5-e393-409b-a7d3-cbfb9885713d",
   "metadata": {},
   "outputs": [
    {
     "name": "stdin",
     "output_type": "stream",
     "text": [
      "enter any word: ball\n"
     ]
    },
    {
     "name": "stdout",
     "output_type": "stream",
     "text": [
      "the meaning of the word:round object that is hit or thrown or kicked in games\n"
     ]
    }
   ],
   "source": [
    "word=input(\"enter any word:\")\n",
    "synset = wordnet.synsets(word)\n",
    "\n",
    "print('the meaning of the word:'+ synset[0].definition())\n"
   ]
  },
  {
   "cell_type": "code",
   "execution_count": 36,
   "id": "ad4d9ffb-15fa-47bc-bb0c-2c1341599c54",
   "metadata": {},
   "outputs": [
    {
     "name": "stdout",
     "output_type": "stream",
     "text": [
      "ball.n.01-->round object that is hit or thrown or kicked in games\n",
      "musket_ball.n.01-->a solid projectile that is shot by a musket\n",
      "ball.n.03-->an object with a spherical shape\n",
      "ball.n.04-->the people assembled at a lavish formal dance\n",
      "testis.n.01-->one of the two male reproductive glands that produce spermatozoa and secrete androgens\n",
      "ball.n.06-->a spherical object used as a plaything\n",
      "ball.n.07-->United States comedienne best known as the star of a popular television program (1911-1989)\n",
      "ball.n.08-->a compact mass\n",
      "ball.n.09-->a lavish dance requiring formal attire\n",
      "ball.n.10-->a more or less rounded anatomical body or mass\n",
      "ball.n.11-->the game of baseball\n",
      "ball.n.12-->a pitch that is not in the strike zone\n"
     ]
    }
   ],
   "source": [
    "for w in wordnet.synsets(word,pos='n'):\n",
    "    print(w.name()+'-->'+ w.definition())"
   ]
  },
  {
   "cell_type": "code",
   "execution_count": null,
   "id": "86ca58e8-12dd-4c01-b399-e18833804103",
   "metadata": {},
   "outputs": [],
   "source": []
  },
  {
   "cell_type": "code",
   "execution_count": 51,
   "id": "29ec1dd5-490f-4eba-96c3-51deaacc3dd0",
   "metadata": {},
   "outputs": [],
   "source": [
    "verbs= set()\n",
    "nouns=set()\n",
    "adj=set()\n",
    "for word in wordnet.synsets('sound',pos='n'):\n",
    "    nouns.add(word.lemmas()[0].name())\n",
    "for word in wordnet.synsets('sound',pos='n'):\n",
    "    verbs.add(word.lemmas()[0].name())\n",
    "for word in wordnet.synsets('sound',pos='n'):\n",
    "    adj.add(word.lemmas()[0].name())"
   ]
  },
  {
   "cell_type": "code",
   "execution_count": 44,
   "id": "b3b36e5a-cdc8-4777-ab4e-6da148c2564c",
   "metadata": {},
   "outputs": [
    {
     "data": {
      "text/plain": [
       "{}"
      ]
     },
     "execution_count": 44,
     "metadata": {},
     "output_type": "execute_result"
    }
   ],
   "source": [
    "verbs"
   ]
  },
  {
   "cell_type": "code",
   "execution_count": 41,
   "id": "7e65a838-dfbc-4f10-94d5-020a147f0da8",
   "metadata": {},
   "outputs": [
    {
     "data": {
      "text/plain": [
       "{'audio', 'phone', 'sound', 'strait'}"
      ]
     },
     "execution_count": 41,
     "metadata": {},
     "output_type": "execute_result"
    }
   ],
   "source": [
    "nouns"
   ]
  },
  {
   "cell_type": "code",
   "execution_count": 42,
   "id": "d6b24657-5048-42d0-97bd-865aa55a5757",
   "metadata": {},
   "outputs": [
    {
     "data": {
      "text/plain": [
       "{'audio', 'phone', 'sound', 'strait'}"
      ]
     },
     "execution_count": 42,
     "metadata": {},
     "output_type": "execute_result"
    }
   ],
   "source": [
    "adj"
   ]
  },
  {
   "cell_type": "markdown",
   "id": "693a5ff2-6e76-40ee-9783-2188088e560d",
   "metadata": {},
   "source": [
    "find antonyms of word"
   ]
  },
  {
   "cell_type": "code",
   "execution_count": 53,
   "id": "cf607cd2-96be-43d9-a68f-9164ad780dde",
   "metadata": {},
   "outputs": [
    {
     "name": "stdout",
     "output_type": "stream",
     "text": [
      "Antonyms: {'dislike', 'unlike', 'unalike'}\n"
     ]
    }
   ],
   "source": [
    "ant= set()\n",
    "for synset in wordnet.synsets(\"like\"):\n",
    "    for lemma in synset.lemmas():\n",
    "        if lemma.antonyms():\n",
    "            ant.add(lemma.antonyms()[0].name())\n",
    "print(\"Antonyms:\",ant)"
   ]
  },
  {
   "cell_type": "code",
   "execution_count": 54,
   "id": "b2a6a316-6fa8-48b0-aad8-be16577d2258",
   "metadata": {},
   "outputs": [],
   "source": [
    "##  Extract the hypernyms"
   ]
  },
  {
   "cell_type": "code",
   "execution_count": 71,
   "id": "0f53602c-9eec-4b27-b175-07245888b611",
   "metadata": {},
   "outputs": [
    {
     "name": "stdout",
     "output_type": "stream",
     "text": [
      "paper is a hyponym of material.n.01\n",
      "paper is a hyponym of essay.n.01\n",
      "paper is a hyponym of press.n.02\n",
      "paper is a hyponym of medium.n.01\n",
      "paper is a hyponym of article.n.01\n",
      "paper is a hyponym of publisher.n.01\n",
      "paper is a hyponym of product.n.02\n",
      "paper is a hyponym of cover.v.01\n",
      "paper is a hyponym of cover.v.01\n"
     ]
    }
   ],
   "source": [
    "word=\"paper\"\n",
    "synsets=wordnet.synsets(word)\n",
    "for synset in synsets:\n",
    "    # get hypernyms(parent concepts)\n",
    "    hypernyms = synset.hypernyms()\n",
    "    # check if there are any hypernyms\n",
    "    if hypernyms:\n",
    "        #print hypernyms (can access name property for text)\n",
    "        for hypernym in hypernyms:\n",
    "            print(f\"{word} is a hyponym of {hypernym.name()}\")"
   ]
  },
  {
   "cell_type": "code",
   "execution_count": 58,
   "id": "f97e5721-9fbe-4e52-a6df-a38df567c9ad",
   "metadata": {},
   "outputs": [
    {
     "name": "stdout",
     "output_type": "stream",
     "text": [
      "animal is a hyponym of organism.n.01\n"
     ]
    }
   ],
   "source": [
    "word=\"animal\"\n",
    "synsets=wordnet.synsets(word)\n",
    "for synset in synsets:\n",
    "    # get hypernyms(parent concepts)\n",
    "    hypernyms = synset.hypernyms()\n",
    "    # check if there are any hypernyms\n",
    "    if hypernyms:\n",
    "        #print hypernyms (can access name property for text)\n",
    "        for hypernym in hypernyms:\n",
    "            print(f\"{word} is a hyponym of {hypernym.name()}\")"
   ]
  },
  {
   "cell_type": "code",
   "execution_count": 59,
   "id": "fe4f97a1-cc3f-4e23-99ad-f0ab3330aa08",
   "metadata": {},
   "outputs": [
    {
     "name": "stdout",
     "output_type": "stream",
     "text": [
      "soil is a hyponym of dirtiness.n.01\n",
      "soil is a hyponym of earth.n.02\n",
      "soil is a hyponym of object.n.01\n",
      "soil is a hyponym of geographical_area.n.01\n",
      "soil is a hyponym of change.v.01\n"
     ]
    }
   ],
   "source": [
    "word=\"soil\"\n",
    "synsets=wordnet.synsets(word)\n",
    "for synset in synsets:\n",
    "    # get hypernyms(parent concepts)\n",
    "    hypernyms = synset.hypernyms()\n",
    "    # check if there are any hypernyms\n",
    "    if hypernyms:\n",
    "        #print hypernyms (can access name property for text)\n",
    "        for hypernym in hypernyms:\n",
    "            print(f\"{word} is a hyponym of {hypernym.name()}\")"
   ]
  },
  {
   "cell_type": "code",
   "execution_count": 62,
   "id": "604cd2ce-d5ce-4c1d-8217-4fb8913de09b",
   "metadata": {},
   "outputs": [
    {
     "name": "stdout",
     "output_type": "stream",
     "text": [
      "car has a meronym accelerator.n.01\n",
      "car has a meronym air_bag.n.01\n",
      "car has a meronym auto_accessory.n.01\n",
      "car has a meronym automobile_engine.n.01\n",
      "car has a meronym automobile_horn.n.01\n",
      "car has a meronym buffer.n.06\n",
      "car has a meronym bumper.n.02\n",
      "car has a meronym car_door.n.01\n",
      "car has a meronym car_mirror.n.01\n",
      "car has a meronym car_seat.n.01\n",
      "car has a meronym car_window.n.01\n",
      "car has a meronym fender.n.01\n",
      "car has a meronym first_gear.n.01\n",
      "car has a meronym floorboard.n.02\n",
      "car has a meronym gasoline_engine.n.01\n",
      "car has a meronym glove_compartment.n.01\n",
      "car has a meronym grille.n.02\n",
      "car has a meronym high_gear.n.01\n",
      "car has a meronym hood.n.09\n",
      "car has a meronym luggage_compartment.n.01\n",
      "car has a meronym rear_window.n.01\n",
      "car has a meronym reverse.n.02\n",
      "car has a meronym roof.n.02\n",
      "car has a meronym running_board.n.01\n",
      "car has a meronym stabilizer_bar.n.01\n",
      "car has a meronym sunroof.n.01\n",
      "car has a meronym tail_fin.n.02\n",
      "car has a meronym third_gear.n.01\n",
      "car has a meronym window.n.02\n",
      "car has a meronym suspension.n.05\n"
     ]
    }
   ],
   "source": [
    "word='car'\n",
    "synsets=wordnet.synsets(word)\n",
    "for synset in synsets:\n",
    "    # get member meronyms (componant)\n",
    "    meronyms = synset.part_meronyms()\n",
    "    if meronyms:\n",
    "        for meronym in meronyms:\n",
    "          print(f\"{word} has a meronym {meronym.name()}\")\n"
   ]
  },
  {
   "cell_type": "code",
   "execution_count": 73,
   "id": "e4b3e92e-4bee-4a48-aac3-e563d27a6034",
   "metadata": {},
   "outputs": [
    {
     "name": "stdout",
     "output_type": "stream",
     "text": [
      "computer has a meronym busbar.n.01\n",
      "computer has a meronym cathode-ray_tube.n.01\n",
      "computer has a meronym central_processing_unit.n.01\n",
      "computer has a meronym chip.n.07\n",
      "computer has a meronym computer_accessory.n.01\n",
      "computer has a meronym computer_circuit.n.01\n",
      "computer has a meronym data_converter.n.01\n",
      "computer has a meronym disk_cache.n.01\n",
      "computer has a meronym diskette.n.01\n",
      "computer has a meronym hardware.n.03\n",
      "computer has a meronym keyboard.n.01\n",
      "computer has a meronym memory.n.04\n",
      "computer has a meronym monitor.n.04\n",
      "computer has a meronym peripheral.n.01\n"
     ]
    }
   ],
   "source": [
    "word='computer'\n",
    "synsets=wordnet.synsets(word)\n",
    "for synset in synsets:\n",
    "    # get member meronyms (componant)\n",
    "    meronyms = synset.part_meronyms()\n",
    "    if meronyms:\n",
    "        for meronym in meronyms:\n",
    "          print(f\"{word} has a meronym {meronym.name()}\")\n"
   ]
  },
  {
   "cell_type": "code",
   "execution_count": null,
   "id": "389554b9-9107-48c1-a14b-3aacdced1c4d",
   "metadata": {},
   "outputs": [],
   "source": []
  },
  {
   "cell_type": "code",
   "execution_count": null,
   "id": "146883c3-fee7-4097-b43b-14d53fc87e75",
   "metadata": {},
   "outputs": [],
   "source": []
  }
 ],
 "metadata": {
  "kernelspec": {
   "display_name": "Python 3 (ipykernel)",
   "language": "python",
   "name": "python3"
  },
  "language_info": {
   "codemirror_mode": {
    "name": "ipython",
    "version": 3
   },
   "file_extension": ".py",
   "mimetype": "text/x-python",
   "name": "python",
   "nbconvert_exporter": "python",
   "pygments_lexer": "ipython3",
   "version": "3.11.8"
  }
 },
 "nbformat": 4,
 "nbformat_minor": 5
}
