{
 "cells": [
  {
   "cell_type": "code",
   "execution_count": 7,
   "id": "3a7797c1-fb33-4842-877e-cb0bee568e7e",
   "metadata": {},
   "outputs": [],
   "source": [
    "from nltk.wsd import lesk\n",
    "from nltk.tokenize import word_tokenize"
   ]
  },
  {
   "cell_type": "code",
   "execution_count": 8,
   "id": "ff7f4e8e-2fc2-41ca-8e8e-49db462314c7",
   "metadata": {},
   "outputs": [],
   "source": [
    "a1= lesk(word_tokenize('this device is used to jam the signal.'),'jam')"
   ]
  },
  {
   "cell_type": "code",
   "execution_count": 9,
   "id": "db4ac6bd-646b-4395-8b7e-f5c91b9eee34",
   "metadata": {},
   "outputs": [
    {
     "data": {
      "text/plain": [
       "'deliberate radiation or reflection of electromagnetic energy for the purpose of disrupting enemy use of electronic devices or systems'"
      ]
     },
     "execution_count": 9,
     "metadata": {},
     "output_type": "execute_result"
    }
   ],
   "source": [
    "a1.definition()"
   ]
  },
  {
   "cell_type": "code",
   "execution_count": 17,
   "id": "48a334a5-c165-4376-996b-105d96bd7092",
   "metadata": {},
   "outputs": [
    {
     "data": {
      "text/plain": [
       "'interfere with or prevent the reception of signals'"
      ]
     },
     "execution_count": 17,
     "metadata": {},
     "output_type": "execute_result"
    }
   ],
   "source": [
    "a2=lesk(word_tokenize('It had a bread with jam in a traffic jam'),'jam')\n",
    "a2.definition()"
   ]
  },
  {
   "cell_type": "code",
   "execution_count": 30,
   "id": "3bbb38d0-ea7e-4cb6-a2ef-8272107ab355",
   "metadata": {},
   "outputs": [
    {
     "data": {
      "text/plain": [
       "'native Eurasian tree widely cultivated in many varieties for its firm rounded edible fruits'"
      ]
     },
     "execution_count": 30,
     "metadata": {},
     "output_type": "execute_result"
    }
   ],
   "source": [
    "a2=lesk(word_tokenize('I was scrolling through an Apple Ipad while eating an Apple'),'Apple')\n",
    "a2.definition()"
   ]
  },
  {
   "cell_type": "code",
   "execution_count": null,
   "id": "d58e6007-6a01-4ef8-afa5-c9aea90dbbd4",
   "metadata": {},
   "outputs": [],
   "source": []
  }
 ],
 "metadata": {
  "kernelspec": {
   "display_name": "Python 3 (ipykernel)",
   "language": "python",
   "name": "python3"
  },
  "language_info": {
   "codemirror_mode": {
    "name": "ipython",
    "version": 3
   },
   "file_extension": ".py",
   "mimetype": "text/x-python",
   "name": "python",
   "nbconvert_exporter": "python",
   "pygments_lexer": "ipython3",
   "version": "3.11.8"
  }
 },
 "nbformat": 4,
 "nbformat_minor": 5
}
