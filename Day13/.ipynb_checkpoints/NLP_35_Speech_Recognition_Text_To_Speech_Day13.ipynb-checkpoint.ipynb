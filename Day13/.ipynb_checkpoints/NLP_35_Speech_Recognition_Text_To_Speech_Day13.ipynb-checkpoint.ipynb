{
 "cells": [
  {
   "cell_type": "code",
   "execution_count": 1,
   "id": "b303b333-5da0-408d-8f27-bc98e1364183",
   "metadata": {},
   "outputs": [
    {
     "name": "stdout",
     "output_type": "stream",
     "text": [
      "Collecting gtts\n",
      "  Downloading gTTS-2.5.1-py3-none-any.whl.metadata (4.1 kB)\n",
      "Collecting playsound\n",
      "  Downloading playsound-1.3.0.tar.gz (7.7 kB)\n",
      "  Preparing metadata (setup.py): started\n",
      "  Preparing metadata (setup.py): finished with status 'done'\n",
      "Requirement already satisfied: requests<3,>=2.27 in c:\\users\\administrator.dai-pc2\\anaconda3\\lib\\site-packages (from gtts) (2.31.0)\n",
      "Requirement already satisfied: click<8.2,>=7.1 in c:\\users\\administrator.dai-pc2\\anaconda3\\lib\\site-packages (from gtts) (8.1.7)\n",
      "Requirement already satisfied: colorama in c:\\users\\administrator.dai-pc2\\anaconda3\\lib\\site-packages (from click<8.2,>=7.1->gtts) (0.4.6)\n",
      "Requirement already satisfied: charset-normalizer<4,>=2 in c:\\users\\administrator.dai-pc2\\anaconda3\\lib\\site-packages (from requests<3,>=2.27->gtts) (2.0.4)\n",
      "Requirement already satisfied: idna<4,>=2.5 in c:\\users\\administrator.dai-pc2\\anaconda3\\lib\\site-packages (from requests<3,>=2.27->gtts) (3.4)\n",
      "Requirement already satisfied: urllib3<3,>=1.21.1 in c:\\users\\administrator.dai-pc2\\anaconda3\\lib\\site-packages (from requests<3,>=2.27->gtts) (2.0.7)\n",
      "Requirement already satisfied: certifi>=2017.4.17 in c:\\users\\administrator.dai-pc2\\anaconda3\\lib\\site-packages (from requests<3,>=2.27->gtts) (2024.2.2)\n",
      "Downloading gTTS-2.5.1-py3-none-any.whl (29 kB)\n",
      "Building wheels for collected packages: playsound\n",
      "  Building wheel for playsound (setup.py): started\n",
      "  Building wheel for playsound (setup.py): finished with status 'done'\n",
      "  Created wheel for playsound: filename=playsound-1.3.0-py3-none-any.whl size=7043 sha256=806da1a9db67cfa8d1aa21becb3345398b6fc242355f9e179fae03ca1b41ad52\n",
      "  Stored in directory: c:\\users\\administrator.dai-pc2\\appdata\\local\\pip\\cache\\wheels\\50\\98\\42\\62753a9e1fb97579a0ce2f84f7db4c21c09d03bb2091e6cef4\n",
      "Successfully built playsound\n",
      "Installing collected packages: playsound, gtts\n",
      "Successfully installed gtts-2.5.1 playsound-1.3.0\n"
     ]
    }
   ],
   "source": [
    "!pip install gtts playsound"
   ]
  },
  {
   "cell_type": "markdown",
   "id": "1ceb58bf-5843-4809-9180-d457447a3ab4",
   "metadata": {},
   "source": [
    "### Import the classes"
   ]
  },
  {
   "cell_type": "code",
   "execution_count": 10,
   "id": "18c38cd1-e892-44b7-b151-33713df860c2",
   "metadata": {},
   "outputs": [],
   "source": [
    "from gtts import gTTS                       # class\n",
    "from playsound import playsound             # method"
   ]
  },
  {
   "cell_type": "markdown",
   "id": "b7b77b4b-29e6-44d0-933c-b22f1277a5ef",
   "metadata": {},
   "source": [
    "### Create the object"
   ]
  },
  {
   "cell_type": "code",
   "execution_count": 16,
   "id": "98a82bed-43b0-4f75-b2a3-532e23c04b6b",
   "metadata": {},
   "outputs": [],
   "source": [
    "tts = gTTS(text=\"Natural Language Processing\", lang='en')"
   ]
  },
  {
   "cell_type": "markdown",
   "id": "18ccf192-f59e-4062-b48d-2efad3985393",
   "metadata": {},
   "source": [
    "### Save and play the sound"
   ]
  },
  {
   "cell_type": "code",
   "execution_count": 17,
   "id": "7ee50377-56c7-4d37-90ae-d9867965e85f",
   "metadata": {},
   "outputs": [
    {
     "ename": "PermissionError",
     "evalue": "[Errno 13] Permission denied: 'speech.mp3'",
     "output_type": "error",
     "traceback": [
      "\u001b[1;31m---------------------------------------------------------------------------\u001b[0m",
      "\u001b[1;31mPermissionError\u001b[0m                           Traceback (most recent call last)",
      "Cell \u001b[1;32mIn[17], line 1\u001b[0m\n\u001b[1;32m----> 1\u001b[0m tts\u001b[38;5;241m.\u001b[39msave(\u001b[38;5;124m'\u001b[39m\u001b[38;5;124mspeech.mp3\u001b[39m\u001b[38;5;124m'\u001b[39m)\n\u001b[0;32m      2\u001b[0m playsound(\u001b[38;5;124m'\u001b[39m\u001b[38;5;124mspeech.mp3\u001b[39m\u001b[38;5;124m'\u001b[39m)\n",
      "File \u001b[1;32m~\\anaconda3\\Lib\\site-packages\\gtts\\tts.py:334\u001b[0m, in \u001b[0;36mgTTS.save\u001b[1;34m(self, savefile)\u001b[0m\n\u001b[0;32m    324\u001b[0m \u001b[38;5;28;01mdef\u001b[39;00m \u001b[38;5;21msave\u001b[39m(\u001b[38;5;28mself\u001b[39m, savefile):\n\u001b[0;32m    325\u001b[0m \u001b[38;5;250m    \u001b[39m\u001b[38;5;124;03m\"\"\"Do the TTS API request and write result to file.\u001b[39;00m\n\u001b[0;32m    326\u001b[0m \n\u001b[0;32m    327\u001b[0m \u001b[38;5;124;03m    Args:\u001b[39;00m\n\u001b[1;32m   (...)\u001b[0m\n\u001b[0;32m    332\u001b[0m \n\u001b[0;32m    333\u001b[0m \u001b[38;5;124;03m    \"\"\"\u001b[39;00m\n\u001b[1;32m--> 334\u001b[0m     \u001b[38;5;28;01mwith\u001b[39;00m \u001b[38;5;28mopen\u001b[39m(\u001b[38;5;28mstr\u001b[39m(savefile), \u001b[38;5;124m\"\u001b[39m\u001b[38;5;124mwb\u001b[39m\u001b[38;5;124m\"\u001b[39m) \u001b[38;5;28;01mas\u001b[39;00m f:\n\u001b[0;32m    335\u001b[0m         \u001b[38;5;28mself\u001b[39m\u001b[38;5;241m.\u001b[39mwrite_to_fp(f)\n\u001b[0;32m    336\u001b[0m         f\u001b[38;5;241m.\u001b[39mflush()\n",
      "\u001b[1;31mPermissionError\u001b[0m: [Errno 13] Permission denied: 'speech.mp3'"
     ]
    }
   ],
   "source": [
    "tts.save('speech.mp3')\n",
    "playsound('speech.mp3')"
   ]
  },
  {
   "cell_type": "code",
   "execution_count": 5,
   "id": "2e9d1aef-bd6b-4956-9447-0114c9e2ed0d",
   "metadata": {},
   "outputs": [
    {
     "name": "stdout",
     "output_type": "stream",
     "text": [
      "Help on class gTTS in module gtts.tts:\n",
      "\n",
      "class gTTS(builtins.object)\n",
      " |  gTTS(text, tld='com', lang='en', slow=False, lang_check=True, pre_processor_funcs=[<function tone_marks at 0x0000022ABF596840>, <function end_of_line at 0x0000022ABF597740>, <function abbreviations at 0x0000022ABF597600>, <function word_sub at 0x0000022ABF596B60>], tokenizer_func=<bound method Tokenizer.run of re.compile('(?<=\\\\?).|(?<=!).|(?<=？).|(?<=！).|(?<!\\\\.[a-z])\\\\. |(?<!\\\\.[a-z]), |(?<!\\\\d):|\\\\\\n|\\\\)|，|—|¿|\\\\]|\\\\(|¡|;|、|\\\\[|‥|…|。|،|：', re.IGNORECASE) from: [<function tone_marks at 0x0000022ABF597880>, <function period_comma at 0x0000022ABF597920>, <function colon at 0x0000022ABF5979C0>, <function other_punctuation at 0x0000022ABF597A60>]>, timeout=None)\n",
      " |  \n",
      " |  gTTS -- Google Text-to-Speech.\n",
      " |  \n",
      " |  An interface to Google Translate's Text-to-Speech API.\n",
      " |  \n",
      " |  Args:\n",
      " |      text (string): The text to be read.\n",
      " |      tld (string): Top-level domain for the Google Translate host,\n",
      " |          i.e `https://translate.google.<tld>`. Different Google domains\n",
      " |          can produce different localized 'accents' for a given\n",
      " |          language. This is also useful when ``google.com`` might be blocked\n",
      " |          within a network but a local or different Google host\n",
      " |          (e.g. ``google.com.hk``) is not. Default is ``com``.\n",
      " |      lang (string, optional): The language (IETF language tag) to\n",
      " |          read the text in. Default is ``en``.\n",
      " |      slow (bool, optional): Reads text more slowly. Defaults to ``False``.\n",
      " |      lang_check (bool, optional): Strictly enforce an existing ``lang``,\n",
      " |          to catch a language error early. If set to ``True``,\n",
      " |          a ``ValueError`` is raised if ``lang`` doesn't exist.\n",
      " |          Setting ``lang_check`` to ``False`` skips Web requests\n",
      " |          (to validate language) and therefore speeds up instantiation.\n",
      " |          Default is ``True``.\n",
      " |      pre_processor_funcs (list): A list of zero or more functions that are\n",
      " |          called to transform (pre-process) text before tokenizing. Those\n",
      " |          functions must take a string and return a string. Defaults to::\n",
      " |  \n",
      " |              [\n",
      " |                  pre_processors.tone_marks,\n",
      " |                  pre_processors.end_of_line,\n",
      " |                  pre_processors.abbreviations,\n",
      " |                  pre_processors.word_sub\n",
      " |              ]\n",
      " |  \n",
      " |      tokenizer_func (callable): A function that takes in a string and\n",
      " |          returns a list of string (tokens). Defaults to::\n",
      " |  \n",
      " |              Tokenizer([\n",
      " |                  tokenizer_cases.tone_marks,\n",
      " |                  tokenizer_cases.period_comma,\n",
      " |                  tokenizer_cases.colon,\n",
      " |                  tokenizer_cases.other_punctuation\n",
      " |              ]).run\n",
      " |  \n",
      " |      timeout (float or tuple, optional): Seconds to wait for the server to\n",
      " |          send data before giving up, as a float, or a ``(connect timeout,\n",
      " |          read timeout)`` tuple. ``None`` will wait forever (default).\n",
      " |  \n",
      " |  See Also:\n",
      " |      :doc:`Pre-processing and tokenizing <tokenizer>`\n",
      " |  \n",
      " |  Raises:\n",
      " |      AssertionError: When ``text`` is ``None`` or empty; when there's nothing\n",
      " |          left to speak after pre-precessing, tokenizing and cleaning.\n",
      " |      ValueError: When ``lang_check`` is ``True`` and ``lang`` is not supported.\n",
      " |      RuntimeError: When ``lang_check`` is ``True`` but there's an error loading\n",
      " |          the languages dictionary.\n",
      " |  \n",
      " |  Methods defined here:\n",
      " |  \n",
      " |  __init__(self, text, tld='com', lang='en', slow=False, lang_check=True, pre_processor_funcs=[<function tone_marks at 0x0000022ABF596840>, <function end_of_line at 0x0000022ABF597740>, <function abbreviations at 0x0000022ABF597600>, <function word_sub at 0x0000022ABF596B60>], tokenizer_func=<bound method Tokenizer.run of re.compile('(?<=\\\\?).|(?<=!).|(?<=？).|(?<=！).|(?<!\\\\.[a-z])\\\\. |(?<!\\\\.[a-z]), |(?<!\\\\d):|\\\\\\n|\\\\)|，|—|¿|\\\\]|\\\\(|¡|;|、|\\\\[|‥|…|。|،|：', re.IGNORECASE) from: [<function tone_marks at 0x0000022ABF597880>, <function period_comma at 0x0000022ABF597920>, <function colon at 0x0000022ABF5979C0>, <function other_punctuation at 0x0000022ABF597A60>]>, timeout=None)\n",
      " |      Initialize self.  See help(type(self)) for accurate signature.\n",
      " |  \n",
      " |  get_bodies(self)\n",
      " |      Get TTS API request bodies(s) that would be sent to the TTS API.\n",
      " |      \n",
      " |      Returns:\n",
      " |          list: A list of TTS API request bodies to make.\n",
      " |  \n",
      " |  save(self, savefile)\n",
      " |      Do the TTS API request and write result to file.\n",
      " |      \n",
      " |      Args:\n",
      " |          savefile (string): The path and file name to save the ``mp3`` to.\n",
      " |      \n",
      " |      Raises:\n",
      " |          :class:`gTTSError`: When there's an error with the API request.\n",
      " |  \n",
      " |  stream(self)\n",
      " |      Do the TTS API request(s) and stream bytes\n",
      " |      \n",
      " |      Raises:\n",
      " |          :class:`gTTSError`: When there's an error with the API request.\n",
      " |  \n",
      " |  write_to_fp(self, fp)\n",
      " |      Do the TTS API request(s) and write bytes to a file-like object.\n",
      " |      \n",
      " |      Args:\n",
      " |          fp (file object): Any file-like object to write the ``mp3`` to.\n",
      " |      \n",
      " |      Raises:\n",
      " |          :class:`gTTSError`: When there's an error with the API request.\n",
      " |          TypeError: When ``fp`` is not a file-like object that takes bytes.\n",
      " |  \n",
      " |  ----------------------------------------------------------------------\n",
      " |  Data descriptors defined here:\n",
      " |  \n",
      " |  __dict__\n",
      " |      dictionary for instance variables\n",
      " |  \n",
      " |  __weakref__\n",
      " |      list of weak references to the object\n",
      " |  \n",
      " |  ----------------------------------------------------------------------\n",
      " |  Data and other attributes defined here:\n",
      " |  \n",
      " |  GOOGLE_TTS_HEADERS = {'Content-Type': 'application/x-www-form-urlencod...\n",
      " |  \n",
      " |  GOOGLE_TTS_MAX_CHARS = 100\n",
      " |  \n",
      " |  GOOGLE_TTS_RPC = 'jQ1olc'\n",
      "\n"
     ]
    }
   ],
   "source": [
    "help(gTTS)"
   ]
  },
  {
   "cell_type": "code",
   "execution_count": null,
   "id": "82512a74-e118-45ee-967c-c64d0ffd2e77",
   "metadata": {},
   "outputs": [],
   "source": []
  }
 ],
 "metadata": {
  "kernelspec": {
   "display_name": "Python 3 (ipykernel)",
   "language": "python",
   "name": "python3"
  },
  "language_info": {
   "codemirror_mode": {
    "name": "ipython",
    "version": 3
   },
   "file_extension": ".py",
   "mimetype": "text/x-python",
   "name": "python",
   "nbconvert_exporter": "python",
   "pygments_lexer": "ipython3",
   "version": "3.11.8"
  }
 },
 "nbformat": 4,
 "nbformat_minor": 5
}
