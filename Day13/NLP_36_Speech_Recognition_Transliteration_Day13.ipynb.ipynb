{
 "cells": [
  {
   "cell_type": "code",
   "execution_count": 1,
   "id": "2f461aa1-4b7a-4df9-89b7-51972abaf30a",
   "metadata": {},
   "outputs": [
    {
     "name": "stdout",
     "output_type": "stream",
     "text": [
      "Collecting indic_transliteration\n",
      "  Downloading indic_transliteration-2.3.59-py3-none-any.whl.metadata (1.4 kB)\n",
      "Requirement already satisfied: backports.functools-lru-cache in c:\\users\\administrator.dai-pc2\\anaconda3\\lib\\site-packages (from indic_transliteration) (1.6.4)\n",
      "Requirement already satisfied: regex in c:\\users\\administrator.dai-pc2\\anaconda3\\lib\\site-packages (from indic_transliteration) (2023.10.3)\n",
      "Requirement already satisfied: typer in c:\\users\\administrator.dai-pc2\\anaconda3\\lib\\site-packages (from indic_transliteration) (0.9.4)\n",
      "Requirement already satisfied: toml in c:\\users\\administrator.dai-pc2\\anaconda3\\lib\\site-packages (from indic_transliteration) (0.10.2)\n",
      "Collecting roman (from indic_transliteration)\n",
      "  Downloading roman-4.2-py3-none-any.whl.metadata (3.6 kB)\n",
      "Requirement already satisfied: click<9.0.0,>=7.1.1 in c:\\users\\administrator.dai-pc2\\anaconda3\\lib\\site-packages (from typer->indic_transliteration) (8.1.7)\n",
      "Requirement already satisfied: typing-extensions>=3.7.4.3 in c:\\users\\administrator.dai-pc2\\anaconda3\\lib\\site-packages (from typer->indic_transliteration) (4.9.0)\n",
      "Requirement already satisfied: colorama in c:\\users\\administrator.dai-pc2\\anaconda3\\lib\\site-packages (from click<9.0.0,>=7.1.1->typer->indic_transliteration) (0.4.6)\n",
      "Downloading indic_transliteration-2.3.59-py3-none-any.whl (152 kB)\n",
      "   ---------------------------------------- 0.0/152.1 kB ? eta -:--:--\n",
      "   ------------------------------------- -- 143.4/152.1 kB 2.8 MB/s eta 0:00:01\n",
      "   ---------------------------------------- 152.1/152.1 kB 2.3 MB/s eta 0:00:00\n",
      "Downloading roman-4.2-py3-none-any.whl (5.5 kB)\n",
      "Installing collected packages: roman, indic_transliteration\n",
      "Successfully installed indic_transliteration-2.3.59 roman-4.2\n"
     ]
    }
   ],
   "source": [
    "!pip install indic_transliteration"
   ]
  },
  {
   "cell_type": "markdown",
   "id": "6ca64150-400d-425e-8532-bedef2ce13eb",
   "metadata": {},
   "source": [
    "### import library"
   ]
  },
  {
   "cell_type": "code",
   "execution_count": 3,
   "id": "f8e11bec-9897-49f0-b800-218ce1a5f1ca",
   "metadata": {},
   "outputs": [],
   "source": [
    "from indic_transliteration import sanscript\n",
    "from indic_transliteration.sanscript import transliterate"
   ]
  },
  {
   "cell_type": "code",
   "execution_count": 12,
   "id": "d316f3ff-5da2-49ff-959b-31f0c082209e",
   "metadata": {},
   "outputs": [],
   "source": [
    "data = 'ameya'"
   ]
  },
  {
   "cell_type": "code",
   "execution_count": 13,
   "id": "1d8889c4-e197-4ebd-aa8c-1435c63dc8cb",
   "metadata": {},
   "outputs": [
    {
     "name": "stdout",
     "output_type": "stream",
     "text": [
      "अमेय\n"
     ]
    }
   ],
   "source": [
    "print(transliterate(data, sanscript.ITRANS, sanscript.DEVANAGARI))"
   ]
  },
  {
   "cell_type": "code",
   "execution_count": 16,
   "id": "1030828e-8921-4359-a0b6-7853023bd79a",
   "metadata": {},
   "outputs": [
    {
     "name": "stdout",
     "output_type": "stream",
     "text": [
      "অমেয\n"
     ]
    }
   ],
   "source": [
    "print(transliterate(data, sanscript.ITRANS, sanscript.BENGALI))"
   ]
  },
  {
   "cell_type": "code",
   "execution_count": null,
   "id": "96f9771f-a5e1-47de-b338-faa757b101e9",
   "metadata": {},
   "outputs": [],
   "source": []
  }
 ],
 "metadata": {
  "kernelspec": {
   "display_name": "Python 3 (ipykernel)",
   "language": "python",
   "name": "python3"
  },
  "language_info": {
   "codemirror_mode": {
    "name": "ipython",
    "version": 3
   },
   "file_extension": ".py",
   "mimetype": "text/x-python",
   "name": "python",
   "nbconvert_exporter": "python",
   "pygments_lexer": "ipython3",
   "version": "3.11.8"
  }
 },
 "nbformat": 4,
 "nbformat_minor": 5
}
