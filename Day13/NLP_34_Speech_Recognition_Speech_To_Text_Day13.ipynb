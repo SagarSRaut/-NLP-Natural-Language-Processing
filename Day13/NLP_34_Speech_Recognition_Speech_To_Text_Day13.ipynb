{
 "cells": [
  {
   "cell_type": "code",
   "execution_count": 1,
   "id": "5dbb8b20-8835-487a-a952-9dfd27056308",
   "metadata": {},
   "outputs": [
    {
     "name": "stdout",
     "output_type": "stream",
     "text": [
      "Collecting SpeechRecognition\n",
      "  Downloading SpeechRecognition-3.10.4-py2.py3-none-any.whl.metadata (28 kB)\n",
      "Collecting PyAudio\n",
      "  Downloading PyAudio-0.2.14-cp311-cp311-win_amd64.whl.metadata (2.7 kB)\n",
      "Requirement already satisfied: requests>=2.26.0 in c:\\users\\administrator.dai-pc2\\anaconda3\\lib\\site-packages (from SpeechRecognition) (2.31.0)\n",
      "Requirement already satisfied: typing-extensions in c:\\users\\administrator.dai-pc2\\anaconda3\\lib\\site-packages (from SpeechRecognition) (4.9.0)\n",
      "Requirement already satisfied: charset-normalizer<4,>=2 in c:\\users\\administrator.dai-pc2\\anaconda3\\lib\\site-packages (from requests>=2.26.0->SpeechRecognition) (2.0.4)\n",
      "Requirement already satisfied: idna<4,>=2.5 in c:\\users\\administrator.dai-pc2\\anaconda3\\lib\\site-packages (from requests>=2.26.0->SpeechRecognition) (3.4)\n",
      "Requirement already satisfied: urllib3<3,>=1.21.1 in c:\\users\\administrator.dai-pc2\\anaconda3\\lib\\site-packages (from requests>=2.26.0->SpeechRecognition) (2.0.7)\n",
      "Requirement already satisfied: certifi>=2017.4.17 in c:\\users\\administrator.dai-pc2\\anaconda3\\lib\\site-packages (from requests>=2.26.0->SpeechRecognition) (2024.2.2)\n",
      "Downloading SpeechRecognition-3.10.4-py2.py3-none-any.whl (32.8 MB)\n",
      "   ---------------------------------------- 0.0/32.8 MB ? eta -:--:--\n",
      "   ---------------------------------------- 0.2/32.8 MB 3.5 MB/s eta 0:00:10\n",
      "    --------------------------------------- 0.7/32.8 MB 7.2 MB/s eta 0:00:05\n",
      "   -- ------------------------------------- 2.1/32.8 MB 14.7 MB/s eta 0:00:03\n",
      "   ------ --------------------------------- 5.1/32.8 MB 29.5 MB/s eta 0:00:01\n",
      "   --------- ------------------------------ 7.4/32.8 MB 33.7 MB/s eta 0:00:01\n",
      "   --------- ------------------------------ 7.7/32.8 MB 27.4 MB/s eta 0:00:01\n",
      "   ---------- ----------------------------- 8.3/32.8 MB 25.4 MB/s eta 0:00:01\n",
      "   ----------- ---------------------------- 9.6/32.8 MB 26.7 MB/s eta 0:00:01\n",
      "   ----------------- ---------------------- 14.0/32.8 MB 38.6 MB/s eta 0:00:01\n",
      "   -------------------- ------------------- 16.8/32.8 MB 36.4 MB/s eta 0:00:01\n",
      "   -------------------------- ------------- 22.0/32.8 MB 93.9 MB/s eta 0:00:01\n",
      "   --------------------------- ------------ 22.6/32.8 MB 81.8 MB/s eta 0:00:01\n",
      "   ------------------------------- -------- 25.6/32.8 MB 59.5 MB/s eta 0:00:01\n",
      "   ------------------------------------ --- 29.6/32.8 MB 65.6 MB/s eta 0:00:01\n",
      "   ---------------------------------------  32.8/32.8 MB 93.9 MB/s eta 0:00:01\n",
      "   ---------------------------------------  32.8/32.8 MB 93.9 MB/s eta 0:00:01\n",
      "   ---------------------------------------- 32.8/32.8 MB 43.7 MB/s eta 0:00:00\n",
      "Downloading PyAudio-0.2.14-cp311-cp311-win_amd64.whl (164 kB)\n",
      "   ---------------------------------------- 0.0/164.1 kB ? eta -:--:--\n",
      "   ---------------------------------------- 164.1/164.1 kB ? eta 0:00:00\n",
      "Installing collected packages: PyAudio, SpeechRecognition\n",
      "Successfully installed PyAudio-0.2.14 SpeechRecognition-3.10.4\n"
     ]
    }
   ],
   "source": [
    "!pip install SpeechRecognition PyAudio"
   ]
  },
  {
   "cell_type": "code",
   "execution_count": 2,
   "id": "3e8872eb-8915-4e28-b245-2f95a915d291",
   "metadata": {},
   "outputs": [],
   "source": [
    "import speech_recognition as sr"
   ]
  },
  {
   "cell_type": "markdown",
   "id": "172d32c9-7039-4aab-9d26-807c37192e1c",
   "metadata": {},
   "source": [
    "### Crete the object of microphone"
   ]
  },
  {
   "cell_type": "code",
   "execution_count": 3,
   "id": "f0609734-00cd-462c-b7e9-05fd6c1c9494",
   "metadata": {},
   "outputs": [],
   "source": [
    "r = sr.Recognizer()"
   ]
  },
  {
   "cell_type": "markdown",
   "id": "f5a8bb2b-6b40-438d-b8e4-16b7e58bcb32",
   "metadata": {},
   "source": [
    "### Open Microphone, recognize and convert"
   ]
  },
  {
   "cell_type": "code",
   "execution_count": 8,
   "id": "f137292f-0325-418e-aede-aa60fd256f57",
   "metadata": {},
   "outputs": [
    {
     "name": "stdout",
     "output_type": "stream",
     "text": [
      "Speak: \n",
      "You said:  hello sar\n"
     ]
    }
   ],
   "source": [
    "with sr.Microphone() as source:\n",
    "    print('Speak: ')\n",
    "    audio = r.listen(source)\n",
    "    print('You said: ', r.recognize_google(audio))"
   ]
  },
  {
   "cell_type": "code",
   "execution_count": null,
   "id": "ddab7ec6-a26c-48bf-8ecd-7cfd450490c2",
   "metadata": {},
   "outputs": [],
   "source": []
  }
 ],
 "metadata": {
  "kernelspec": {
   "display_name": "Python 3 (ipykernel)",
   "language": "python",
   "name": "python3"
  },
  "language_info": {
   "codemirror_mode": {
    "name": "ipython",
    "version": 3
   },
   "file_extension": ".py",
   "mimetype": "text/x-python",
   "name": "python",
   "nbconvert_exporter": "python",
   "pygments_lexer": "ipython3",
   "version": "3.11.8"
  }
 },
 "nbformat": 4,
 "nbformat_minor": 5
}
