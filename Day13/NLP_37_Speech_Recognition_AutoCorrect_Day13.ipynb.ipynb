{
 "cells": [
  {
   "cell_type": "code",
   "execution_count": 1,
   "id": "4677b587-ae6a-4f62-ae60-5b2f0cd4004e",
   "metadata": {},
   "outputs": [],
   "source": [
    "from textblob import TextBlob"
   ]
  },
  {
   "cell_type": "code",
   "execution_count": 4,
   "id": "138c0bef-9c48-41b8-baf3-ce97fe183621",
   "metadata": {},
   "outputs": [],
   "source": [
    "text = TextBlob('botlee')"
   ]
  },
  {
   "cell_type": "code",
   "execution_count": 5,
   "id": "da43b288-189c-4f50-8c31-f0be2b0df739",
   "metadata": {},
   "outputs": [
    {
     "data": {
      "text/plain": [
       "TextBlob(\"bottle\")"
      ]
     },
     "execution_count": 5,
     "metadata": {},
     "output_type": "execute_result"
    }
   ],
   "source": [
    "text.correct()"
   ]
  },
  {
   "cell_type": "code",
   "execution_count": 6,
   "id": "385e6be3-a73e-4025-9cee-9509b7396b2e",
   "metadata": {},
   "outputs": [
    {
     "data": {
      "text/plain": [
       "TextBlob(\"They her playing on the ground\")"
      ]
     },
     "execution_count": 6,
     "metadata": {},
     "output_type": "execute_result"
    }
   ],
   "source": [
    "TextBlob('They wer playig onn the geraund').correct()"
   ]
  },
  {
   "cell_type": "code",
   "execution_count": null,
   "id": "2a44dfca-9fe2-4c84-bee2-2098ee390f91",
   "metadata": {},
   "outputs": [],
   "source": []
  }
 ],
 "metadata": {
  "kernelspec": {
   "display_name": "Python 3 (ipykernel)",
   "language": "python",
   "name": "python3"
  },
  "language_info": {
   "codemirror_mode": {
    "name": "ipython",
    "version": 3
   },
   "file_extension": ".py",
   "mimetype": "text/x-python",
   "name": "python",
   "nbconvert_exporter": "python",
   "pygments_lexer": "ipython3",
   "version": "3.11.8"
  }
 },
 "nbformat": 4,
 "nbformat_minor": 5
}
