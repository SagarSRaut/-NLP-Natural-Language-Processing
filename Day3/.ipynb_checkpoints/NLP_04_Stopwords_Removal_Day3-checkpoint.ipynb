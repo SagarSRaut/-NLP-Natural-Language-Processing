{
 "cells": [
  {
   "cell_type": "markdown",
   "id": "bb3be854-7ca3-459a-99bb-fd118812633b",
   "metadata": {},
   "source": [
    "# Punctutation removal"
   ]
  },
  {
   "cell_type": "code",
   "execution_count": 1,
   "id": "659d58a8-812e-4359-8fcf-5bc0480f2d6d",
   "metadata": {},
   "outputs": [],
   "source": [
    "from nltk.tokenize import word_tokenize"
   ]
  },
  {
   "cell_type": "code",
   "execution_count": 2,
   "id": "f3039e36-883d-45c9-a6e6-4b274ce71dbe",
   "metadata": {},
   "outputs": [],
   "source": [
    "sent = \"Hello friends! How are you? Welcome to the world of 'Python Programming'.\""
   ]
  },
  {
   "cell_type": "code",
   "execution_count": 12,
   "id": "2c656c9c-7b75-4d0c-b4fd-f2c2501a4bdb",
   "metadata": {},
   "outputs": [
    {
     "data": {
      "text/plain": [
       "'Hello friends  How are you  Welcome to the world of Python Programming '"
      ]
     },
     "execution_count": 12,
     "metadata": {},
     "output_type": "execute_result"
    }
   ],
   "source": [
    "import re\n",
    "' '.join(re.split(r\"[^\\w]\", sent))"
   ]
  },
  {
   "cell_type": "code",
   "execution_count": 21,
   "id": "894b1f12-ddd6-430a-8a38-1a1fa2150748",
   "metadata": {},
   "outputs": [
    {
     "data": {
      "text/plain": [
       "'Hello friends How are you Welcome to the world of Python Programming'"
      ]
     },
     "execution_count": 21,
     "metadata": {},
     "output_type": "execute_result"
    }
   ],
   "source": [
    "import string \n",
    "clean=[x for x in word_tokenize(sent) if x not in string.punctuation]\n",
    "' '.join(clean)"
   ]
  },
  {
   "cell_type": "code",
   "execution_count": 22,
   "id": "666efb0d-9233-40b0-ad72-e0ac7ddf7e27",
   "metadata": {},
   "outputs": [
    {
     "data": {
      "text/plain": [
       "'!\"#$%&\\'()*+,-./:;<=>?@[\\\\]^_`{|}~'"
      ]
     },
     "execution_count": 22,
     "metadata": {},
     "output_type": "execute_result"
    }
   ],
   "source": [
    "string.punctuation"
   ]
  },
  {
   "cell_type": "code",
   "execution_count": 23,
   "id": "48461035-8854-4748-9237-b2528c96fdc2",
   "metadata": {},
   "outputs": [
    {
     "data": {
      "text/plain": [
       "['Hello',\n",
       " 'friends',\n",
       " 'How',\n",
       " 'are',\n",
       " 'you',\n",
       " 'Welcome',\n",
       " 'to',\n",
       " 'the',\n",
       " 'world',\n",
       " 'of',\n",
       " 'Python',\n",
       " 'Programming']"
      ]
     },
     "execution_count": 23,
     "metadata": {},
     "output_type": "execute_result"
    }
   ],
   "source": [
    "clean"
   ]
  },
  {
   "cell_type": "markdown",
   "id": "356acfec-ea80-4b24-a9be-58c1f3cc348d",
   "metadata": {},
   "source": [
    "# Stopwords removal"
   ]
  },
  {
   "cell_type": "code",
   "execution_count": 24,
   "id": "17561230-f8d8-433a-9905-37f9f4e523a4",
   "metadata": {},
   "outputs": [],
   "source": [
    "from nltk.corpus import stopwords"
   ]
  },
  {
   "cell_type": "code",
   "execution_count": 25,
   "id": "afa79839-c279-433e-a07f-f5da9411924d",
   "metadata": {},
   "outputs": [],
   "source": [
    "swords = stopwords.words('english')"
   ]
  },
  {
   "cell_type": "code",
   "execution_count": 26,
   "id": "ccdc19dc-a48c-4ad6-9dbf-12c4da143b54",
   "metadata": {},
   "outputs": [
    {
     "data": {
      "text/plain": [
       "['i',\n",
       " 'me',\n",
       " 'my',\n",
       " 'myself',\n",
       " 'we',\n",
       " 'our',\n",
       " 'ours',\n",
       " 'ourselves',\n",
       " 'you',\n",
       " \"you're\",\n",
       " \"you've\",\n",
       " \"you'll\",\n",
       " \"you'd\",\n",
       " 'your',\n",
       " 'yours',\n",
       " 'yourself',\n",
       " 'yourselves',\n",
       " 'he',\n",
       " 'him',\n",
       " 'his',\n",
       " 'himself',\n",
       " 'she',\n",
       " \"she's\",\n",
       " 'her',\n",
       " 'hers',\n",
       " 'herself',\n",
       " 'it',\n",
       " \"it's\",\n",
       " 'its',\n",
       " 'itself',\n",
       " 'they',\n",
       " 'them',\n",
       " 'their',\n",
       " 'theirs',\n",
       " 'themselves',\n",
       " 'what',\n",
       " 'which',\n",
       " 'who',\n",
       " 'whom',\n",
       " 'this',\n",
       " 'that',\n",
       " \"that'll\",\n",
       " 'these',\n",
       " 'those',\n",
       " 'am',\n",
       " 'is',\n",
       " 'are',\n",
       " 'was',\n",
       " 'were',\n",
       " 'be',\n",
       " 'been',\n",
       " 'being',\n",
       " 'have',\n",
       " 'has',\n",
       " 'had',\n",
       " 'having',\n",
       " 'do',\n",
       " 'does',\n",
       " 'did',\n",
       " 'doing',\n",
       " 'a',\n",
       " 'an',\n",
       " 'the',\n",
       " 'and',\n",
       " 'but',\n",
       " 'if',\n",
       " 'or',\n",
       " 'because',\n",
       " 'as',\n",
       " 'until',\n",
       " 'while',\n",
       " 'of',\n",
       " 'at',\n",
       " 'by',\n",
       " 'for',\n",
       " 'with',\n",
       " 'about',\n",
       " 'against',\n",
       " 'between',\n",
       " 'into',\n",
       " 'through',\n",
       " 'during',\n",
       " 'before',\n",
       " 'after',\n",
       " 'above',\n",
       " 'below',\n",
       " 'to',\n",
       " 'from',\n",
       " 'up',\n",
       " 'down',\n",
       " 'in',\n",
       " 'out',\n",
       " 'on',\n",
       " 'off',\n",
       " 'over',\n",
       " 'under',\n",
       " 'again',\n",
       " 'further',\n",
       " 'then',\n",
       " 'once',\n",
       " 'here',\n",
       " 'there',\n",
       " 'when',\n",
       " 'where',\n",
       " 'why',\n",
       " 'how',\n",
       " 'all',\n",
       " 'any',\n",
       " 'both',\n",
       " 'each',\n",
       " 'few',\n",
       " 'more',\n",
       " 'most',\n",
       " 'other',\n",
       " 'some',\n",
       " 'such',\n",
       " 'no',\n",
       " 'nor',\n",
       " 'not',\n",
       " 'only',\n",
       " 'own',\n",
       " 'same',\n",
       " 'so',\n",
       " 'than',\n",
       " 'too',\n",
       " 'very',\n",
       " 's',\n",
       " 't',\n",
       " 'can',\n",
       " 'will',\n",
       " 'just',\n",
       " 'don',\n",
       " \"don't\",\n",
       " 'should',\n",
       " \"should've\",\n",
       " 'now',\n",
       " 'd',\n",
       " 'll',\n",
       " 'm',\n",
       " 'o',\n",
       " 're',\n",
       " 've',\n",
       " 'y',\n",
       " 'ain',\n",
       " 'aren',\n",
       " \"aren't\",\n",
       " 'couldn',\n",
       " \"couldn't\",\n",
       " 'didn',\n",
       " \"didn't\",\n",
       " 'doesn',\n",
       " \"doesn't\",\n",
       " 'hadn',\n",
       " \"hadn't\",\n",
       " 'hasn',\n",
       " \"hasn't\",\n",
       " 'haven',\n",
       " \"haven't\",\n",
       " 'isn',\n",
       " \"isn't\",\n",
       " 'ma',\n",
       " 'mightn',\n",
       " \"mightn't\",\n",
       " 'mustn',\n",
       " \"mustn't\",\n",
       " 'needn',\n",
       " \"needn't\",\n",
       " 'shan',\n",
       " \"shan't\",\n",
       " 'shouldn',\n",
       " \"shouldn't\",\n",
       " 'wasn',\n",
       " \"wasn't\",\n",
       " 'weren',\n",
       " \"weren't\",\n",
       " 'won',\n",
       " \"won't\",\n",
       " 'wouldn',\n",
       " \"wouldn't\"]"
      ]
     },
     "execution_count": 26,
     "metadata": {},
     "output_type": "execute_result"
    }
   ],
   "source": [
    "swords"
   ]
  },
  {
   "cell_type": "code",
   "execution_count": 27,
   "id": "5b444f0a-4f1c-46ed-b60d-f0fda8980e64",
   "metadata": {},
   "outputs": [
    {
     "data": {
      "text/plain": [
       "'Hello friends Welcome world Python Programming'"
      ]
     },
     "execution_count": 27,
     "metadata": {},
     "output_type": "execute_result"
    }
   ],
   "source": [
    "s_removed=[x for x in word_tokenize(sent) if x.lower() not in swords and x.isalnum()]\n",
    "' '.join(s_removed)"
   ]
  },
  {
   "cell_type": "code",
   "execution_count": 31,
   "id": "d5bcc80b-b901-4ad6-9f33-b8adecc2dc85",
   "metadata": {},
   "outputs": [],
   "source": [
    "m_swords = stopwords.words('stopwords-mr.txt')"
   ]
  },
  {
   "cell_type": "code",
   "execution_count": 32,
   "id": "bf285afe-fa48-4c4f-bb42-3eda4fd5a400",
   "metadata": {},
   "outputs": [
    {
     "data": {
      "text/plain": [
       "['अधिक',\n",
       " 'अनेक',\n",
       " 'अशी',\n",
       " 'असलयाचे',\n",
       " 'असलेल्या',\n",
       " 'असा',\n",
       " 'असून',\n",
       " 'असे',\n",
       " 'आज',\n",
       " 'आणि',\n",
       " 'आता',\n",
       " 'आपल्या',\n",
       " 'आला',\n",
       " 'आली',\n",
       " 'आले',\n",
       " 'आहे',\n",
       " 'आहेत',\n",
       " 'एक',\n",
       " 'एका',\n",
       " 'कमी',\n",
       " 'करणयात',\n",
       " 'करून',\n",
       " 'का',\n",
       " 'काम',\n",
       " 'काय',\n",
       " 'काही',\n",
       " 'किवा',\n",
       " 'की',\n",
       " 'केला',\n",
       " 'केली',\n",
       " 'केले',\n",
       " 'कोटी',\n",
       " 'गेल्या',\n",
       " 'घेऊन',\n",
       " 'जात',\n",
       " 'झाला',\n",
       " 'झाली',\n",
       " 'झाले',\n",
       " 'झालेल्या',\n",
       " 'टा',\n",
       " 'डॉ',\n",
       " 'तर',\n",
       " 'तरी',\n",
       " 'तसेच',\n",
       " 'ता',\n",
       " 'ती',\n",
       " 'तीन',\n",
       " 'ते',\n",
       " 'तो',\n",
       " 'त्या',\n",
       " 'त्याचा',\n",
       " 'त्याची',\n",
       " 'त्याच्या',\n",
       " 'त्याना',\n",
       " 'त्यानी',\n",
       " 'त्यामुळे',\n",
       " 'त्री',\n",
       " 'दिली',\n",
       " 'दोन',\n",
       " 'न',\n",
       " 'नाही',\n",
       " 'निर्ण्य',\n",
       " 'पण',\n",
       " 'पम',\n",
       " 'परयतन',\n",
       " 'पाटील',\n",
       " 'म',\n",
       " 'मात्र',\n",
       " 'माहिती',\n",
       " 'मी',\n",
       " 'मुबी',\n",
       " 'म्हणजे',\n",
       " 'म्हणाले',\n",
       " 'म्हणून',\n",
       " 'या',\n",
       " 'याचा',\n",
       " 'याची',\n",
       " 'याच्या',\n",
       " 'याना',\n",
       " 'यानी',\n",
       " 'येणार',\n",
       " 'येत',\n",
       " 'येथील',\n",
       " 'येथे',\n",
       " 'लाख',\n",
       " 'व',\n",
       " 'व्यकत',\n",
       " 'सर्व',\n",
       " 'सागित्ले',\n",
       " 'सुरू',\n",
       " 'हजार',\n",
       " 'हा',\n",
       " 'ही',\n",
       " 'हे',\n",
       " 'होणार',\n",
       " 'होत',\n",
       " 'होता',\n",
       " 'होती',\n",
       " 'होते']"
      ]
     },
     "execution_count": 32,
     "metadata": {},
     "output_type": "execute_result"
    }
   ],
   "source": [
    "m_swords"
   ]
  },
  {
   "cell_type": "code",
   "execution_count": null,
   "id": "f03bef73-f025-4f69-9515-b0bf70dd7198",
   "metadata": {},
   "outputs": [],
   "source": []
  }
 ],
 "metadata": {
  "kernelspec": {
   "display_name": "Python 3 (ipykernel)",
   "language": "python",
   "name": "python3"
  },
  "language_info": {
   "codemirror_mode": {
    "name": "ipython",
    "version": 3
   },
   "file_extension": ".py",
   "mimetype": "text/x-python",
   "name": "python",
   "nbconvert_exporter": "python",
   "pygments_lexer": "ipython3",
   "version": "3.11.8"
  }
 },
 "nbformat": 4,
 "nbformat_minor": 5
}
