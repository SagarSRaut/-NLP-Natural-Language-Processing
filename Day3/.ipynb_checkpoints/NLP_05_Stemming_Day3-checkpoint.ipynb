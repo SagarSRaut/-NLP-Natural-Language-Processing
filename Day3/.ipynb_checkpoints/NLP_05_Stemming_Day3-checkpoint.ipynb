{
 "cells": [
  {
   "cell_type": "markdown",
   "id": "af85d08c-9449-45f5-b98d-928add4f40b7",
   "metadata": {},
   "source": [
    "Declare words "
   ]
  },
  {
   "cell_type": "code",
   "execution_count": 6,
   "id": "5e0f728b-1875-4351-879d-6b0a43d08854",
   "metadata": {},
   "outputs": [],
   "source": [
    "word1='managing','manage','managment','managerial','managed'\n",
    "word2='worked','workable', 'working', 'worked'\n",
    "word3 = 'big', 'biggest', 'bigger'\n",
    "word4 = 'go', 'gone', 'went', 'going'\n",
    "word5 = 'association', 'associated', 'associate'"
   ]
  },
  {
   "cell_type": "markdown",
   "id": "22f9e322-fc74-4018-b8d2-1f6faf444ff8",
   "metadata": {},
   "source": [
    "# Porter stemmer"
   ]
  },
  {
   "cell_type": "code",
   "execution_count": 7,
   "id": "a2fd38d2-dd58-4c5e-8e34-38c249951cf3",
   "metadata": {},
   "outputs": [],
   "source": [
    "from nltk.stem import PorterStemmer"
   ]
  },
  {
   "cell_type": "code",
   "execution_count": 8,
   "id": "599ef0b5-0f52-4966-b9c4-837afd7bcc5a",
   "metadata": {},
   "outputs": [],
   "source": [
    "ps = PorterStemmer()"
   ]
  },
  {
   "cell_type": "code",
   "execution_count": 9,
   "id": "3319d243-bed9-475c-a869-657667ca517e",
   "metadata": {},
   "outputs": [
    {
     "data": {
      "text/plain": [
       "'manag'"
      ]
     },
     "execution_count": 9,
     "metadata": {},
     "output_type": "execute_result"
    }
   ],
   "source": [
    "ps.stem(word1[0])"
   ]
  },
  {
   "cell_type": "code",
   "execution_count": 13,
   "id": "b90de12d-6dc1-4836-8a91-e2d265a106e9",
   "metadata": {},
   "outputs": [
    {
     "name": "stdout",
     "output_type": "stream",
     "text": [
      "managing --> manag\n",
      "manage --> manag\n",
      "managment --> manag\n",
      "managerial --> manageri\n",
      "managed --> manag\n"
     ]
    }
   ],
   "source": [
    "for word in word1:\n",
    "    print(word, '-->', ps.stem(word))"
   ]
  },
  {
   "cell_type": "code",
   "execution_count": 15,
   "id": "13d06f41-1d10-48b1-b7ef-6ba615bc669c",
   "metadata": {},
   "outputs": [
    {
     "name": "stdout",
     "output_type": "stream",
     "text": [
      "worked --> work\n",
      "workable --> workabl\n",
      "working --> work\n",
      "worked --> work\n"
     ]
    }
   ],
   "source": [
    "for word in word2:\n",
    "    print(word, '-->', ps.stem(word))"
   ]
  },
  {
   "cell_type": "code",
   "execution_count": 16,
   "id": "7eb73597-8bed-4736-925f-f391858d0888",
   "metadata": {},
   "outputs": [
    {
     "name": "stdout",
     "output_type": "stream",
     "text": [
      "big --> big\n",
      "biggest --> biggest\n",
      "bigger --> bigger\n"
     ]
    }
   ],
   "source": [
    "for word in word3:\n",
    "    print(word, '-->', ps.stem(word))"
   ]
  },
  {
   "cell_type": "code",
   "execution_count": 17,
   "id": "7e5e49f0-2414-41ed-b74a-6d7195cb3735",
   "metadata": {},
   "outputs": [
    {
     "name": "stdout",
     "output_type": "stream",
     "text": [
      "go --> go\n",
      "gone --> gone\n",
      "went --> went\n",
      "going --> go\n"
     ]
    }
   ],
   "source": [
    "for word in word4:\n",
    "    print(word, '-->', ps.stem(word))"
   ]
  },
  {
   "cell_type": "code",
   "execution_count": 18,
   "id": "d88f90fc-d950-4a86-8d02-ca46f675b936",
   "metadata": {},
   "outputs": [
    {
     "name": "stdout",
     "output_type": "stream",
     "text": [
      "association --> associ\n",
      "associated --> associ\n",
      "associate --> associ\n"
     ]
    }
   ],
   "source": [
    "for word in word5:\n",
    "    print(word, '-->', ps.stem(word))"
   ]
  },
  {
   "cell_type": "code",
   "execution_count": 37,
   "id": "49984adb-4cd6-4e07-b345-5cd77bcaf9e8",
   "metadata": {},
   "outputs": [],
   "source": [
    "sent = \"Hello friends! How are you? I like Python Programming.\""
   ]
  },
  {
   "cell_type": "code",
   "execution_count": 38,
   "id": "cb4e84b1-77a4-436f-9b4c-2c10a0fff8c4",
   "metadata": {},
   "outputs": [],
   "source": [
    "from nltk.tokenize import word_tokenize\n",
    "from nltk.corpus import stopwords"
   ]
  },
  {
   "cell_type": "code",
   "execution_count": 39,
   "id": "13ad31fe-02fb-4c77-9b56-a75ad888a0de",
   "metadata": {},
   "outputs": [],
   "source": [
    "swords = stopwords.words('english')"
   ]
  },
  {
   "cell_type": "code",
   "execution_count": 40,
   "id": "5a726523-263f-4e0f-99b1-b9545bc3ab5b",
   "metadata": {},
   "outputs": [
    {
     "data": {
      "text/plain": [
       "['hello', 'friend', 'like', 'python', 'program']"
      ]
     },
     "execution_count": 40,
     "metadata": {},
     "output_type": "execute_result"
    }
   ],
   "source": [
    "clean=[ps.stem(x) for x in word_tokenize(sent) if x.lower() not in swords and x.isalnum()]\n",
    "clean"
   ]
  },
  {
   "cell_type": "code",
   "execution_count": 41,
   "id": "801c9103-20d3-42ab-85d3-643baeb63675",
   "metadata": {},
   "outputs": [],
   "source": [
    "from nltk.stem import LancasterStemmer"
   ]
  },
  {
   "cell_type": "code",
   "execution_count": 42,
   "id": "fae974fb-b7bb-4221-8e22-5a7d1f074c73",
   "metadata": {},
   "outputs": [],
   "source": [
    "ls = LancasterStemmer()"
   ]
  },
  {
   "cell_type": "code",
   "execution_count": 43,
   "id": "7a9dfa12-53b4-4bb6-850d-3fb8f59738f2",
   "metadata": {},
   "outputs": [
    {
     "name": "stdout",
     "output_type": "stream",
     "text": [
      "managing --> man\n",
      "manage --> man\n",
      "managment --> man\n",
      "managerial --> man\n",
      "managed --> man\n"
     ]
    }
   ],
   "source": [
    "for word in word1:\n",
    "    print(word, '-->', ls.stem(word))"
   ]
  },
  {
   "cell_type": "code",
   "execution_count": 44,
   "id": "a7b72891-ff41-40cb-a710-c769b94cbf38",
   "metadata": {},
   "outputs": [
    {
     "name": "stdout",
     "output_type": "stream",
     "text": [
      "managing --> manag\n",
      "manage --> manag\n",
      "managment --> manag\n",
      "managerial --> manageri\n",
      "managed --> manag\n"
     ]
    }
   ],
   "source": [
    "for word in word1:\n",
    "    print(word, '-->', ps.stem(word))"
   ]
  },
  {
   "cell_type": "markdown",
   "id": "e67e74d1-5cda-4cf4-b52b-e11ac91368bd",
   "metadata": {},
   "source": [
    "From above we can infer that 'lancaster' removes 'aging/age' whereas\n",
    "'Porter' removes 'ing/e/ent'"
   ]
  },
  {
   "cell_type": "code",
   "execution_count": 45,
   "id": "e599ef46-98b8-4f43-895b-ae07b1d1e653",
   "metadata": {},
   "outputs": [
    {
     "name": "stdout",
     "output_type": "stream",
     "text": [
      "worked --> work\n",
      "workable --> work\n",
      "working --> work\n",
      "worked --> work\n"
     ]
    }
   ],
   "source": [
    "for word in word2:\n",
    "    print(word, '-->', ls.stem(word))"
   ]
  },
  {
   "cell_type": "code",
   "execution_count": 46,
   "id": "1132a688-87f4-4e82-bcbc-ad2964d0ff01",
   "metadata": {},
   "outputs": [
    {
     "name": "stdout",
     "output_type": "stream",
     "text": [
      "big --> big\n",
      "biggest --> biggest\n",
      "bigger --> big\n"
     ]
    }
   ],
   "source": [
    "for word in word3:\n",
    "    print(word, '-->', ls.stem(word))"
   ]
  },
  {
   "cell_type": "code",
   "execution_count": 47,
   "id": "dc89023a-dbd1-431b-86d6-3245b3761de7",
   "metadata": {},
   "outputs": [
    {
     "name": "stdout",
     "output_type": "stream",
     "text": [
      "go --> go\n",
      "gone --> gon\n",
      "went --> went\n",
      "going --> going\n"
     ]
    }
   ],
   "source": [
    "for word in word4:\n",
    "    print(word, '-->', ls.stem(word))"
   ]
  },
  {
   "cell_type": "code",
   "execution_count": 48,
   "id": "087f9b92-95fa-4347-aec1-bf191f56c8cc",
   "metadata": {},
   "outputs": [
    {
     "name": "stdout",
     "output_type": "stream",
     "text": [
      "association --> assocy\n",
      "associated --> assocy\n",
      "associate --> assocy\n"
     ]
    }
   ],
   "source": [
    "for word in word5:\n",
    "    print(word, '-->', ls.stem(word))"
   ]
  },
  {
   "cell_type": "markdown",
   "id": "46ff7a42-1b18-421c-812d-28acab532d43",
   "metadata": {},
   "source": [
    "# Snowball stemmer"
   ]
  },
  {
   "cell_type": "code",
   "execution_count": 49,
   "id": "739fa31e-b810-4a98-920d-1e0d42569640",
   "metadata": {},
   "outputs": [],
   "source": [
    "from nltk.stem import SnowballStemmer"
   ]
  },
  {
   "cell_type": "code",
   "execution_count": 50,
   "id": "6790ebc3-ffb4-4eb3-98a2-b1d4b0caf6b3",
   "metadata": {},
   "outputs": [
    {
     "name": "stdout",
     "output_type": "stream",
     "text": [
      "Help on class SnowballStemmer in module nltk.stem.snowball:\n",
      "\n",
      "class SnowballStemmer(nltk.stem.api.StemmerI)\n",
      " |  SnowballStemmer(language, ignore_stopwords=False)\n",
      " |  \n",
      " |  Snowball Stemmer\n",
      " |  \n",
      " |  The following languages are supported:\n",
      " |  Arabic, Danish, Dutch, English, Finnish, French, German,\n",
      " |  Hungarian, Italian, Norwegian, Portuguese, Romanian, Russian,\n",
      " |  Spanish and Swedish.\n",
      " |  \n",
      " |  The algorithm for English is documented here:\n",
      " |  \n",
      " |      Porter, M. \"An algorithm for suffix stripping.\"\n",
      " |      Program 14.3 (1980): 130-137.\n",
      " |  \n",
      " |  The algorithms have been developed by Martin Porter.\n",
      " |  These stemmers are called Snowball, because Porter created\n",
      " |  a programming language with this name for creating\n",
      " |  new stemming algorithms. There is more information available\n",
      " |  at http://snowball.tartarus.org/\n",
      " |  \n",
      " |  The stemmer is invoked as shown below:\n",
      " |  \n",
      " |  >>> from nltk.stem import SnowballStemmer # See which languages are supported\n",
      " |  >>> print(\" \".join(SnowballStemmer.languages)) # doctest: +NORMALIZE_WHITESPACE\n",
      " |  arabic danish dutch english finnish french german hungarian\n",
      " |  italian norwegian porter portuguese romanian russian\n",
      " |  spanish swedish\n",
      " |  >>> stemmer = SnowballStemmer(\"german\") # Choose a language\n",
      " |  >>> stemmer.stem(\"Autobahnen\") # Stem a word\n",
      " |  'autobahn'\n",
      " |  \n",
      " |  Invoking the stemmers that way is useful if you do not know the\n",
      " |  language to be stemmed at runtime. Alternatively, if you already know\n",
      " |  the language, then you can invoke the language specific stemmer directly:\n",
      " |  \n",
      " |  >>> from nltk.stem.snowball import GermanStemmer\n",
      " |  >>> stemmer = GermanStemmer()\n",
      " |  >>> stemmer.stem(\"Autobahnen\")\n",
      " |  'autobahn'\n",
      " |  \n",
      " |  :param language: The language whose subclass is instantiated.\n",
      " |  :type language: str or unicode\n",
      " |  :param ignore_stopwords: If set to True, stopwords are\n",
      " |                           not stemmed and returned unchanged.\n",
      " |                           Set to False by default.\n",
      " |  :type ignore_stopwords: bool\n",
      " |  :raise ValueError: If there is no stemmer for the specified\n",
      " |                         language, a ValueError is raised.\n",
      " |  \n",
      " |  Method resolution order:\n",
      " |      SnowballStemmer\n",
      " |      nltk.stem.api.StemmerI\n",
      " |      builtins.object\n",
      " |  \n",
      " |  Methods defined here:\n",
      " |  \n",
      " |  __init__(self, language, ignore_stopwords=False)\n",
      " |      Initialize self.  See help(type(self)) for accurate signature.\n",
      " |  \n",
      " |  stem(self, token)\n",
      " |      Strip affixes from the token and return the stem.\n",
      " |      \n",
      " |      :param token: The token that should be stemmed.\n",
      " |      :type token: str\n",
      " |  \n",
      " |  ----------------------------------------------------------------------\n",
      " |  Data and other attributes defined here:\n",
      " |  \n",
      " |  __abstractmethods__ = frozenset()\n",
      " |  \n",
      " |  languages = ('arabic', 'danish', 'dutch', 'english', 'finnish', 'frenc...\n",
      " |  \n",
      " |  ----------------------------------------------------------------------\n",
      " |  Data descriptors inherited from nltk.stem.api.StemmerI:\n",
      " |  \n",
      " |  __dict__\n",
      " |      dictionary for instance variables\n",
      " |  \n",
      " |  __weakref__\n",
      " |      list of weak references to the object\n",
      "\n"
     ]
    }
   ],
   "source": [
    "help(SnowballStemmer)"
   ]
  },
  {
   "cell_type": "code",
   "execution_count": 51,
   "id": "78edc984-bb75-4aaf-b612-7899312f131c",
   "metadata": {},
   "outputs": [],
   "source": [
    "ss = SnowballStemmer(language='english')"
   ]
  },
  {
   "cell_type": "code",
   "execution_count": 52,
   "id": "e7eaa39d-a197-4dfa-bbfd-e4aea25b583b",
   "metadata": {},
   "outputs": [
    {
     "name": "stdout",
     "output_type": "stream",
     "text": [
      "managing --> manag\n",
      "manage --> manag\n",
      "managment --> manag\n",
      "managerial --> manageri\n",
      "managed --> manag\n"
     ]
    }
   ],
   "source": [
    "for word in word1:\n",
    "    print(word, '-->', ss.stem(word))"
   ]
  },
  {
   "cell_type": "code",
   "execution_count": 53,
   "id": "9663b461-c542-495d-b653-4516f667fb4f",
   "metadata": {},
   "outputs": [
    {
     "name": "stdout",
     "output_type": "stream",
     "text": [
      "worked --> work\n",
      "workable --> workabl\n",
      "working --> work\n",
      "worked --> work\n"
     ]
    }
   ],
   "source": [
    "for word in word2:\n",
    "    print(word, '-->', ss.stem(word))"
   ]
  },
  {
   "cell_type": "code",
   "execution_count": 54,
   "id": "8c66be71-82dd-4292-b401-63de5f6c30ba",
   "metadata": {},
   "outputs": [
    {
     "name": "stdout",
     "output_type": "stream",
     "text": [
      "big --> big\n",
      "biggest --> biggest\n",
      "bigger --> bigger\n"
     ]
    }
   ],
   "source": [
    "for word in word3:\n",
    "    print(word, '-->', ss.stem(word))"
   ]
  },
  {
   "cell_type": "code",
   "execution_count": 55,
   "id": "dd5b7313-523a-4b67-8987-cdb3430adfb5",
   "metadata": {},
   "outputs": [
    {
     "name": "stdout",
     "output_type": "stream",
     "text": [
      "go --> go\n",
      "gone --> gone\n",
      "went --> went\n",
      "going --> go\n"
     ]
    }
   ],
   "source": [
    "for word in word4:\n",
    "    print(word, '-->', ss.stem(word))"
   ]
  },
  {
   "cell_type": "code",
   "execution_count": 56,
   "id": "a4dd034f-fe60-40e5-ac44-fe3cacfb6fc3",
   "metadata": {},
   "outputs": [
    {
     "name": "stdout",
     "output_type": "stream",
     "text": [
      "association --> associ\n",
      "associated --> associ\n",
      "associate --> associ\n"
     ]
    }
   ],
   "source": [
    "for word in word5:\n",
    "    print(word, '-->', ss.stem(word))"
   ]
  },
  {
   "cell_type": "code",
   "execution_count": null,
   "id": "6e4f3de8-2b2f-446d-af56-d9feea15038b",
   "metadata": {},
   "outputs": [],
   "source": []
  }
 ],
 "metadata": {
  "kernelspec": {
   "display_name": "Python 3 (ipykernel)",
   "language": "python",
   "name": "python3"
  },
  "language_info": {
   "codemirror_mode": {
    "name": "ipython",
    "version": 3
   },
   "file_extension": ".py",
   "mimetype": "text/x-python",
   "name": "python",
   "nbconvert_exporter": "python",
   "pygments_lexer": "ipython3",
   "version": "3.11.8"
  }
 },
 "nbformat": 4,
 "nbformat_minor": 5
}
